{
 "cells": [
  {
   "cell_type": "markdown",
   "id": "0713b07f",
   "metadata": {},
   "source": [
    "1.“Write a function that returns the intersection of two arrays. The intersection is a third array that contains all values contained within the first two arrays. For example, the intersection of [1, 2, 3, 4, 5] and [0, 2, 4, 6, 8] is [2, 4]. Your function should have a complexity of O(N). (If your programming language has a built-in way of doing this, don’t use it. The idea is to build the algorithm yourself.)”\n"
   ]
  },
  {
   "cell_type": "code",
   "execution_count": 3,
   "id": "d9d49e0f",
   "metadata": {},
   "outputs": [],
   "source": [
    "def intersection(array1,array2):\n",
    "    array_3 = []\n",
    "    hash_table = {}\n",
    "    for value in array1:\n",
    "        hash_table[value] = True \n",
    "    \n",
    "    for value in array2 :\n",
    "        if hash_table.get(value):\n",
    "            array_3.append(value)\n",
    "    return array_3\n",
    "\n"
   ]
  },
  {
   "cell_type": "code",
   "execution_count": 4,
   "id": "5bfa65ad",
   "metadata": {},
   "outputs": [
    {
     "data": {
      "text/plain": [
       "[2, 4]"
      ]
     },
     "execution_count": 4,
     "metadata": {},
     "output_type": "execute_result"
    }
   ],
   "source": [
    "intersection([1,2,3,4,5],[0,2,4,6,8])"
   ]
  },
  {
   "cell_type": "markdown",
   "id": "4564e41c",
   "metadata": {},
   "source": [
    "2.“Write a function that accepts an array of strings and returns the first duplicate value it finds. For example, if the array is [\"a\", \"b\", \"c\", \"d\", \"c\", \"e\", \"f\"], the function should return \"c\", since it’s duplicated within the array. (You can assume that there’s one pair of duplicates within the array.) Make sure the function has an efficiency of O(N).”"
   ]
  },
  {
   "cell_type": "code",
   "execution_count": null,
   "id": "73cab8ca",
   "metadata": {},
   "outputs": [],
   "source": [
    "def duplicate_char(string):\n",
    "    hash_table = {}\n",
    "    for char in string :\n",
    "        if char not in hash_table:\n",
    "            hash_table[char] = 1\n",
    "        else :\n",
    "            return char\n"
   ]
  },
  {
   "cell_type": "code",
   "execution_count": 16,
   "id": "1a31bb7b",
   "metadata": {},
   "outputs": [
    {
     "data": {
      "text/plain": [
       "'c'"
      ]
     },
     "execution_count": 16,
     "metadata": {},
     "output_type": "execute_result"
    }
   ],
   "source": [
    "duplicate_char([\"a\",\"b\",\"c\",\"d\",\"c\",\"e\",\"f\"])"
   ]
  },
  {
   "cell_type": "markdown",
   "id": "6bbf0a21",
   "metadata": {},
   "source": [
    "3.“Write a function that accepts a string that contains all the letters of the alphabet except one and returns the missing letter. For example, the string, \"the quick brown box jumps over a lazy dog\" contains all the letters of the alphabet except the letter \"f\". The function should have a time complexity of O(N).”"
   ]
  },
  {
   "cell_type": "code",
   "execution_count": 27,
   "id": "e37adae2",
   "metadata": {},
   "outputs": [],
   "source": [
    "import string \n",
    "\n",
    "def missing_char(strings):\n",
    "    hash_table = {}\n",
    "    missing_letters = []\n",
    "    alphabets = list(string.ascii_lowercase)\n",
    "\n",
    "    for char in strings :\n",
    "        hash_table[char] = 1\n",
    "    \n",
    "    for char in alphabets:\n",
    "        if char not in hash_table:\n",
    "            missing_letters.append(char)\n",
    "    return missing_letters\n",
    "\n"
   ]
  },
  {
   "cell_type": "code",
   "execution_count": 30,
   "id": "e7780289",
   "metadata": {},
   "outputs": [
    {
     "data": {
      "text/plain": [
       "['f']"
      ]
     },
     "execution_count": 30,
     "metadata": {},
     "output_type": "execute_result"
    }
   ],
   "source": [
    "missing_char(\"the quick brown box jumps over a lazy dog\")"
   ]
  },
  {
   "cell_type": "markdown",
   "id": "197d85ef",
   "metadata": {},
   "source": [
    "4.“Write a function that returns the first non-duplicated character in a string. For example, the string, \"minimum\" has two characters that only exist once—the \"n\" and the \"u\", so your function should return the \"n\", since it occurs first. The function should have an efficiency of O(N).”\n"
   ]
  },
  {
   "cell_type": "code",
   "execution_count": 33,
   "id": "469539e5",
   "metadata": {},
   "outputs": [],
   "source": [
    "def non_duplicated(string):\n",
    "    hash_table = {}\n",
    "\n",
    "    for char in string:\n",
    "        if char not in hash_table :\n",
    "            hash_table[char] = 1 \n",
    "        else :\n",
    "            hash_table[char] = 2 \n",
    "    non_dupes = []\n",
    "    for key in hash_table:\n",
    "        if hash_table.get(key) == 1:\n",
    "            non_dupes.append(key)\n",
    "            \n",
    "        \n",
    "    return non_dupes\n"
   ]
  },
  {
   "cell_type": "code",
   "execution_count": 34,
   "id": "34b4b938",
   "metadata": {},
   "outputs": [
    {
     "data": {
      "text/plain": [
       "['n', 'u']"
      ]
     },
     "execution_count": 34,
     "metadata": {},
     "output_type": "execute_result"
    }
   ],
   "source": [
    "non_duplicated(\"minimum\")"
   ]
  }
 ],
 "metadata": {
  "kernelspec": {
   "display_name": ".venv",
   "language": "python",
   "name": "python3"
  },
  "language_info": {
   "codemirror_mode": {
    "name": "ipython",
    "version": 3
   },
   "file_extension": ".py",
   "mimetype": "text/x-python",
   "name": "python",
   "nbconvert_exporter": "python",
   "pygments_lexer": "ipython3",
   "version": "3.13.3"
  }
 },
 "nbformat": 4,
 "nbformat_minor": 5
}
