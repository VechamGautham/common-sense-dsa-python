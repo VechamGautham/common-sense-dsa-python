{
 "cells": [
  {
   "cell_type": "code",
   "execution_count": 2,
   "id": "b3002798",
   "metadata": {},
   "outputs": [],
   "source": [
    "thesaurus = {\"bad\":\"evil\",\"cab\":\"taxi\",\"ace\":\"star\"}\n"
   ]
  },
  {
   "cell_type": "code",
   "execution_count": 3,
   "id": "c50af41c",
   "metadata": {},
   "outputs": [
    {
     "data": {
      "text/plain": [
       "'evil'"
      ]
     },
     "execution_count": 3,
     "metadata": {},
     "output_type": "execute_result"
    }
   ],
   "source": [
    "thesaurus.get(\"bad\")"
   ]
  },
  {
   "cell_type": "code",
   "execution_count": 4,
   "id": "491e754b",
   "metadata": {},
   "outputs": [
    {
     "data": {
      "text/plain": [
       "'evil'"
      ]
     },
     "execution_count": 4,
     "metadata": {},
     "output_type": "execute_result"
    }
   ],
   "source": [
    "thesaurus[\"bad\"]"
   ]
  },
  {
   "cell_type": "code",
   "execution_count": 6,
   "id": "be93c2e4",
   "metadata": {},
   "outputs": [],
   "source": [
    "thesaurus[\"dab\"] = \"pat\""
   ]
  },
  {
   "cell_type": "code",
   "execution_count": 7,
   "id": "bbc4ba59",
   "metadata": {},
   "outputs": [
    {
     "data": {
      "text/plain": [
       "{'bad': 'evil', 'cab': 'taxi', 'ace': 'star', 'dab': 'pat'}"
      ]
     },
     "execution_count": 7,
     "metadata": {},
     "output_type": "execute_result"
    }
   ],
   "source": [
    "thesaurus"
   ]
  },
  {
   "cell_type": "markdown",
   "id": "4653e2c4",
   "metadata": {},
   "source": [
    "## CODE TO SOLVE COLLISION"
   ]
  },
  {
   "cell_type": "markdown",
   "id": "1f1f0930",
   "metadata": {},
   "source": [
    "<pre>\n",
    "def get_value(key):\n",
    "    index = hash_function(key)  # let's say it returns 8\n",
    "    for pair in table[index]:   # table[8] = [[\"bad\", \"evil\"], [\"dab\", \"pat\"]]\n",
    "        if pair[0] == key:\n",
    "            return pair[1]\n",
    "    return None\n",
    "    </pre>"
   ]
  },
  {
   "cell_type": "markdown",
   "id": "1e2be4fa",
   "metadata": {},
   "source": [
    "### 📐 Formula to Calculate Hash Table Cells Based on Ideal Load Factor\n",
    "\n",
    "To maintain an ideal **load factor** of **0.7**, use the following formula:\n",
    "\n",
    "$$\n",
    "\\text{cells} = \\left\\lceil \\frac{\\text{number of elements}}{0.7} \\right\\rceil\n",
    "$$\n",
    "\n",
    "Where:\n",
    "- **number of elements** = how many data entries you plan to store  \n",
    "- **cells** = how many buckets or slots the hash table should have  \n",
    "- \\( \\lceil \\ \\rceil \\) = ceiling function (rounds up to the nearest integer)"
   ]
  },
  {
   "cell_type": "code",
   "execution_count": 9,
   "id": "31ebde28",
   "metadata": {},
   "outputs": [],
   "source": [
    "# conditional logic without hash tables\n",
    "def status_code_meaning(number):\n",
    "    if number == 200 :\n",
    "        return \"OK\"\n",
    "    elif number == 301:\n",
    "        return \"Moved Permanently\"\n",
    "    elif number == 401:\n",
    "        return \"unauthorized\"\n",
    "    elif number == 404:\n",
    "        return \"Not found\"\n",
    "    elif number == 500:\n",
    "        return \"Internal server error\" "
   ]
  },
  {
   "cell_type": "code",
   "execution_count": 11,
   "id": "d08f297a",
   "metadata": {},
   "outputs": [],
   "source": [
    "# with hash tables eliminating conditional logic\n",
    "\n",
    "status_code = {\n",
    "    200:\"ok\",\n",
    "    301:\"Moved Permanently\",\n",
    "    401:\"unauthorized\",\n",
    "    404: \"not found\",\n",
    "    500: \"internal server error\"\n",
    "}\n",
    "def status_code_meaning(number):\n",
    "    return status_code.get(number)"
   ]
  },
  {
   "cell_type": "markdown",
   "id": "71d29d72",
   "metadata": {},
   "source": [
    "# ARRAY SUBSET "
   ]
  },
  {
   "cell_type": "code",
   "execution_count": 14,
   "id": "3be91e5f",
   "metadata": {},
   "outputs": [],
   "source": [
    "def is_subset(array1,array2):\n",
    "    # Determine which array is smaller :\n",
    "    if len(array1) > len(array2):\n",
    "        larger_array = array1\n",
    "        smaller_array = array2\n",
    "    else:\n",
    "        larger_array = array2\n",
    "        smaller_array = array1\n",
    "    \n",
    "    # Iterate through smaller array:\n",
    "    for i in smaller_array:\n",
    "\n",
    "        # Assume temporarily that the current value from \n",
    "        # smaller array si not foudn in larger array:\n",
    "        found_match = False \n",
    "\n",
    "        # For each value in smaller array, iterate through \n",
    "        # larger array :\n",
    "        for j in larger_array:\n",
    "\n",
    "            #if the two values are equal, it means that current \n",
    "            #value in smaller array is present in the larger array:\n",
    "            if i == j:\n",
    "                found_match = True\n",
    "                break \n",
    "            # if the current value n smaller array doesn't exist \n",
    "            # in larger array, return fasle:\n",
    "        if not found_match :\n",
    "                return False\n",
    "    # if we get to the end of the loops, it means that all \n",
    "    # values from smaller array are present in larger array:\n",
    "\n",
    "    return True"
   ]
  },
  {
   "cell_type": "code",
   "execution_count": null,
   "id": "6391ddf3",
   "metadata": {},
   "outputs": [
    {
     "data": {
      "text/plain": [
       "True"
      ]
     },
     "execution_count": 15,
     "metadata": {},
     "output_type": "execute_result"
    }
   ],
   "source": [
    "array1 = [\"a\", \"b\", \"c\", \"d\", \"e\", \"f\"]\n",
    "array2 = [\"b\", \"d\", \"f\"]\n",
    "is_subset(array1,array2)"
   ]
  },
  {
   "cell_type": "markdown",
   "id": "4ee4856f",
   "metadata": {},
   "source": [
    "O(N*M) is efficiency of is_subset without hash table"
   ]
  },
  {
   "cell_type": "markdown",
   "id": "ee56fc4a",
   "metadata": {},
   "source": [
    "# ARRAY SUBSET USING HASH TABLE"
   ]
  },
  {
   "cell_type": "code",
   "execution_count": 16,
   "id": "c735e2d2",
   "metadata": {},
   "outputs": [],
   "source": [
    "def is_subset(array1,array2):\n",
    "    if len(array1) >= len(array2):\n",
    "        smaller_array = array2\n",
    "        larger_array = array1\n",
    "    else:\n",
    "        smaller_array = array1\n",
    "        larger_array = array2\n",
    "    hash_table = {}\n",
    "\n",
    "    for key in larger_array:\n",
    "        hash_table[key] = True\n",
    "    \n",
    "    for value in smaller_array:\n",
    "        \n",
    "        if not hash_table.get(value):\n",
    "            return False \n",
    "    return True\n"
   ]
  },
  {
   "cell_type": "code",
   "execution_count": 17,
   "id": "86f8c987",
   "metadata": {},
   "outputs": [
    {
     "data": {
      "text/plain": [
       "True"
      ]
     },
     "execution_count": 17,
     "metadata": {},
     "output_type": "execute_result"
    }
   ],
   "source": [
    "array1 = [\"a\", \"b\", \"c\", \"d\", \"e\", \"f\"]\n",
    "array2 = [\"b\", \"d\", \"f\"]\n",
    "is_subset(array1,array2)"
   ]
  },
  {
   "cell_type": "markdown",
   "id": "3f6a0542",
   "metadata": {},
   "source": [
    "O(N) is the efficiency of is_subset with hash table"
   ]
  }
 ],
 "metadata": {
  "kernelspec": {
   "display_name": ".venv",
   "language": "python",
   "name": "python3"
  },
  "language_info": {
   "codemirror_mode": {
    "name": "ipython",
    "version": 3
   },
   "file_extension": ".py",
   "mimetype": "text/x-python",
   "name": "python",
   "nbconvert_exporter": "python",
   "pygments_lexer": "ipython3",
   "version": "3.13.3"
  }
 },
 "nbformat": 4,
 "nbformat_minor": 5
}
