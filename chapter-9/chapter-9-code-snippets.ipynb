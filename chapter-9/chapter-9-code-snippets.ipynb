{
 "cells": [
  {
   "cell_type": "markdown",
   "id": "52fc17c2",
   "metadata": {},
   "source": [
    "# STACK"
   ]
  },
  {
   "cell_type": "markdown",
   "id": "fcb18dce",
   "metadata": {},
   "source": [
    "# 📚 What is a Stack?\n",
    "\n",
    "A **stack** is an **abstract data type (ADT)** that follows the **LIFO** principle — **Last In, First Out**. This means the last item added to the stack is the first one to be removed.\n",
    "\n",
    "You can think of a stack like a pile of plates: you add new plates to the top and remove plates from the top only.\n",
    "\n",
    "---\n",
    "\n",
    "## ✅ Stack Operations\n",
    "\n",
    "- `push(item)` – Add an item to the top of the stack.\n",
    "- `pop()` – Remove and return the item at the top.\n",
    "- `peek()` – View the item at the top without removing it.\n",
    "- `is_empty()` – Check if the stack is empty.\n",
    "\n",
    "---\n",
    "\n",
    "## 💡 Real-World Example: Command + Z (Undo)\n",
    "\n",
    "The **Undo** feature (like pressing `Command + Z` on Mac or `Ctrl + Z` on Windows) is a classic use of a **stack**.\n",
    "\n",
    "Each user action (typing, deleting, formatting) is pushed onto a stack. When the user presses Undo:\n",
    "\n",
    "1. The most recent action is **popped** from the stack.\n",
    "2. That action is reversed.\n",
    "3. The user sees the previous state restored.\n",
    "\n",
    "This works perfectly with stack behavior because:\n",
    "- You always undo the **most recent action** first.\n",
    "- You don't need to track or understand earlier actions — only the last one.\n",
    "\n",
    "---\n",
    "\n",
    "## 🧪 Example in Python\n",
    "\n",
    "```python\n",
    "# Simple undo system using a stack\n",
    "\n",
    "undo_stack = []\n",
    "\n",
    "def perform_action(action):\n",
    "    print(f\"Performing: {action}\")\n",
    "    undo_stack.append(action)\n",
    "\n",
    "def undo():\n",
    "    if undo_stack:\n",
    "        last_action = undo_stack.pop()\n",
    "        print(f\"Undoing: {last_action}\")\n",
    "    else:\n",
    "        print(\"Nothing to undo.\")\n",
    "\n",
    "# Usage\n",
    "perform_action(\"Type 'Hello'\")\n",
    "perform_action(\"Delete 'o'\")\n",
    "undo()  # Undo Delete 'o'\n",
    "undo()  # Undo Type 'Hello'\n",
    "undo()  # Nothing to undo"
   ]
  },
  {
   "cell_type": "markdown",
   "id": "de03737c",
   "metadata": {},
   "source": [
    "# STACK IMPLEMENTATAION"
   ]
  },
  {
   "cell_type": "code",
   "execution_count": 7,
   "id": "ac4c90bd",
   "metadata": {},
   "outputs": [],
   "source": [
    "class Stack :\n",
    "    def __init__(self):\n",
    "        self.data = []\n",
    "    \n",
    "    def push(self,element):\n",
    "        self.data.append(element)\n",
    "    \n",
    "    def pop(self):\n",
    "        if len(self.data) > 0:\n",
    "            return self.data.pop()\n",
    "        else:\n",
    "            return None\n",
    "    \n",
    "    def read(self):\n",
    "        if len(self.data) > 0:\n",
    "            return self.data[-1]\n",
    "        else :\n",
    "            return None\n"
   ]
  },
  {
   "cell_type": "markdown",
   "id": "35c38915",
   "metadata": {},
   "source": [
    "# STACK-BASED CODE LINTER IN ACTION"
   ]
  },
  {
   "cell_type": "code",
   "execution_count": null,
   "id": "c3bc0326",
   "metadata": {},
   "outputs": [],
   "source": [
    "class Linter:\n",
    "    def __init__(self):\n",
    "        self.stack = Stack()\n",
    "\n",
    "    def lint(self,text):\n",
    "        while self.stack.read():\n",
    "            self.stack.pop()\n",
    "\n",
    "        matching_braces = {\"(\": \")\", \"[\": \"]\", \"{\": \"}\"} \n",
    "\n",
    "        for char in text :\n",
    "\n",
    "            if char in matching_braces.keys():\n",
    "                self.stack.push(char)\n",
    "            \n",
    "            elif char in matching_braces.values():\n",
    "                if not self.stack.read():\n",
    "                    return char + \" does not have an opening brace\"\n",
    "                \n",
    "                popped = self.stack.pop()\n",
    "\n",
    "                if matching_braces[popped] != char:\n",
    "                    return char + \"mismatch braces\"\n",
    "                \n",
    "        if self.stack.read():\n",
    "            return self.stack.read() + \" does not have a closing brace\"\n",
    "        \n",
    "        return True"
   ]
  },
  {
   "cell_type": "code",
   "execution_count": 36,
   "id": "a11caf8d",
   "metadata": {},
   "outputs": [
    {
     "data": {
      "text/plain": [
       "True"
      ]
     },
     "execution_count": 36,
     "metadata": {},
     "output_type": "execute_result"
    }
   ],
   "source": [
    "word = Linter()\n",
    "\n",
    "word.lint(\"(my name is { gautham } yadav)\")"
   ]
  },
  {
   "cell_type": "markdown",
   "id": "9111de7b",
   "metadata": {},
   "source": [
    "# QUEUES"
   ]
  },
  {
   "cell_type": "markdown",
   "id": "0370d76f",
   "metadata": {},
   "source": [
    "# 📚 What is a Queue?\n",
    "\n",
    "A **queue** is an **abstract data type (ADT)** used to process temporary data. It works much like a **line of people at a movie theater** — the first person to arrive is the first to be served.\n",
    "\n",
    "---\n",
    "\n",
    "## 🔁 Queue Order: FIFO\n",
    "\n",
    "Queues follow the **FIFO** principle:\n",
    "\n",
    "> **First In, First Out**\n",
    "\n",
    "This means:\n",
    "- The **first item** added to the queue is the **first item** to be removed.\n",
    "- It's the opposite of a **stack**, which uses LIFO (Last In, First Out).\n",
    "\n",
    "---\n",
    "\n",
    "## 🎭 Real-World Analogy\n",
    "\n",
    "Imagine you're standing in line to buy movie tickets:\n",
    "\n",
    "- New people join at the **back** of the line.\n",
    "- The person at the **front** of the line is served first.\n",
    "\n",
    "---\n",
    "\n",
    "## 📏 Queue Terminology\n",
    "\n",
    "- **Front**: The beginning of the queue — the next to be removed.\n",
    "- **Back**: The end of the queue — where new items are added.\n",
    "\n",
    "---\n",
    "\n",
    "## 🛠️ Queue Rules (Compared to Stack)\n",
    "\n",
    "Just like stacks, queues are often built using arrays (or lists), but they follow a **different set of restrictions**:\n",
    "\n",
    "1. ✅ **Data can be inserted only at the back** of the queue.  \n",
    "   _(Same as a stack — items go in at one end.)_\n",
    "\n",
    "2. ❌ **Data can be deleted only from the front** of the queue.  \n",
    "   _(Opposite of a stack, where deletion is from the top/back.)_\n",
    "\n",
    "3. 👁️ **Only the element at the front** can be read.  \n",
    "   _(Again, opposite of a stack where you read the top.)_\n",
    "\n",
    "---\n",
    "\n",
    "## ✅ Summary\n",
    "\n",
    "| Concept       | Queue                           | Stack                         |\n",
    "|---------------|----------------------------------|-------------------------------|\n",
    "| Order         | FIFO (First In, First Out)      | LIFO (Last In, First Out)     |\n",
    "| Insert at     | Back                            | Top                           |\n",
    "| Remove from   | Front                           | Top                           |\n",
    "| Read access   | Only front element              | Only top element              |\n",
    "\n",
    "---\n"
   ]
  },
  {
   "cell_type": "markdown",
   "id": "f936cdd9",
   "metadata": {},
   "source": [
    "# QUEUE IMPLEMENTATION"
   ]
  },
  {
   "cell_type": "code",
   "execution_count": null,
   "id": "4476e9e6",
   "metadata": {},
   "outputs": [],
   "source": [
    "class Queue:\n",
    "    def __init__(self):\n",
    "        self.data = []\n",
    "    \n",
    "    def enqueue(self,element):\n",
    "        self.data.append(element)\n",
    "    \n",
    "    def dequeue(self):\n",
    "        if len(self.data) > 0:\n",
    "            return self.data.pop(0)\n",
    "        else:\n",
    "            return None \n",
    "        \n",
    "    def read(self):\n",
    "        if len(self.data) > 0:\n",
    "            return self.data[0]\n",
    "        else:\n",
    "            return None"
   ]
  },
  {
   "cell_type": "markdown",
   "id": "a5d00fc7",
   "metadata": {},
   "source": [
    "# QUEUES IN ACTION"
   ]
  },
  {
   "cell_type": "code",
   "execution_count": 39,
   "id": "f1f7b868",
   "metadata": {},
   "outputs": [],
   "source": [
    "class PrintManager:\n",
    "    def __init__(self):\n",
    "        self.queue = Queue()\n",
    "    \n",
    "    def queue_print_job(self,document):\n",
    "        self.queue.enqueue(document)\n",
    "    \n",
    "    def run(self):\n",
    "        while self.queue.read():\n",
    "            self.print_document(self.queue.dequeue())\n",
    "    \n",
    "    def print_document(self,document):\n",
    "        # Code to run the actual printer goes here.\n",
    "        # For demo pruposes, we'll pirnt to the terminal:\n",
    "        print(document)"
   ]
  },
  {
   "cell_type": "code",
   "execution_count": 40,
   "id": "879374a6",
   "metadata": {},
   "outputs": [
    {
     "name": "stdout",
     "output_type": "stream",
     "text": [
      "Third Document\n",
      "Second Document\n",
      "Frist Document\n"
     ]
    }
   ],
   "source": [
    "print_manager = PrintManager()\n",
    "\n",
    "print_manager.queue_print_job(\"Frist Document\")\n",
    "print_manager.queue_print_job(\"Second Document\")\n",
    "print_manager.queue_print_job(\"Third Document\")\n",
    "\n",
    "print_manager.run()"
   ]
  }
 ],
 "metadata": {
  "kernelspec": {
   "display_name": ".venv",
   "language": "python",
   "name": "python3"
  },
  "language_info": {
   "codemirror_mode": {
    "name": "ipython",
    "version": 3
   },
   "file_extension": ".py",
   "mimetype": "text/x-python",
   "name": "python",
   "nbconvert_exporter": "python",
   "pygments_lexer": "ipython3",
   "version": "3.13.3"
  }
 },
 "nbformat": 4,
 "nbformat_minor": 5
}
