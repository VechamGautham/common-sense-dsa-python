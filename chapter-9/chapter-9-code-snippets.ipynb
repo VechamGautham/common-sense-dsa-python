{
 "cells": [
  {
   "cell_type": "markdown",
   "id": "52fc17c2",
   "metadata": {},
   "source": [
    "# STACK"
   ]
  },
  {
   "cell_type": "code",
   "execution_count": null,
   "id": "ac4c90bd",
   "metadata": {},
   "outputs": [],
   "source": [
    "class stack :\n",
    "    def __init__(self):\n",
    "        self.data = []\n",
    "    \n",
    "    def push(self,element):\n",
    "        self.data.append(element)\n",
    "    \n",
    "    def pop(self):\n",
    "        if len(self.data) > 0:\n",
    "            return self.data.pop()\n",
    "        else:\n",
    "            return None\n",
    "    \n",
    "    def read(self):\n",
    "        if len(self.data) > 0:\n",
    "            return self.data[-1]\n",
    "        else :\n",
    "            return None\n"
   ]
  }
 ],
 "metadata": {
  "kernelspec": {
   "display_name": ".venv",
   "language": "python",
   "name": "python3"
  },
  "language_info": {
   "name": "python",
   "version": "3.13.3"
  }
 },
 "nbformat": 4,
 "nbformat_minor": 5
}
