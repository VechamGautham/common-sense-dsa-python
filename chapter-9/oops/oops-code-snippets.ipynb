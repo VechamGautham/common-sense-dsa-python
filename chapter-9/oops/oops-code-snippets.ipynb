{
 "cells": [
  {
   "cell_type": "markdown",
   "id": "8ccf155f",
   "metadata": {},
   "source": [
    "# 🧠 OOP in Python – Snippets for DSA\n",
    "\n",
    "This notebook contains Object-Oriented Programming (OOP) basics I’m learning to support **Chapter 9 onwards** of  \n",
    "*A Common-Sense Guide to DSA in Python* (which starts using OOP concepts).\n",
    "\n",
    "I’m learning OOP using:\n",
    "- 📘 *Python Crash Course* by Eric Matthes\n",
    "- 🧠 Simple hands-on examples with comments\n",
    "\n",
    "---\n",
    "\n",
    "## 📌 Purpose\n",
    "- Understand OOP concepts like **class**, **object**, **method**, and **variable**\n",
    "- Build confidence before using OOP in DSA implementations\n",
    "- Serve as quick reference for myself and others\n",
    "\n",
    "---\n",
    "\n",
    "## 🧾 Quick Glossary\n",
    "\n",
    "| Term     | Meaning                          |\n",
    "|----------|----------------------------------|\n",
    "| `class`  | Blueprint or design of an object |\n",
    "| `object` | Actual item made from a class    |\n",
    "| `method` | Function inside a class          |\n",
    "| `self`   | Refers to the current object     |\n",
    "\n",
    "---\n",
    "\n",
    "Let’s start simple and build up 🔧"
   ]
  },
  {
   "cell_type": "markdown",
   "id": "61c831a4",
   "metadata": {},
   "source": [
    "# CREATING THE DOG CLASS"
   ]
  },
  {
   "cell_type": "code",
   "execution_count": 15,
   "id": "15290cb7",
   "metadata": {},
   "outputs": [],
   "source": [
    "class Dog:\n",
    "\n",
    "    \"\"\"a simple attempt to model a dog\"\"\"\n",
    "\n",
    "    def __init__(self,name,age):\n",
    "        \"\"\"Initialize name and age attributes\"\"\"\n",
    "\n",
    "        self.name = name\n",
    "        self.age = age \n",
    "\n",
    "    def sit(self):\n",
    "            \"\"\"simulate a dog sitting in response to a command\"\"\"\n",
    "            print(f\"{self.name} is now sitting\")\n",
    "        \n",
    "    def roll(self):\n",
    "            \"\"\"simulate a dog rolling in response to a command\"\"\"\n",
    "            print(f\"{self.name} rolled over\")"
   ]
  },
  {
   "cell_type": "markdown",
   "id": "a19d3697",
   "metadata": {},
   "source": [
    "## 🧠 Quick Note: Instance, Object, and `self`\n",
    "\n",
    "- **Instance** and **Object** mean the **same thing** in Python.  \n",
    "  Creating an object like `dog1 = Dog(\"Bruno\")` means you're creating an **instance** of the `Dog` class.\n",
    "\n",
    "- **`self`** refers to the **current object**.  \n",
    "  It tells Python to store or access data **inside that specific object**.\n",
    "\n",
    "Example:\n",
    "```python\n",
    "class Dog:\n",
    "    def __init__(self, name):\n",
    "        self.name = name  # stored in this object\n",
    "\n",
    "dog1 = Dog(\"Bruno\")  # Bruno is stored in dog1"
   ]
  },
  {
   "cell_type": "code",
   "execution_count": 12,
   "id": "686b0350",
   "metadata": {},
   "outputs": [
    {
     "name": "stdout",
     "output_type": "stream",
     "text": [
      "My dog's name is willie\n",
      "my dog age is 6 years old\n"
     ]
    }
   ],
   "source": [
    "my_dog = Dog(\"willie\",6)\n",
    "print(f\"My dog's name is {my_dog.name}\")\n",
    "print(f\"my dog age is {my_dog.age} years old\")"
   ]
  },
  {
   "cell_type": "code",
   "execution_count": 18,
   "id": "45b2950c",
   "metadata": {},
   "outputs": [
    {
     "name": "stdout",
     "output_type": "stream",
     "text": [
      "willie is now sitting\n",
      "willie rolled over\n"
     ]
    }
   ],
   "source": [
    "my_dog = Dog(\"willie\",6)\n",
    "my_dog.sit()\n",
    "my_dog.roll()"
   ]
  },
  {
   "cell_type": "markdown",
   "id": "7bcdf37b",
   "metadata": {},
   "source": [
    "### 🧠 Understanding `__init__()` and `self`\n",
    "\n",
    "- The `__init__()` method is used to **store data (attributes)** inside an object when it is created.\n",
    "- The `self` keyword connects that data to the **specific object** being created.\n",
    "\n",
    "> ✅ `__init__()` stores the data, and `self` connects that data to the specific object being created (like `dog1`).\n",
    "\n",
    "This allows other methods in the class to access and use that data later."
   ]
  },
  {
   "cell_type": "markdown",
   "id": "bd064036",
   "metadata": {},
   "source": [
    "## Creating multiple instances"
   ]
  },
  {
   "cell_type": "code",
   "execution_count": 19,
   "id": "b12ecc18",
   "metadata": {},
   "outputs": [
    {
     "name": "stdout",
     "output_type": "stream",
     "text": [
      "My dog's name is Willie.\n",
      "My dog is 6 years old.\n",
      "Willie is now sitting\n",
      "\n",
      "Your dog's name is Lucy.\n",
      "Your dog is 3 years old.\n",
      "Lucy is now sitting\n"
     ]
    }
   ],
   "source": [
    "my_dog = Dog('Willie', 6)\n",
    "your_dog = Dog('Lucy', 3)\n",
    "print(f\"My dog's name is {my_dog.name}.\")\n",
    "print(f\"My dog is {my_dog.age} years old.\")\n",
    "my_dog.sit()\n",
    "print(f\"\\nYour dog's name is {your_dog.name}.\")\n",
    "print(f\"Your dog is {your_dog.age} years old.\")\n",
    "your_dog.sit()"
   ]
  },
  {
   "cell_type": "markdown",
   "id": "9ad6c264",
   "metadata": {},
   "source": [
    "# TRY IT YOURSELF"
   ]
  },
  {
   "cell_type": "markdown",
   "id": "ace27cb7",
   "metadata": {},
   "source": [
    "9-1. Restaurant: Make a class called Restaurant. The __init__() method for\n",
    "Restaurant should store two attributes: a restaurant_name and a cuisine_type.\n",
    "Make a method called describe_restaurant() that prints these two pieces of\n",
    "information, and a method called open_restaurant() that prints a message indi-\n",
    "cating that the restaurant is open."
   ]
  },
  {
   "cell_type": "code",
   "execution_count": 26,
   "id": "578248d2",
   "metadata": {},
   "outputs": [
    {
     "name": "stdout",
     "output_type": "stream",
     "text": [
      "taj,idli\n",
      " the taj has a special cusine called idli\n",
      "taj is open now\n"
     ]
    }
   ],
   "source": [
    "class Restaurant:\n",
    "    def __init__(self,restaurant_name,cuisine_type):\n",
    "        self.restaurant_name = restaurant_name\n",
    "        self.cuisine_type = cuisine_type \n",
    "    \n",
    "    def describe_restaurant(self):\n",
    "        print(f\" the {self.restaurant_name} has a special cusine called {self.cuisine_type}\")\n",
    "    def open_restaurant(self):\n",
    "        print(f\"{self.restaurant_name} is open now\")\n",
    "\n",
    "restaurant = Restaurant(\"taj\",\"idli\")\n",
    "print(f\"{restaurant.restaurant_name},{restaurant.cuisine_type}\")\n",
    "restaurant.describe_restaurant()\n",
    "restaurant.open_restaurant()"
   ]
  },
  {
   "cell_type": "markdown",
   "id": "b554fac3",
   "metadata": {},
   "source": [
    "9-2. Three Restaurants: Start with your class from Exercise 9-1. Create three\n",
    "different instances from the class, and call describe_restaurant() for each\n",
    "instance."
   ]
  },
  {
   "cell_type": "code",
   "execution_count": 27,
   "id": "a7068eb5",
   "metadata": {},
   "outputs": [
    {
     "name": "stdout",
     "output_type": "stream",
     "text": [
      " the kfc has a special cusine called chicken fry\n",
      " the burger king has a special cusine called veg burger\n",
      " the mcdonalds has a special cusine called smoothe\n"
     ]
    }
   ],
   "source": [
    "res_1 = Restaurant(\"kfc\",\"chicken fry\")\n",
    "res_2 = Restaurant(\"burger king\",\"veg burger\")\n",
    "res_3 = Restaurant(\"mcdonalds\",\"smoothe\")\n",
    "\n",
    "res_1.describe_restaurant()\n",
    "res_2.describe_restaurant()\n",
    "res_3.describe_restaurant()"
   ]
  },
  {
   "cell_type": "markdown",
   "id": "2e2d3241",
   "metadata": {},
   "source": [
    "9-3. Users: Make a class called User. Create two attributes called first_name\n",
    "and last_name, and then create several other attributes that are typically stored\n",
    "in a user profile. Make a method called describe_user() that prints a summary\n",
    "of the user’s information. Make another method called greet_user() that prints\n",
    "a personalized greeting to the user.\n",
    "Create several instances representing different users, and call both meth-\n",
    "ods for each user."
   ]
  },
  {
   "cell_type": "code",
   "execution_count": 32,
   "id": "7f52b71b",
   "metadata": {},
   "outputs": [],
   "source": [
    "class User :\n",
    "    def __init__(self,first_name,last_name):\n",
    "        self.first_name = first_name\n",
    "        self.last_name = last_name\n",
    "    \n",
    "    def describe_user(self):\n",
    "        print(f\"the user full  name is {self.first_name} {self.last_name}\")\n",
    "    \n",
    "    def greet_user(self):\n",
    "        print(f\" good afternoon {self.first_name}\")\n",
    "    "
   ]
  },
  {
   "cell_type": "code",
   "execution_count": 33,
   "id": "e2515e5d",
   "metadata": {},
   "outputs": [
    {
     "name": "stdout",
     "output_type": "stream",
     "text": [
      "the user full  name is micheal deming\n",
      " good afternoon micheal\n"
     ]
    }
   ],
   "source": [
    "user_1 = User(\"micheal\",\"deming\")\n",
    "user_1.describe_user()\n",
    "user_1.greet_user()\n"
   ]
  },
  {
   "cell_type": "code",
   "execution_count": 34,
   "id": "1f73e41b",
   "metadata": {},
   "outputs": [
    {
     "name": "stdout",
     "output_type": "stream",
     "text": [
      "the user full  name is bradd pitt\n",
      " good afternoon bradd\n"
     ]
    }
   ],
   "source": [
    "user_2 = User(\"bradd\",\"pitt\")\n",
    "user_2.describe_user()\n",
    "user_2.greet_user()\n"
   ]
  },
  {
   "cell_type": "markdown",
   "id": "f83efe59",
   "metadata": {},
   "source": [
    "# WORKING WITH CLASSES AND INSTANCES"
   ]
  },
  {
   "cell_type": "markdown",
   "id": "7bce9d8d",
   "metadata": {},
   "source": [
    "## The Car Class"
   ]
  },
  {
   "cell_type": "code",
   "execution_count": 36,
   "id": "ffccf696",
   "metadata": {},
   "outputs": [],
   "source": [
    "class Car:\n",
    "    \"\"\" a simple attempt to represent a car\"\"\"\n",
    "\n",
    "    def __init__(self,make,model,year):\n",
    "        self.make = make \n",
    "        self.model = model \n",
    "        self.year = year \n",
    "\n",
    "    def get_descriptive_name(self):\n",
    "        \"\"\"Return a neatly formattted descriptive name.\"\"\" \n",
    "        long_name = f\"{self.year} {self.make} {self.model}\"\n",
    "\n",
    "        return long_name.title()       "
   ]
  },
  {
   "cell_type": "code",
   "execution_count": 40,
   "id": "76093b39",
   "metadata": {},
   "outputs": [
    {
     "name": "stdout",
     "output_type": "stream",
     "text": [
      "2024 Audi A4\n"
     ]
    }
   ],
   "source": [
    "my_new_car = Car('audi', 'a4', 2024)\n",
    "print(my_new_car.get_descriptive_name())"
   ]
  },
  {
   "cell_type": "markdown",
   "id": "9c39147d",
   "metadata": {},
   "source": [
    "## Setting a Default Value for an Attribute"
   ]
  },
  {
   "cell_type": "code",
   "execution_count": 38,
   "id": "ff24ff27",
   "metadata": {},
   "outputs": [],
   "source": [
    "class Car:\n",
    "    \"\"\" a simple attempt to represent a car\"\"\"\n",
    "\n",
    "    def __init__(self,make,model,year):\n",
    "        self.make = make \n",
    "        self.model = model \n",
    "        self.year = year \n",
    "        self.odometer_reading = 0\n",
    "\n",
    "    def get_descriptive_name(self):\n",
    "        \"\"\"Return a neatly formattted descriptive name.\"\"\" \n",
    "        long_name = f\"{self.year} {self.make} {self.model}\"\n",
    "\n",
    "        return long_name.title() \n",
    "    \n",
    "    def read_odometer(self):\n",
    "        \"\"\"Print a statement shwoign the car's mileage\"\"\"\n",
    "        print(f\"This car has {self.odometer_reading} miles on it\")"
   ]
  },
  {
   "cell_type": "code",
   "execution_count": 41,
   "id": "740499b8",
   "metadata": {},
   "outputs": [
    {
     "name": "stdout",
     "output_type": "stream",
     "text": [
      "This car has 0 miles on it\n"
     ]
    }
   ],
   "source": [
    "my_new_car.read_odometer()"
   ]
  },
  {
   "cell_type": "markdown",
   "id": "97d68565",
   "metadata": {},
   "source": [
    "## Modifying attribute values"
   ]
  },
  {
   "cell_type": "code",
   "execution_count": 42,
   "id": "26f393c0",
   "metadata": {},
   "outputs": [
    {
     "name": "stdout",
     "output_type": "stream",
     "text": [
      "This car has 23 miles on it\n"
     ]
    }
   ],
   "source": [
    "my_new_car.odometer_reading = 23 \n",
    "my_new_car.read_odometer()"
   ]
  },
  {
   "cell_type": "code",
   "execution_count": null,
   "id": "c1cc7c82",
   "metadata": {},
   "outputs": [],
   "source": []
  }
 ],
 "metadata": {
  "kernelspec": {
   "display_name": ".venv",
   "language": "python",
   "name": "python3"
  },
  "language_info": {
   "codemirror_mode": {
    "name": "ipython",
    "version": 3
   },
   "file_extension": ".py",
   "mimetype": "text/x-python",
   "name": "python",
   "nbconvert_exporter": "python",
   "pygments_lexer": "ipython3",
   "version": "3.13.3"
  }
 },
 "nbformat": 4,
 "nbformat_minor": 5
}
