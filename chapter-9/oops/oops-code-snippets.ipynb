{
 "cells": [
  {
   "cell_type": "markdown",
   "id": "8ccf155f",
   "metadata": {},
   "source": [
    "# 🧠 OOP in Python – Snippets for DSA\n",
    "\n",
    "This notebook contains Object-Oriented Programming (OOP) basics I’m learning to support **Chapter 9 onwards** of  \n",
    "*A Common-Sense Guide to DSA in Python* (which starts using OOP concepts).\n",
    "\n",
    "I’m learning OOP using:\n",
    "- 📘 *Python Crash Course* by Eric Matthes\n",
    "- 🧠 Simple hands-on examples with comments\n",
    "\n",
    "---\n",
    "\n",
    "## 📌 Purpose\n",
    "- Understand OOP concepts like **class**, **object**, **method**, and **variable**\n",
    "- Build confidence before using OOP in DSA implementations\n",
    "- Serve as quick reference for myself and others\n",
    "\n",
    "---\n",
    "\n",
    "## 🧾 Quick Glossary\n",
    "\n",
    "| Term     | Meaning                          |\n",
    "|----------|----------------------------------|\n",
    "| `class`  | Blueprint or design of an object |\n",
    "| `object` | Actual item made from a class    |\n",
    "| `method` | Function inside a class          |\n",
    "| `self`   | Refers to the current object     |\n",
    "\n",
    "---\n",
    "\n",
    "Let’s start simple and build up 🔧\n",
    "\n",
    "---\n",
    "\n",
    "### 📝 Note\n",
    "\n",
    "Some print statements or examples in this notebook may seem simple or uncreative — and that's okay!  \n",
    "The goal here is not to build something fancy, but to **explore what I can do with classes** and how OOP works in practice.\n",
    "\n",
    "This notebook is part of my effort to build a strong foundation in Object-Oriented Programming before applying it to Data Structures and Algorithms in later chapters.\n",
    "\n",
    "✅ It’s all about learning by doing!"
   ]
  },
  {
   "cell_type": "markdown",
   "id": "61c831a4",
   "metadata": {},
   "source": [
    "# CREATING THE DOG CLASS"
   ]
  },
  {
   "cell_type": "code",
   "execution_count": 15,
   "id": "15290cb7",
   "metadata": {},
   "outputs": [],
   "source": [
    "class Dog:\n",
    "\n",
    "    \"\"\"a simple attempt to model a dog\"\"\"\n",
    "\n",
    "    def __init__(self,name,age):\n",
    "        \"\"\"Initialize name and age attributes\"\"\"\n",
    "\n",
    "        self.name = name\n",
    "        self.age = age \n",
    "\n",
    "    def sit(self):\n",
    "            \"\"\"simulate a dog sitting in response to a command\"\"\"\n",
    "            print(f\"{self.name} is now sitting\")\n",
    "        \n",
    "    def roll(self):\n",
    "            \"\"\"simulate a dog rolling in response to a command\"\"\"\n",
    "            print(f\"{self.name} rolled over\")"
   ]
  },
  {
   "cell_type": "markdown",
   "id": "a19d3697",
   "metadata": {},
   "source": [
    "## 🧠 Quick Note: Instance, Object, and `self`\n",
    "\n",
    "- **Instance** and **Object** mean the **same thing** in Python.  \n",
    "  Creating an object like `dog1 = Dog(\"Bruno\")` means you're creating an **instance** of the `Dog` class.\n",
    "\n",
    "- **`self`** refers to the **current object**.  \n",
    "  It tells Python to store or access data **inside that specific object**.\n",
    "\n",
    "Example:\n",
    "```python\n",
    "class Dog:\n",
    "    def __init__(self, name):\n",
    "        self.name = name  # stored in this object\n",
    "\n",
    "dog1 = Dog(\"Bruno\")  # Bruno is stored in dog1"
   ]
  },
  {
   "cell_type": "code",
   "execution_count": 12,
   "id": "686b0350",
   "metadata": {},
   "outputs": [
    {
     "name": "stdout",
     "output_type": "stream",
     "text": [
      "My dog's name is willie\n",
      "my dog age is 6 years old\n"
     ]
    }
   ],
   "source": [
    "my_dog = Dog(\"willie\",6)\n",
    "print(f\"My dog's name is {my_dog.name}\")\n",
    "print(f\"my dog age is {my_dog.age} years old\")"
   ]
  },
  {
   "cell_type": "code",
   "execution_count": 18,
   "id": "45b2950c",
   "metadata": {},
   "outputs": [
    {
     "name": "stdout",
     "output_type": "stream",
     "text": [
      "willie is now sitting\n",
      "willie rolled over\n"
     ]
    }
   ],
   "source": [
    "my_dog = Dog(\"willie\",6)\n",
    "my_dog.sit()\n",
    "my_dog.roll()"
   ]
  },
  {
   "cell_type": "markdown",
   "id": "7bcdf37b",
   "metadata": {},
   "source": [
    "### 🧠 Understanding `__init__()` and `self`\n",
    "\n",
    "- The `__init__()` method is used to **store data (attributes)** inside an object when it is created.\n",
    "- The `self` keyword connects that data to the **specific object** being created.\n",
    "\n",
    "> ✅ `__init__()` stores the data, and `self` connects that data to the specific object being created (like `dog1`).\n",
    "\n",
    "This allows other methods in the class to access and use that data later."
   ]
  },
  {
   "cell_type": "markdown",
   "id": "bd064036",
   "metadata": {},
   "source": [
    "## Creating multiple instances"
   ]
  },
  {
   "cell_type": "code",
   "execution_count": 19,
   "id": "b12ecc18",
   "metadata": {},
   "outputs": [
    {
     "name": "stdout",
     "output_type": "stream",
     "text": [
      "My dog's name is Willie.\n",
      "My dog is 6 years old.\n",
      "Willie is now sitting\n",
      "\n",
      "Your dog's name is Lucy.\n",
      "Your dog is 3 years old.\n",
      "Lucy is now sitting\n"
     ]
    }
   ],
   "source": [
    "my_dog = Dog('Willie', 6)\n",
    "your_dog = Dog('Lucy', 3)\n",
    "print(f\"My dog's name is {my_dog.name}.\")\n",
    "print(f\"My dog is {my_dog.age} years old.\")\n",
    "my_dog.sit()\n",
    "print(f\"\\nYour dog's name is {your_dog.name}.\")\n",
    "print(f\"Your dog is {your_dog.age} years old.\")\n",
    "your_dog.sit()"
   ]
  },
  {
   "cell_type": "markdown",
   "id": "9ad6c264",
   "metadata": {},
   "source": [
    "# TRY IT YOURSELF"
   ]
  },
  {
   "cell_type": "markdown",
   "id": "ace27cb7",
   "metadata": {},
   "source": [
    "9-1. Restaurant: Make a class called Restaurant. The __init__() method for\n",
    "Restaurant should store two attributes: a restaurant_name and a cuisine_type.\n",
    "Make a method called describe_restaurant() that prints these two pieces of\n",
    "information, and a method called open_restaurant() that prints a message indi-\n",
    "cating that the restaurant is open."
   ]
  },
  {
   "cell_type": "code",
   "execution_count": 26,
   "id": "578248d2",
   "metadata": {},
   "outputs": [
    {
     "name": "stdout",
     "output_type": "stream",
     "text": [
      "taj,idli\n",
      " the taj has a special cusine called idli\n",
      "taj is open now\n"
     ]
    }
   ],
   "source": [
    "class Restaurant:\n",
    "    def __init__(self,restaurant_name,cuisine_type):\n",
    "        self.restaurant_name = restaurant_name\n",
    "        self.cuisine_type = cuisine_type \n",
    "    \n",
    "    def describe_restaurant(self):\n",
    "        print(f\" the {self.restaurant_name} has a special cusine called {self.cuisine_type}\")\n",
    "    def open_restaurant(self):\n",
    "        print(f\"{self.restaurant_name} is open now\")\n",
    "\n",
    "restaurant = Restaurant(\"taj\",\"idli\")\n",
    "print(f\"{restaurant.restaurant_name},{restaurant.cuisine_type}\")\n",
    "restaurant.describe_restaurant()\n",
    "restaurant.open_restaurant()"
   ]
  },
  {
   "cell_type": "markdown",
   "id": "b554fac3",
   "metadata": {},
   "source": [
    "9-2. Three Restaurants: Start with your class from Exercise 9-1. Create three\n",
    "different instances from the class, and call describe_restaurant() for each\n",
    "instance."
   ]
  },
  {
   "cell_type": "code",
   "execution_count": 27,
   "id": "a7068eb5",
   "metadata": {},
   "outputs": [
    {
     "name": "stdout",
     "output_type": "stream",
     "text": [
      " the kfc has a special cusine called chicken fry\n",
      " the burger king has a special cusine called veg burger\n",
      " the mcdonalds has a special cusine called smoothe\n"
     ]
    }
   ],
   "source": [
    "res_1 = Restaurant(\"kfc\",\"chicken fry\")\n",
    "res_2 = Restaurant(\"burger king\",\"veg burger\")\n",
    "res_3 = Restaurant(\"mcdonalds\",\"smoothe\")\n",
    "\n",
    "res_1.describe_restaurant()\n",
    "res_2.describe_restaurant()\n",
    "res_3.describe_restaurant()"
   ]
  },
  {
   "cell_type": "markdown",
   "id": "2e2d3241",
   "metadata": {},
   "source": [
    "9-3. Users: Make a class called User. Create two attributes called first_name\n",
    "and last_name, and then create several other attributes that are typically stored\n",
    "in a user profile. Make a method called describe_user() that prints a summary\n",
    "of the user’s information. Make another method called greet_user() that prints\n",
    "a personalized greeting to the user.\n",
    "Create several instances representing different users, and call both meth-\n",
    "ods for each user."
   ]
  },
  {
   "cell_type": "code",
   "execution_count": 32,
   "id": "7f52b71b",
   "metadata": {},
   "outputs": [],
   "source": [
    "class User :\n",
    "    def __init__(self,first_name,last_name):\n",
    "        self.first_name = first_name\n",
    "        self.last_name = last_name\n",
    "    \n",
    "    def describe_user(self):\n",
    "        print(f\"the user full  name is {self.first_name} {self.last_name}\")\n",
    "    \n",
    "    def greet_user(self):\n",
    "        print(f\" good afternoon {self.first_name}\")\n",
    "    "
   ]
  },
  {
   "cell_type": "code",
   "execution_count": 33,
   "id": "e2515e5d",
   "metadata": {},
   "outputs": [
    {
     "name": "stdout",
     "output_type": "stream",
     "text": [
      "the user full  name is micheal deming\n",
      " good afternoon micheal\n"
     ]
    }
   ],
   "source": [
    "user_1 = User(\"micheal\",\"deming\")\n",
    "user_1.describe_user()\n",
    "user_1.greet_user()\n"
   ]
  },
  {
   "cell_type": "code",
   "execution_count": 34,
   "id": "1f73e41b",
   "metadata": {},
   "outputs": [
    {
     "name": "stdout",
     "output_type": "stream",
     "text": [
      "the user full  name is bradd pitt\n",
      " good afternoon bradd\n"
     ]
    }
   ],
   "source": [
    "user_2 = User(\"bradd\",\"pitt\")\n",
    "user_2.describe_user()\n",
    "user_2.greet_user()\n"
   ]
  },
  {
   "cell_type": "markdown",
   "id": "f83efe59",
   "metadata": {},
   "source": [
    "# WORKING WITH CLASSES AND INSTANCES"
   ]
  },
  {
   "cell_type": "markdown",
   "id": "7bce9d8d",
   "metadata": {},
   "source": [
    "## The Car Class"
   ]
  },
  {
   "cell_type": "code",
   "execution_count": 36,
   "id": "ffccf696",
   "metadata": {},
   "outputs": [],
   "source": [
    "class Car:\n",
    "    \"\"\" a simple attempt to represent a car\"\"\"\n",
    "\n",
    "    def __init__(self,make,model,year):\n",
    "        self.make = make \n",
    "        self.model = model \n",
    "        self.year = year \n",
    "\n",
    "    def get_descriptive_name(self):\n",
    "        \"\"\"Return a neatly formattted descriptive name.\"\"\" \n",
    "        long_name = f\"{self.year} {self.make} {self.model}\"\n",
    "\n",
    "        return long_name.title()       "
   ]
  },
  {
   "cell_type": "code",
   "execution_count": null,
   "id": "76093b39",
   "metadata": {},
   "outputs": [
    {
     "name": "stdout",
     "output_type": "stream",
     "text": [
      "2024 Audi A4\n"
     ]
    }
   ],
   "source": [
    "my_new_car = Car('audi', 'a4', 2024)\n",
    "print(my_new_car.get_descriptive_name())"
   ]
  },
  {
   "cell_type": "markdown",
   "id": "9c39147d",
   "metadata": {},
   "source": [
    "## Setting a Default Value for an Attribute"
   ]
  },
  {
   "cell_type": "code",
   "execution_count": 38,
   "id": "ff24ff27",
   "metadata": {},
   "outputs": [],
   "source": [
    "class Car:\n",
    "    \"\"\" a simple attempt to represent a car\"\"\"\n",
    "\n",
    "    def __init__(self,make,model,year):\n",
    "        self.make = make \n",
    "        self.model = model \n",
    "        self.year = year \n",
    "        self.odometer_reading = 0\n",
    "\n",
    "    def get_descriptive_name(self):\n",
    "        \"\"\"Return a neatly formattted descriptive name.\"\"\" \n",
    "        long_name = f\"{self.year} {self.make} {self.model}\"\n",
    "\n",
    "        return long_name.title() \n",
    "    \n",
    "    def read_odometer(self):\n",
    "        \"\"\"Print a statement shwoign the car's mileage\"\"\"\n",
    "        print(f\"This car has {self.odometer_reading} miles on it\")"
   ]
  },
  {
   "cell_type": "code",
   "execution_count": 49,
   "id": "740499b8",
   "metadata": {},
   "outputs": [
    {
     "name": "stdout",
     "output_type": "stream",
     "text": [
      "This car has 0 miles on it\n"
     ]
    }
   ],
   "source": [
    "my_new_car = Car('audi', 'a4', 2024)\n",
    "my_new_car.read_odometer()\n"
   ]
  },
  {
   "cell_type": "markdown",
   "id": "97d68565",
   "metadata": {},
   "source": [
    "## Modifying attribute values"
   ]
  },
  {
   "cell_type": "code",
   "execution_count": 42,
   "id": "26f393c0",
   "metadata": {},
   "outputs": [
    {
     "name": "stdout",
     "output_type": "stream",
     "text": [
      "This car has 23 miles on it\n"
     ]
    }
   ],
   "source": [
    "my_new_car.odometer_reading = 23 \n",
    "my_new_car.read_odometer()"
   ]
  },
  {
   "cell_type": "markdown",
   "id": "d46fac4f",
   "metadata": {},
   "source": [
    "## Modifying an Attribute's Value through a method"
   ]
  },
  {
   "cell_type": "code",
   "execution_count": 43,
   "id": "c1cc7c82",
   "metadata": {},
   "outputs": [],
   "source": [
    "class Car:\n",
    "    \"\"\" a simple attempt to represent a car\"\"\"\n",
    "\n",
    "    def __init__(self,make,model,year):\n",
    "        self.make = make \n",
    "        self.model = model \n",
    "        self.year = year \n",
    "        self.odometer_reading = 0\n",
    "\n",
    "    def get_descriptive_name(self):\n",
    "        \"\"\"Return a neatly formattted descriptive name.\"\"\" \n",
    "        long_name = f\"{self.year} {self.make} {self.model}\"\n",
    "\n",
    "        return long_name.title() \n",
    "    \n",
    "    def read_odometer(self):\n",
    "        \"\"\"Print a statement shwoign the car's mileage\"\"\"\n",
    "        print(f\"This car has {self.odometer_reading} miles on it\")\n",
    "    \n",
    "    def update_odometer(self,mileage):\n",
    "        \"\"\"Set the odometer reading to the given value.\"\"\"\n",
    "        self.odometer_reading = mileage \n",
    "        \n"
   ]
  },
  {
   "cell_type": "code",
   "execution_count": 50,
   "id": "1748b57c",
   "metadata": {},
   "outputs": [
    {
     "name": "stdout",
     "output_type": "stream",
     "text": [
      "This car has 25 miles on it\n"
     ]
    }
   ],
   "source": [
    "my_new_car = Car('audi', 'a4', 2024)\n",
    "my_new_car.update_odometer(25)\n",
    "my_new_car.read_odometer()"
   ]
  },
  {
   "cell_type": "markdown",
   "id": "e469cee7",
   "metadata": {},
   "source": [
    "### 🧠 Using `__init__()` to Set Default Values\n",
    "\n",
    "The `__init__()` method is not just for storing values passed during object creation —  \n",
    "it's also useful for setting **default values** for attributes.\n",
    "\n",
    "This ensures the object has sensible starting values, even if we don't provide them right away.\n",
    "\n",
    "---\n",
    "\n",
    "#### ✅ Example\n",
    "\n",
    "```python\n",
    "class Car:\n",
    "    def __init__(self, make, model, year):\n",
    "        self.make = make\n",
    "        self.model = model\n",
    "        self.year = year\n",
    "        self.odometer_reading = 0  # default value"
   ]
  },
  {
   "cell_type": "markdown",
   "id": "1c575275",
   "metadata": {},
   "source": [
    "## ADDING LOGIC TO `update_odometer()`"
   ]
  },
  {
   "cell_type": "code",
   "execution_count": 51,
   "id": "9f2e0c36",
   "metadata": {},
   "outputs": [],
   "source": [
    "class Car:\n",
    "    \"\"\" a simple attempt to represent a car\"\"\"\n",
    "\n",
    "    def __init__(self,make,model,year):\n",
    "        self.make = make \n",
    "        self.model = model \n",
    "        self.year = year \n",
    "        self.odometer_reading = 0\n",
    "\n",
    "    def get_descriptive_name(self):\n",
    "        \"\"\"Return a neatly formattted descriptive name.\"\"\" \n",
    "        long_name = f\"{self.year} {self.make} {self.model}\"\n",
    "\n",
    "        return long_name.title() \n",
    "    \n",
    "    def read_odometer(self):\n",
    "        \"\"\"Print a statement shwoign the car's mileage\"\"\"\n",
    "        print(f\"This car has {self.odometer_reading} miles on it\")\n",
    "    \n",
    "    def update_odometer(self,mileage):\n",
    "        \"\"\"set the odometer reading to the given value.\n",
    "        reject the change if it attempts to roll the odometer back.\n",
    "        \"\"\"\n",
    "        if mileage >= self.odometer_reading:\n",
    "            self.odometer_reading = mileage \n",
    "        else:\n",
    "            print(\"you can't roll back an odometer\")\n",
    "        "
   ]
  },
  {
   "cell_type": "code",
   "execution_count": 52,
   "id": "660048fa",
   "metadata": {},
   "outputs": [
    {
     "name": "stdout",
     "output_type": "stream",
     "text": [
      "This car has 25 miles on it\n"
     ]
    }
   ],
   "source": [
    "my_new_car = Car('audi', 'a4', 2024)\n",
    "my_new_car.update_odometer(25)\n",
    "my_new_car.read_odometer()"
   ]
  },
  {
   "cell_type": "code",
   "execution_count": 54,
   "id": "dfe65f04",
   "metadata": {},
   "outputs": [
    {
     "name": "stdout",
     "output_type": "stream",
     "text": [
      "you can't roll back an odometer\n",
      "This car has 0 miles on it\n"
     ]
    }
   ],
   "source": [
    "my_new_car = Car('audi', 'a4', 2024)\n",
    "my_new_car.update_odometer(-5)\n",
    "my_new_car.read_odometer()"
   ]
  },
  {
   "cell_type": "markdown",
   "id": "2e18f0cc",
   "metadata": {},
   "source": [
    "## Incrementing an Attribute's Value Throgh a Method"
   ]
  },
  {
   "cell_type": "code",
   "execution_count": 55,
   "id": "d3270ea7",
   "metadata": {},
   "outputs": [],
   "source": [
    "class Car:\n",
    "    \"\"\" a simple attempt to represent a car\"\"\"\n",
    "\n",
    "    def __init__(self,make,model,year):\n",
    "        self.make = make \n",
    "        self.model = model \n",
    "        self.year = year \n",
    "        self.odometer_reading = 0\n",
    "\n",
    "    def get_descriptive_name(self):\n",
    "        \"\"\"Return a neatly formattted descriptive name.\"\"\" \n",
    "        long_name = f\"{self.year} {self.make} {self.model}\"\n",
    "\n",
    "        return long_name.title() \n",
    "    \n",
    "    def read_odometer(self):\n",
    "        \"\"\"Print a statement shwoign the car's mileage\"\"\"\n",
    "        print(f\"This car has {self.odometer_reading} miles on it\")\n",
    "    \n",
    "    def update_odometer(self,mileage):\n",
    "        \"\"\"set the odometer reading to the given value.\n",
    "        reject the change if it attempts to roll the odometer back.\n",
    "        \"\"\"\n",
    "        if mileage >= self.odometer_reading:\n",
    "            self.odometer_reading = mileage \n",
    "        else:\n",
    "            print(\"you can't roll back an odometer\")\n",
    "    def increment_odometer(self,miles):\n",
    "        \"\"\" add the given amount to the odometer reading.\"\"\"\n",
    "        self.odometer_reading += miles \n"
   ]
  },
  {
   "cell_type": "code",
   "execution_count": 56,
   "id": "dae29878",
   "metadata": {},
   "outputs": [
    {
     "name": "stdout",
     "output_type": "stream",
     "text": [
      "2019 Subaru Outback\n",
      "This car has 23500 miles on it\n",
      "This car has 23600 miles on it\n"
     ]
    }
   ],
   "source": [
    "my_used_car = Car('subaru', 'outback', 2019)\n",
    "print(my_used_car.get_descriptive_name())\n",
    "my_used_car.update_odometer(23_500)\n",
    "my_used_car.read_odometer()\n",
    "my_used_car.increment_odometer(100)\n",
    "my_used_car.read_odometer()"
   ]
  },
  {
   "cell_type": "markdown",
   "id": "d4e92141",
   "metadata": {},
   "source": [
    "# TRY IT YOURSELF"
   ]
  },
  {
   "cell_type": "markdown",
   "id": "2372107e",
   "metadata": {},
   "source": [
    "<pre>\n",
    "9-4. Number Served: Start with your program from Exercise 9-1 (page 162).\n",
    "Add an attribute called number_served with a default value of 0. Create an\n",
    "instance called restaurant from this class. Print the number of customers the\n",
    "restaurant has served, and then change this value and print it again.\n",
    "Add a method called set_number_served() that lets you set the number of\n",
    "customers that have been served. Call this method with a new number and print\n",
    "the value again.\n",
    "Add a method called increment_number_served() that lets you increment\n",
    "the number of customers who’ve been served. Call this method with any number\n",
    "you like that could represent how many customers were served in, say, a day of\n",
    "business.\n",
    "</pre>"
   ]
  },
  {
   "cell_type": "code",
   "execution_count": 60,
   "id": "09694d01",
   "metadata": {},
   "outputs": [
    {
     "name": "stdout",
     "output_type": "stream",
     "text": [
      " the no of customers served so far 0\n",
      " the no of customers served so far 5\n",
      " the no of customers served so far 10\n"
     ]
    }
   ],
   "source": [
    "class Restaurant:\n",
    "    def __init__(self,restaurant_name,cuisine_type):\n",
    "        self.restaurant_name = restaurant_name\n",
    "        self.cuisine_type = cuisine_type \n",
    "        self.number_served = 0\n",
    "    \n",
    "    def describe_restaurant(self):\n",
    "        print(f\" the {self.restaurant_name} has a special cusine called {self.cuisine_type}\")\n",
    "    def open_restaurant(self):\n",
    "        print(f\"{self.restaurant_name} is open now\")\n",
    "    \n",
    "    def set_number_served(self,served):\n",
    "        self.number_served = served\n",
    "    \n",
    "    def increment_number_served(self,increment):\n",
    "        self.number_served += increment\n",
    "\n",
    "restaurant = Restaurant(\"taj\",\"idli\")\n",
    "print(f\" the no of customers served so far {restaurant.number_served}\")\n",
    "restaurant.set_number_served(5)\n",
    "print(f\" the no of customers served so far {restaurant.number_served}\")\n",
    "restaurant.increment_number_served(5)\n",
    "print(f\" the no of customers served so far {restaurant.number_served}\")\n"
   ]
  },
  {
   "cell_type": "markdown",
   "id": "079e27ce",
   "metadata": {},
   "source": [
    "<pre>\n",
    "9-5. Login Attempts: Add an attribute called login_attempts to your User class\n",
    "from Exercise 9-3 (page 162). Write a method called increment_login_attempts()\n",
    "that increments the value of login_attempts by 1. Write another method called\n",
    "reset_login_attempts() that resets the value of login_attempts to 0.\n",
    "Make an instance of the User class and call increment_login_attempts()\n",
    "several times. Print the value of login_attempts to make sure it was incremented\n",
    "properly, and then call reset_login_attempts(). Print login_attempts again to\n",
    "make sure it was reset to 0.\n",
    "</pre>"
   ]
  },
  {
   "cell_type": "code",
   "execution_count": 63,
   "id": "f56e1580",
   "metadata": {},
   "outputs": [
    {
     "name": "stdout",
     "output_type": "stream",
     "text": [
      " the login attempts so far 1\n",
      " the login attempts so far 0\n"
     ]
    }
   ],
   "source": [
    "class User :\n",
    "    def __init__(self,first_name,last_name):\n",
    "        self.first_name = first_name\n",
    "        self.last_name = last_name\n",
    "        self.login_attempts = 0\n",
    "    \n",
    "    def describe_user(self):\n",
    "        print(f\"the user full  name is {self.first_name} {self.last_name}\")\n",
    "    \n",
    "    def greet_user(self):\n",
    "        print(f\" good afternoon {self.first_name}\")\n",
    "    \n",
    "    def increment_login_attempts(self):\n",
    "        self.login_attempts += 1\n",
    "    \n",
    "    def reset_login_attempts(self):\n",
    "        self.login_attempts = 0\n",
    "\n",
    "user_1 = User(\"micheal\",\"deming\")\n",
    "\n",
    "user_1.increment_login_attempts()\n",
    "print(f\" the login attempts so far {user_1.login_attempts}\")\n",
    "user_1.reset_login_attempts()\n",
    "print(f\" the login attempts so far {user_1.login_attempts}\")"
   ]
  },
  {
   "cell_type": "markdown",
   "id": "fe9cc8fc",
   "metadata": {},
   "source": [
    "# INHERITANCE"
   ]
  },
  {
   "cell_type": "markdown",
   "id": "28b0d429",
   "metadata": {},
   "source": [
    "### 🧬 Inheritance in Python (OOP)\n",
    "\n",
    "- Inheritance lets you **reuse code** by creating a new class from an existing one.\n",
    "- The **original class** is called the **parent class**.\n",
    "- The **new class** is the **child class**.\n",
    "\n",
    "---\n",
    "\n",
    "### ✅ What Happens:\n",
    "\n",
    "- The child class **inherits** the attributes and methods of the parent class.\n",
    "- It can also have its **own unique attributes and methods**.\n",
    "- This helps avoid rewriting the same code.\n",
    "\n",
    "---\n",
    "\n",
    "### 🧠 Example:\n",
    "\n",
    "```python\n",
    "class Animal:\n",
    "    def speak(self):\n",
    "        print(\"Makes a sound\")\n",
    "\n",
    "class Dog(Animal):\n",
    "    def bark(self):\n",
    "        print(\"Woof!\")"
   ]
  },
  {
   "cell_type": "markdown",
   "id": "01b2907d",
   "metadata": {},
   "source": [
    "## Parent class"
   ]
  },
  {
   "cell_type": "code",
   "execution_count": 68,
   "id": "53d2a0ae",
   "metadata": {},
   "outputs": [],
   "source": [
    "class Car:\n",
    "    \"\"\" a simple attempt to represent a car\"\"\"\n",
    "\n",
    "    def __init__(self,make,model,year):\n",
    "        self.make = make \n",
    "        self.model = model \n",
    "        self.year = year \n",
    "        self.odometer_reading = 0\n",
    "\n",
    "    def get_descriptive_name(self):\n",
    "        \"\"\"Return a neatly formattted descriptive name.\"\"\" \n",
    "        long_name = f\"{self.year} {self.make} {self.model}\"\n",
    "\n",
    "        return long_name.title() \n",
    "    \n",
    "    def read_odometer(self):\n",
    "        \"\"\"Print a statement shwoign the car's mileage\"\"\"\n",
    "        print(f\"This car has {self.odometer_reading} miles on it\")\n",
    "    \n",
    "    def update_odometer(self,mileage):\n",
    "        \"\"\"set the odometer reading to the given value.\n",
    "        reject the change if it attempts to roll the odometer back.\n",
    "        \"\"\"\n",
    "        if mileage >= self.odometer_reading:\n",
    "            self.odometer_reading = mileage \n",
    "        else:\n",
    "            print(\"you can't roll back an odometer\")\n",
    "    def increment_odometer(self,miles):\n",
    "        \"\"\" add the given amount to the odometer reading.\"\"\"\n",
    "        self.odometer_reading += miles "
   ]
  },
  {
   "cell_type": "markdown",
   "id": "3f0f24c9",
   "metadata": {},
   "source": [
    "## Child class"
   ]
  },
  {
   "cell_type": "code",
   "execution_count": 69,
   "id": "a3bec3f2",
   "metadata": {},
   "outputs": [
    {
     "name": "stdout",
     "output_type": "stream",
     "text": [
      "2024 Nissan Leaf\n"
     ]
    }
   ],
   "source": [
    "class ElectricCar(Car):\n",
    "    \"\"\" Represent aspects of a car, specific to electric vehicles.\"\"\"\n",
    "\n",
    "    def __init__(self, make, model, year):\n",
    "         \"\"\" Initialize attributes of the parrent class.\"\"\"\n",
    "         super().__init__(make,model,year)\n",
    "\n",
    "my_leaf = ElectricCar(\"nissan\",\"leaf\",2024)\n",
    "\n",
    "print(my_leaf.get_descriptive_name())\n"
   ]
  },
  {
   "cell_type": "markdown",
   "id": "b99a8201",
   "metadata": {},
   "source": [
    "### 🔁 Step-by-Step: How Inheritance and `super()` Work\n",
    "\n",
    "When you create an object like:\n",
    "\n",
    "`my_leaf = ElectricCar(\"nissan\", \"leaf\", 2024)`\n",
    "\n",
    "Here's what happens internally:\n",
    "\n",
    "1️⃣ `ElectricCar.__init__()` is called (this is the constructor of the child class)  \n",
    "2️⃣ Inside it, `super().__init__(make, model, year)` is run  \n",
    "3️⃣ This calls the parent class constructor: `Car.__init__(make, model, year)`  \n",
    "4️⃣ `Car.__init__()` sets the attributes:  \n",
    "&nbsp;&nbsp;&nbsp;&nbsp;• `self.make = \"nissan\"`  \n",
    "&nbsp;&nbsp;&nbsp;&nbsp;• `self.model = \"leaf\"`  \n",
    "&nbsp;&nbsp;&nbsp;&nbsp;• `self.year = 2024`  \n",
    "&nbsp;&nbsp;&nbsp;&nbsp;• `self.odometer_reading = 0` (default value)  \n",
    "\n",
    "✅ Now, the object `my_leaf` is fully initialized with the inherited attributes from the `Car` class."
   ]
  },
  {
   "cell_type": "markdown",
   "id": "93e2e781",
   "metadata": {},
   "source": [
    "## Defining attributes and methods for the child class"
   ]
  },
  {
   "cell_type": "code",
   "execution_count": 70,
   "id": "98e6d934",
   "metadata": {},
   "outputs": [
    {
     "name": "stdout",
     "output_type": "stream",
     "text": [
      "2024 Nissan Leaf\n",
      "This car has a 40-KWh battery\n"
     ]
    }
   ],
   "source": [
    "class ElectricCar(Car):\n",
    "    \"\"\" Represent aspects of a car, specific to electric vehicles.\"\"\"\n",
    "\n",
    "    def __init__(self, make, model, year):\n",
    "         \"\"\" Initialize attributes of the parrent class.\"\"\"\n",
    "         super().__init__(make,model,year)\n",
    "         self.battery_size = 40 \n",
    "    \n",
    "    def describe_battery(self):\n",
    "        \"\"\" print a statement describing the battery size.\"\"\"\n",
    "        print(f\"This car has a {self.battery_size}-KWh battery\")\n",
    "\n",
    "my_leaf = ElectricCar(\"nissan\",\"leaf\",2024)\n",
    "\n",
    "print(my_leaf.get_descriptive_name())\n",
    "my_leaf.describe_battery()"
   ]
  },
  {
   "cell_type": "markdown",
   "id": "3ce3df0d",
   "metadata": {},
   "source": [
    "### 🧠 Why Use Inheritance Instead of Copy-Paste\n",
    "\n",
    "Instead of copying and pasting all the code from the `Car` class,  \n",
    "we create a child class like `ElectricCar` that **inherits** from `Car`.\n",
    "\n",
    "This way:\n",
    "- We **reuse** all common features (`make`, `model`, `year`, etc.)\n",
    "- We only **add or customize** what's specific to electric cars\n",
    "- Keeps the code clean and avoids repetition (DRY principle)"
   ]
  },
  {
   "cell_type": "markdown",
   "id": "903b3ba6",
   "metadata": {},
   "source": [
    "## Overriding methods from the parent class"
   ]
  },
  {
   "cell_type": "code",
   "execution_count": 72,
   "id": "caf1b656",
   "metadata": {},
   "outputs": [
    {
     "name": "stdout",
     "output_type": "stream",
     "text": [
      "This car doesn't have a gast tank\n"
     ]
    }
   ],
   "source": [
    "class ElectricCar(Car):\n",
    "    \"\"\" Represent aspects of a car, specific to electric vehicles.\"\"\"\n",
    "\n",
    "    def __init__(self, make, model, year):\n",
    "         \"\"\" Initialize attributes of the parrent class.\"\"\"\n",
    "         super().__init__(make,model,year)\n",
    "         self.battery_size = 40 \n",
    "    \n",
    "    def describe_battery(self):\n",
    "        \"\"\" print a statement describing the battery size.\"\"\"\n",
    "        print(f\"This car has a {self.battery_size}-KWh battery\")\n",
    "    \n",
    "    def fill_gas_tank(self):\n",
    "        \"\"\"Electric cars don't have gas tanks.\"\"\"\n",
    "        print(\"This car doesn't have a gast tank\")\n",
    "\n",
    "my_leaf = ElectricCar(\"nissan\",\"leaf\",2024)\n",
    "my_leaf.fill_gas_tank()\n",
    " "
   ]
  },
  {
   "cell_type": "code",
   "execution_count": 73,
   "id": "5db24d36",
   "metadata": {},
   "outputs": [
    {
     "name": "stdout",
     "output_type": "stream",
     "text": [
      "2024 Nissan Leaf\n",
      "This car ahs a 40-kwh battery\n"
     ]
    }
   ],
   "source": [
    "class Battery:\n",
    "    \"\"\"A simple attempt to mocel a battery for an electric car.\"\"\"\n",
    "\n",
    "    def __init__(self,battery_size=40):\n",
    "\n",
    "        \"\"\"Initialize the battery's attributst.\"\"\"\n",
    "        self.battery_size = battery_size \n",
    "    \n",
    "    def describe_battery(self):\n",
    "        \"\"\"print a statement describing the battery size\"\"\"\n",
    "        print(f\"This car ahs a {self.battery_size}-kwh battery\")\n",
    "\n",
    "class ElectricCar(Car):\n",
    "    \"\"\" Represent aspects of a car, specific to electric vehicles.\"\"\"\n",
    "\n",
    "    def __init__(self, make, model, year):\n",
    "         \"\"\" Initialize attributes of the parrent class.\"\"\"\n",
    "         super().__init__(make,model,year)\n",
    "         self.battery = Battery() \n",
    "\n",
    "my_leaf = ElectricCar(\"nissan\",\"leaf\",2024)\n",
    "print(my_leaf.get_descriptive_name())\n",
    "my_leaf.battery.describe_battery()\n",
    "\n",
    "\n",
    "        "
   ]
  },
  {
   "cell_type": "code",
   "execution_count": 74,
   "id": "a400089e",
   "metadata": {},
   "outputs": [
    {
     "name": "stdout",
     "output_type": "stream",
     "text": [
      "2024 Nissan Leaf\n",
      "This car ahs a 40-kwh battery\n",
      "This car can go about 150 miles on a full charge\n"
     ]
    }
   ],
   "source": [
    "class Battery:\n",
    "    \"\"\"A simple attempt to mocel a battery for an electric car.\"\"\"\n",
    "\n",
    "    def __init__(self,battery_size=40):\n",
    "\n",
    "        \"\"\"Initialize the battery's attributst.\"\"\"\n",
    "        self.battery_size = battery_size \n",
    "    \n",
    "    def describe_battery(self):\n",
    "        \"\"\"print a statement describing the battery size\"\"\"\n",
    "        print(f\"This car ahs a {self.battery_size}-kwh battery\")\n",
    "    \n",
    "    def get_range(self):\n",
    "        \"\"\"print a statement about the range this battery provides\"\"\"\n",
    "        if self.battery_size == 40:\n",
    "            range = 150\n",
    "        \n",
    "        elif self.battery_size ==65:\n",
    "            range = 225\n",
    "        \n",
    "        print(f\"This car can go about {range} miles on a full charge\")\n",
    "\n",
    "class ElectricCar(Car):\n",
    "    \"\"\" Represent aspects of a car, specific to electric vehicles.\"\"\"\n",
    "\n",
    "    def __init__(self, make, model, year):\n",
    "         \"\"\" Initialize attributes of the parrent class.\"\"\"\n",
    "         super().__init__(make,model,year)\n",
    "         self.battery = Battery() \n",
    "\n",
    "my_leaf = ElectricCar(\"nissan\",\"leaf\",2024)\n",
    "print(my_leaf.get_descriptive_name())\n",
    "my_leaf.battery.describe_battery()\n",
    "my_leaf.battery.get_range()"
   ]
  },
  {
   "cell_type": "markdown",
   "id": "6c33bf79",
   "metadata": {},
   "source": [
    "### 🧠 `self.` vs Temporary Variables\n",
    "\n",
    "- `self.variable` → Stored in the object’s memory, accessible across methods.\n",
    "- `variable` (without `self.`) → Temporary, used only inside that method.\n",
    "\n",
    "#### 🔍 Example:\n",
    "\n",
    "```python\n",
    "class Example:\n",
    "    def __init__(self):\n",
    "        self.value = 10  # stored\n",
    "\n",
    "    def calc(self):\n",
    "        result = self.value * 2  # temporary\n",
    "        print(result)\n",
    "\n",
    "obj = Example()\n",
    "obj.calc()         # ✅ prints 20\n",
    "print(obj.value)   # ✅ works\n",
    "# print(obj.result)  ❌ error: result not stored"
   ]
  },
  {
   "cell_type": "markdown",
   "id": "2de9cfc1",
   "metadata": {},
   "source": [
    "# TRY IT YOURSELF"
   ]
  },
  {
   "cell_type": "markdown",
   "id": "e844101d",
   "metadata": {},
   "source": [
    "<pre>\n",
    "9-6. Ice Cream Stand: An ice cream stand is a specific kind of restaurant. Write\n",
    "a class called IceCreamStand that inherits from the Restaurant class you wrote in\n",
    "Exercise 9-1 (page 162) or Exercise 9-4 (page 166). Either version of the class\n",
    "will work; just pick the one you like better. Add an attribute called flavors that\n",
    "stores a list of ice cream flavors. Write a method that displays these flavors.\n",
    "Create an instance of IceCreamStand, and call this method.\n",
    "</pre>"
   ]
  },
  {
   "cell_type": "markdown",
   "id": "95ec0b0f",
   "metadata": {},
   "source": [
    "## Parent"
   ]
  },
  {
   "cell_type": "code",
   "execution_count": 76,
   "id": "ae4ab8ec",
   "metadata": {},
   "outputs": [],
   "source": [
    "class Restaurant:\n",
    "    def __init__(self,restaurant_name,cuisine_type):\n",
    "        self.restaurant_name = restaurant_name\n",
    "        self.cuisine_type = cuisine_type \n",
    "    \n",
    "    def describe_restaurant(self):\n",
    "        print(f\" the {self.restaurant_name} has a special cusine called {self.cuisine_type}\")\n",
    "    def open_restaurant(self):\n",
    "        print(f\"{self.restaurant_name} is open now\")\n",
    "\n"
   ]
  },
  {
   "cell_type": "markdown",
   "id": "c908c584",
   "metadata": {},
   "source": [
    "## Child"
   ]
  },
  {
   "cell_type": "markdown",
   "id": "87894571",
   "metadata": {},
   "source": [
    "ignore the logic in my print statement i know they are not creative i just looking what i can do with "
   ]
  },
  {
   "cell_type": "code",
   "execution_count": 84,
   "id": "3b3edb61",
   "metadata": {},
   "outputs": [
    {
     "name": "stdout",
     "output_type": "stream",
     "text": [
      " the taj has a special cusine called icecream\n",
      " here is your icecream with vinnela flavor hope you like it\n",
      " here is your icecream with chocolate flavor hope you like it\n"
     ]
    }
   ],
   "source": [
    "class IceCreamStand(Restaurant):\n",
    "    def __init__(self, restaurant_name, cuisine_type):\n",
    "        super().__init__(restaurant_name, cuisine_type)\n",
    "        self.flavors = \"vinnela\"\n",
    "    \n",
    "    def get_icecream(self):\n",
    "        print(f\" here is your {self.cuisine_type} with {self.flavors} flavor hope you like it\")\n",
    "    \n",
    "    def update_flavour(self,flavors):\n",
    "        self.flavors = flavors\n",
    "\n",
    "icecream = IceCreamStand(\"taj\",\"icecream\")\n",
    "icecream.describe_restaurant()\n",
    "icecream.get_icecream()\n",
    "icecream.update_flavour(\"chocolate\")\n",
    "icecream.get_icecream()"
   ]
  },
  {
   "cell_type": "markdown",
   "id": "d9d77fdd",
   "metadata": {},
   "source": [
    "<pre>\n",
    "9-7. Admin: An administrator is a special kind of user. Write a class called\n",
    "Admin that inherits from the User class you wrote in Exercise 9-3 (page 162)\n",
    "or Exercise 9-5 (page 167). Add an attribute, privileges, that stores a list of\n",
    "strings like \"can add post\", \"can delete post\", \"can ban user\", and so on.\n",
    "Write a method called show_privileges() that lists the administrator’s set of\n",
    "privileges. Create an instance of Admin, and call your method.\n",
    "</pre>"
   ]
  },
  {
   "cell_type": "markdown",
   "id": "ca8fcfe3",
   "metadata": {},
   "source": [
    "## Parent"
   ]
  },
  {
   "cell_type": "code",
   "execution_count": null,
   "id": "8d3ff4d0",
   "metadata": {},
   "outputs": [
    {
     "name": "stdout",
     "output_type": "stream",
     "text": [
      " the login attempts so far 1\n",
      " the login attempts so far 0\n"
     ]
    }
   ],
   "source": [
    "class User :\n",
    "    def __init__(self,first_name,last_name):\n",
    "        self.first_name = first_name\n",
    "        self.last_name = last_name\n",
    "        self.login_attempts = 0\n",
    "    \n",
    "    def describe_user(self):\n",
    "        print(f\"the user full  name is {self.first_name} {self.last_name}\")\n",
    "    \n",
    "    def greet_user(self):\n",
    "        print(f\" good afternoon {self.first_name}\")\n",
    "    \n",
    "    def increment_login_attempts(self):\n",
    "        self.login_attempts += 1\n",
    "    \n",
    "    def reset_login_attempts(self):\n",
    "        self.login_attempts = 0\n",
    "\n",
    "user_1 = User(\"micheal\",\"deming\")\n"
   ]
  },
  {
   "cell_type": "markdown",
   "id": "a42a490b",
   "metadata": {},
   "source": [
    "## Child"
   ]
  },
  {
   "cell_type": "code",
   "execution_count": 88,
   "id": "c86fc7f3",
   "metadata": {},
   "outputs": [
    {
     "name": "stdout",
     "output_type": "stream",
     "text": [
      "the user full  name is micheal deming\n",
      "privileges: \n",
      "- can add post\n",
      "- can delete post\n",
      "- can ban user\n"
     ]
    }
   ],
   "source": [
    "class Admin(User):\n",
    "    def __init__(self, first_name, last_name):\n",
    "        super().__init__(first_name, last_name) \n",
    "        self.privileges = [\"can add post\",\"can delete post\",\"can ban user\"]\n",
    "    \n",
    "    def show_privileges(self):\n",
    "        print(\"privileges: \")\n",
    "        for privilege in self.privileges:\n",
    "            print(f\"- {privilege}\")\n",
    "\n",
    "user_1 = Admin(\"micheal\",\"deming\")\n",
    "user_1.describe_user()\n",
    "user_1.show_privileges()\n",
    "    "
   ]
  },
  {
   "cell_type": "markdown",
   "id": "caf2dfdd",
   "metadata": {},
   "source": [
    "<pre>\n",
    "9-8. Privileges: Write a separate Privileges class. The class should have one\n",
    "attribute, privileges, that stores a list of strings as described in Exercise 9-7.\n",
    "Move the show_privileges() method to this class. Make a Privileges instance\n",
    "as an attribute in the Admin class. Create a new instance of Admin and use your\n",
    "method to show its privileges\n",
    "</pre>"
   ]
  },
  {
   "cell_type": "markdown",
   "id": "0dd360e5",
   "metadata": {},
   "source": [
    "## composition"
   ]
  },
  {
   "cell_type": "code",
   "execution_count": 91,
   "id": "11cc8856",
   "metadata": {},
   "outputs": [],
   "source": [
    "class Privileges:\n",
    "    def __init__(self):\n",
    "        self.privileges = [\"can add post\",\"can delete post\",\"can ban user\"] \n",
    "    \n",
    "    def show_privileges(self):\n",
    "        print(\"Privileges: \")\n",
    "\n",
    "        for privilege in self.privileges:\n",
    "            print(f\"-{privilege}\")\n",
    "\n"
   ]
  },
  {
   "cell_type": "code",
   "execution_count": null,
   "id": "2f66c44b",
   "metadata": {},
   "outputs": [
    {
     "name": "stdout",
     "output_type": "stream",
     "text": [
      "the user full  name is micheal deming\n",
      "Privileges: \n",
      "-can add post\n",
      "-can delete post\n",
      "-can ban user\n"
     ]
    }
   ],
   "source": [
    "class Admin(User):\n",
    "    def __init__(self, first_name, last_name):\n",
    "        super().__init__(first_name, last_name) \n",
    "        self.privileges = Privileges() # attribute of privileges class\n",
    "\n",
    "\n",
    "user_1 = Admin(\"micheal\",\"deming\")\n",
    "user_1.describe_user()\n",
    "user_1.privileges.show_privileges()\n",
    "    "
   ]
  },
  {
   "cell_type": "markdown",
   "id": "ff4fb0f6",
   "metadata": {},
   "source": [
    "<pre>\n",
    "9-9. Battery Upgrade: Use the final version of electric_car.py from this section.\n",
    "Add a method to the Battery class called upgrade_battery(). This method\n",
    "should check the battery size and set the capacity to 65 if it isn’t already. Make\n",
    "an electric car with a default battery size, call get_range() once, and then\n",
    "call get_range() a second time after upgrading the battery. You should see an\n",
    "increase in the car’s range.\n",
    "</pre>"
   ]
  },
  {
   "cell_type": "code",
   "execution_count": 96,
   "id": "724cc013",
   "metadata": {},
   "outputs": [
    {
     "name": "stdout",
     "output_type": "stream",
     "text": [
      "2024 Nissan Leaf\n",
      "This car ahs a 40-kwh battery\n",
      "This car can go about 150 miles on a full charge\n",
      "This car ahs a 65-kwh battery\n",
      "This car can go about 225 miles on a full charge\n"
     ]
    }
   ],
   "source": [
    "class Battery:\n",
    "    \"\"\"A simple attempt to mocel a battery for an electric car.\"\"\"\n",
    "\n",
    "    def __init__(self,battery_size=40):\n",
    "\n",
    "        \"\"\"Initialize the battery's attributst.\"\"\"\n",
    "        self.battery_size = battery_size \n",
    "    \n",
    "    def describe_battery(self):\n",
    "        \"\"\"print a statement describing the battery size\"\"\"\n",
    "        print(f\"This car ahs a {self.battery_size}-kwh battery\")\n",
    "    \n",
    "    def get_range(self):\n",
    "        \"\"\"print a statement about the range this battery provides\"\"\"\n",
    "        if self.battery_size == 40:\n",
    "            range = 150\n",
    "        \n",
    "        elif self.battery_size ==65:\n",
    "            range = 225\n",
    "        \n",
    "        print(f\"This car can go about {range} miles on a full charge\")\n",
    "    \n",
    "    def upgrade_battery(self):\n",
    "        if self.battery_size < 65 :\n",
    "            self.battery_size = 65\n",
    "\n",
    "class ElectricCar(Car):\n",
    "    \"\"\" Represent aspects of a car, specific to electric vehicles.\"\"\"\n",
    "\n",
    "    def __init__(self, make, model, year):\n",
    "         \"\"\" Initialize attributes of the parrent class.\"\"\"\n",
    "         super().__init__(make,model,year)\n",
    "         self.battery = Battery() \n",
    "\n",
    "my_leaf = ElectricCar(\"nissan\",\"leaf\",2024)\n",
    "print(my_leaf.get_descriptive_name())\n",
    "my_leaf.battery.describe_battery()\n",
    "my_leaf.battery.get_range()\n",
    "my_leaf.battery.upgrade_battery()\n",
    "my_leaf.battery.describe_battery()\n",
    "my_leaf.battery.get_range()\n"
   ]
  },
  {
   "cell_type": "markdown",
   "id": "106c478a",
   "metadata": {},
   "source": [
    "# IMPORTING CLASSES"
   ]
  },
  {
   "cell_type": "code",
   "execution_count": null,
   "id": "825bbed9",
   "metadata": {},
   "outputs": [],
   "source": []
  }
 ],
 "metadata": {
  "kernelspec": {
   "display_name": ".venv",
   "language": "python",
   "name": "python3"
  },
  "language_info": {
   "codemirror_mode": {
    "name": "ipython",
    "version": 3
   },
   "file_extension": ".py",
   "mimetype": "text/x-python",
   "name": "python",
   "nbconvert_exporter": "python",
   "pygments_lexer": "ipython3",
   "version": "3.13.3"
  }
 },
 "nbformat": 4,
 "nbformat_minor": 5
}
