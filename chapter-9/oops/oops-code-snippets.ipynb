{
 "cells": [
  {
   "cell_type": "markdown",
   "id": "8ccf155f",
   "metadata": {},
   "source": [
    "# 🧠 OOP in Python – Snippets for DSA\n",
    "\n",
    "This notebook contains Object-Oriented Programming (OOP) basics I’m learning to support **Chapter 9 onwards** of  \n",
    "*A Common-Sense Guide to DSA in Python* (which starts using OOP concepts).\n",
    "\n",
    "I’m learning OOP using:\n",
    "- 📘 *Python Crash Course* by Eric Matthes\n",
    "- 🧠 Simple hands-on examples with comments\n",
    "\n",
    "---\n",
    "\n",
    "## 📌 Purpose\n",
    "- Understand OOP concepts like **class**, **object**, **method**, and **variable**\n",
    "- Build confidence before using OOP in DSA implementations\n",
    "- Serve as quick reference for myself and others\n",
    "\n",
    "---\n",
    "\n",
    "## 🧾 Quick Glossary\n",
    "\n",
    "| Term     | Meaning                          |\n",
    "|----------|----------------------------------|\n",
    "| `class`  | Blueprint or design of an object |\n",
    "| `object` | Actual item made from a class    |\n",
    "| `method` | Function inside a class          |\n",
    "| `self`   | Refers to the current object     |\n",
    "\n",
    "---\n",
    "\n",
    "Let’s start simple and build up 🔧"
   ]
  },
  {
   "cell_type": "markdown",
   "id": "61c831a4",
   "metadata": {},
   "source": [
    "# CREATING THE DOG CLASS"
   ]
  },
  {
   "cell_type": "code",
   "execution_count": 2,
   "id": "15290cb7",
   "metadata": {},
   "outputs": [],
   "source": [
    "class Dog:\n",
    "\n",
    "    \"\"\"a simple attempt to model a dog\"\"\"\n",
    "\n",
    "    def __init__(self,name,age):\n",
    "        \"\"\"Initialize name and age attributes\"\"\"\n",
    "\n",
    "        self.name = name\n",
    "        self.age = age \n",
    "\n",
    "        def sit(self):\n",
    "            \"\"\"simulate a dog sitting in response to a command\"\"\"\n",
    "            print(f\"{self.name} is now sitting\")\n",
    "        \n",
    "        def roll(self):\n",
    "            \"\"\"simulate a dog rolling in response to a command\"\"\"\n",
    "            print(f\"{self.name} rolled over\")"
   ]
  },
  {
   "cell_type": "code",
   "execution_count": null,
   "id": "4f959902",
   "metadata": {},
   "outputs": [],
   "source": []
  }
 ],
 "metadata": {
  "kernelspec": {
   "display_name": ".venv",
   "language": "python",
   "name": "python3"
  },
  "language_info": {
   "codemirror_mode": {
    "name": "ipython",
    "version": 3
   },
   "file_extension": ".py",
   "mimetype": "text/x-python",
   "name": "python",
   "nbconvert_exporter": "python",
   "pygments_lexer": "ipython3",
   "version": "3.13.3"
  }
 },
 "nbformat": 4,
 "nbformat_minor": 5
}
