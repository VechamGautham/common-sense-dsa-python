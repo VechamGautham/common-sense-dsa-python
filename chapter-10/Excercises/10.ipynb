{
 "cells": [
  {
   "cell_type": "markdown",
   "id": "035b73a1",
   "metadata": {},
   "source": [
    "1.“The following function prints every other number from a low number to a high number. For example, if low is 0 and high is 10, it would print: 0 2 4 6 8 10  \n",
    "Identify the base case in the function:\n",
    "\n",
    "```python\n",
    "def print_every_other(low, high):\n",
    "    if low > high:\n",
    "        return\n",
    "    print(low)\n",
    "    print_every_other(low + 2, high)\n",
    "```"
   ]
  },
  {
   "cell_type": "markdown",
   "id": "3f1e1ae2",
   "metadata": {},
   "source": [
    "1. the base function is 10 the call stops once the low number exceeds 10 that is 12 since 12 > 10 the loops stops therefore the base function value is 10"
   ]
  },
  {
   "cell_type": "markdown",
   "id": "3d7743e4",
   "metadata": {},
   "source": [
    "2.“My kid was playing with my computer and changed my factorial function so that it computes factorial based on `(n - 2)` instead of `(n - 1)`. He also changed `number <= 1` to `number == 1`.  \n",
    "\n",
    "Predict what will happen when we run `factorial(10)` using this function:\n",
    "\n",
    "```python\n",
    "def factorial(number):\n",
    "    if number == 1:\n",
    "        return 1\n",
    "    else:\n",
    "        return number * factorial(number - 2)\n",
    "```"
   ]
  },
  {
   "cell_type": "markdown",
   "id": "a4576424",
   "metadata": {},
   "source": [
    "2.  we would have infinte recurssion! factorial(10) calls factorial(8) , which calls(6) , which calles (4) ,which calls (2) , which calles(0). since the base case is set as number == 1. We never end up with number ever being 1. so the recursion continues"
   ]
  },
  {
   "cell_type": "markdown",
   "id": "2d728584",
   "metadata": {},
   "source": [
    "3.“Following is a function in which we pass in two numbers called `low` and `high`. The function returns the sum of all the numbers from `low` to `high`.  \n",
    "\n",
    "For example, if `low` is 1 and `high` is 10, the function will return the sum of all numbers from 1 to 10, which is 55.  \n",
    "\n",
    "However, our code is missing the base case and will run indefinitely!  \n",
    "Fix the code by adding the correct base case:\n",
    "\n",
    "```python\n",
    "def sum(low, high):\n",
    "    return high + sum(low, high - 1)\n",
    "```"
   ]
  },
  {
   "cell_type": "code",
   "execution_count": 7,
   "id": "5235de45",
   "metadata": {},
   "outputs": [],
   "source": [
    "def sum(low,high):\n",
    "    if high <= 0 :\n",
    "        return 0\n",
    "    \n",
    "    return (high + sum(low, high -1))"
   ]
  },
  {
   "cell_type": "code",
   "execution_count": 8,
   "id": "79bef2e2",
   "metadata": {},
   "outputs": [
    {
     "data": {
      "text/plain": [
       "55"
      ]
     },
     "execution_count": 8,
     "metadata": {},
     "output_type": "execute_result"
    }
   ],
   "source": [
    "sum(1,10)"
   ]
  },
  {
   "cell_type": "markdown",
   "id": "a00feb84",
   "metadata": {},
   "source": [
    "4.“Here’s an array containing both numbers and arrays, which in turn contain numbers and arrays:”\n",
    "```python\n",
    "array = [\n",
    "    1,\n",
    "    2,\n",
    "    3,\n",
    "    [4, 5, 6],\n",
    "    7,\n",
    "    [8, [9, 10, 11, [12, 13, 14]]],\n",
    "    [15, 16, 17, 18, 19,\n",
    "        [20, 21, 22,\n",
    "            [23, 24, 25, [26, 27, 29]\n",
    "            ], 30, 31\n",
    "        ], 32\n",
    "    ], 33\n",
    "]\n",
    "“Write a recursive function that prints all the numbers (and just numbers).\n",
    "”\n"
   ]
  },
  {
   "cell_type": "code",
   "execution_count": 19,
   "id": "2f0d407b",
   "metadata": {},
   "outputs": [],
   "source": [
    "def numbers(array):\n",
    "    for value in array:\n",
    "        # if the current values is an array:\n",
    "        if isinstance(value,list): # isinstance(object,type)\n",
    "            numbers(value)\n",
    "        else:\n",
    "            print(value)\n",
    "\n"
   ]
  },
  {
   "cell_type": "code",
   "execution_count": 18,
   "id": "6221c341",
   "metadata": {},
   "outputs": [
    {
     "name": "stdout",
     "output_type": "stream",
     "text": [
      "1\n",
      "2\n",
      "3\n",
      "4\n",
      "5\n",
      "6\n",
      "7\n",
      "8\n",
      "9\n",
      "10\n",
      "11\n",
      "12\n",
      "13\n",
      "14\n",
      "15\n",
      "16\n",
      "17\n",
      "18\n",
      "19\n",
      "20\n",
      "21\n",
      "22\n",
      "23\n",
      "24\n",
      "25\n",
      "26\n",
      "27\n",
      "29\n",
      "30\n",
      "31\n",
      "32\n",
      "33\n"
     ]
    }
   ],
   "source": [
    "array = [\n",
    "    1,\n",
    "    2,\n",
    "    3,\n",
    "    [4, 5, 6],\n",
    "    7,\n",
    "    [8, [9, 10, 11, [12, 13, 14]]],\n",
    "    [15, 16, 17, 18, 19,\n",
    "        [20, 21, 22,\n",
    "            [23, 24, 25, [26, 27, 29]\n",
    "            ], 30, 31\n",
    "        ], 32\n",
    "    ], 33\n",
    "]\n",
    "\n",
    "numbers(array)"
   ]
  }
 ],
 "metadata": {
  "kernelspec": {
   "display_name": ".venv (3.13.3)",
   "language": "python",
   "name": "python3"
  },
  "language_info": {
   "codemirror_mode": {
    "name": "ipython",
    "version": 3
   },
   "file_extension": ".py",
   "mimetype": "text/x-python",
   "name": "python",
   "nbconvert_exporter": "python",
   "pygments_lexer": "ipython3",
   "version": "3.13.3"
  }
 },
 "nbformat": 4,
 "nbformat_minor": 5
}
