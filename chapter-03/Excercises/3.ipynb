{
 "cells": [
  {
   "cell_type": "markdown",
   "id": "8c86ccd8",
   "metadata": {},
   "source": [
    "1.“Use Big O notation to describe the time complexity of the following function that determines whether a given year is a leap year:\n",
    "<pre>\n",
    "def is_leap_year(year):      \n",
    "    if year % 100 == 0:         \n",
    "        if year % 400 == 0:            \n",
    "            return False         \n",
    "        else:             \n",
    "            return True      \n",
    "    return year % 4 == 0”\n",
    "</pre>\n",
    "\n"
   ]
  },
  {
   "cell_type": "markdown",
   "id": "7abeef8e",
   "metadata": {},
   "source": [
    "1. O(1)"
   ]
  },
  {
   "cell_type": "markdown",
   "id": "8185a7b2",
   "metadata": {},
   "source": [
    " 2.“Use Big O notation to describe the time complexity of the following function that sums up all the numbers from a given array:\n",
    " <pre>\n",
    " def array_sum(array):     \n",
    "    sum = 0      \n",
    "    for number in array:         \n",
    "        sum += number      \n",
    "    return sum”\n",
    "</pre>\n",
    "\n"
   ]
  },
  {
   "cell_type": "markdown",
   "id": "b1e108fc",
   "metadata": {},
   "source": [
    "2. O(N) For N elements in the array , the loop will run N Times"
   ]
  },
  {
   "cell_type": "markdown",
   "id": "2b476d3d",
   "metadata": {},
   "source": [
    "3.“Use Big O notation to describe the time complexity of this function, which is below: \n",
    "<pre>\n",
    "def chessboard_space(number_of_grains):     \n",
    "    chessboard_spaces = 1     \n",
    "    placed_grains = 1      \n",
    "    while placed_grains < number_of_grains:        \n",
    "        placed_grains *= 2         \n",
    "        chessboard_spaces += 1      \n",
    "    return chessboard_spaces”\n",
    "</pre>"
   ]
  },
  {
   "cell_type": "code",
   "execution_count": 1,
   "id": "a81fc7cb",
   "metadata": {},
   "outputs": [],
   "source": [
    "def chessboard_space(no_of_grains):\n",
    "    placed_grain = 1\n",
    "    chessboard_space = 1\n",
    "    while placed_grain < no_of_grains:\n",
    "        placed_grain *= 2\n",
    "        chessboard_space +=1\n",
    "    return chessboard_space"
   ]
  },
  {
   "cell_type": "code",
   "execution_count": 25,
   "id": "28c51626",
   "metadata": {},
   "outputs": [
    {
     "name": "stdout",
     "output_type": "stream",
     "text": [
      "the chessboard space for 144 grain is: 9\n"
     ]
    }
   ],
   "source": [
    "print(f\"the chessboard space for 144 grain is: {chessboard_space(256)}\")"
   ]
  },
  {
   "cell_type": "markdown",
   "id": "61365a6c",
   "metadata": {},
   "source": [
    "3. O(log2(N))"
   ]
  },
  {
   "cell_type": "code",
   "execution_count": 20,
   "id": "42ce4471",
   "metadata": {},
   "outputs": [
    {
     "name": "stdout",
     "output_type": "stream",
     "text": [
      "Requirement already satisfied: numpy in /Users/gauthamvecham/Desktop/dsa/.venv/lib/python3.13/site-packages (2.3.0)\n"
     ]
    }
   ],
   "source": [
    "! pip install numpy"
   ]
  },
  {
   "cell_type": "code",
   "execution_count": 27,
   "id": "f35a637c",
   "metadata": {},
   "outputs": [
    {
     "name": "stdout",
     "output_type": "stream",
     "text": [
      "9\n"
     ]
    }
   ],
   "source": [
    "import math\n",
    "import numpy as np\n",
    "x = np.log2(256+1)\n",
    "chess_board_space = math.ceil(x) \n",
    "print(chess_board_space)"
   ]
  },
  {
   "cell_type": "markdown",
   "id": "9396dd23",
   "metadata": {},
   "source": [
    "5.“The following function accepts an array of strings and returns a new array that only contains the strings that start with the character \"a\". Use Big O notation to describe the time complexity of the function:”\n",
    "\n"
   ]
  },
  {
   "cell_type": "code",
   "execution_count": 7,
   "id": "90b93240",
   "metadata": {},
   "outputs": [
    {
     "name": "stdout",
     "output_type": "stream",
     "text": [
      "['a', 'a', 'a', 'a', 'a']\n"
     ]
    }
   ],
   "source": [
    "def select_a_string(array):\n",
    "    new_array=[]\n",
    "    for string in array:\n",
    "        if string[0] == \"a\":\n",
    "            new_array.append(string)\n",
    "    return new_array\n",
    "\n",
    "print(select_a_string(\"hello world apple a day keeps doctor away\"))\n"
   ]
  },
  {
   "cell_type": "markdown",
   "id": "69521aea",
   "metadata": {},
   "source": [
    "4. O(N). N is the number of strings within the array, and the loop will take N steps"
   ]
  },
  {
   "cell_type": "markdown",
   "id": "326f6c77",
   "metadata": {},
   "source": [
    "“The following function calculates the median from an ordered array. Describe its time complexity in terms of Big O notation:”"
   ]
  },
  {
   "cell_type": "code",
   "execution_count": 13,
   "id": "ada6fa47",
   "metadata": {},
   "outputs": [
    {
     "name": "stdout",
     "output_type": "stream",
     "text": [
      "74.0\n"
     ]
    }
   ],
   "source": [
    "def median(array):\n",
    "    if not array:\n",
    "        return None\n",
    "    middle = len(array)//2\n",
    "\n",
    "    # if array has even amount of numbers:\n",
    "    if len(array)%2 ==0:\n",
    "        return (array[middle-1]+ array[middle]/2.0)\n",
    "    else: # if array has odd amount of numbers: \n",
    "        return array[middle]\n",
    "\n",
    "array = [num for num in range(100)]\n",
    "print(median(array))"
   ]
  },
  {
   "cell_type": "markdown",
   "id": "34e82c10",
   "metadata": {},
   "source": [
    "5. O(1).The algorithm takesa  fixed number of steps no matter what N is"
   ]
  }
 ],
 "metadata": {
  "kernelspec": {
   "display_name": ".venv",
   "language": "python",
   "name": "python3"
  },
  "language_info": {
   "codemirror_mode": {
    "name": "ipython",
    "version": 3
   },
   "file_extension": ".py",
   "mimetype": "text/x-python",
   "name": "python",
   "nbconvert_exporter": "python",
   "pygments_lexer": "ipython3",
   "version": "3.13.3"
  }
 },
 "nbformat": 4,
 "nbformat_minor": 5
}
