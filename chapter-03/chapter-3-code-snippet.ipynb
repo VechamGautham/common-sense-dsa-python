{
 "cells": [
  {
   "cell_type": "code",
   "execution_count": 2,
   "id": "bc099d41",
   "metadata": {},
   "outputs": [
    {
     "name": "stdout",
     "output_type": "stream",
     "text": [
      "Here's a thing: apples\n",
      "Here's a thing: baboons\n",
      "Here's a thing: cribs\n",
      "Here's a thing: dulcimers\n"
     ]
    }
   ],
   "source": [
    "things = ['apples', 'baboons', 'cribs', 'dulcimers']\n",
    "\n",
    "for thing in things:\n",
    "    print(\"Here's a thing: \"+ thing)"
   ]
  },
  {
   "cell_type": "markdown",
   "id": "2b07eaa2",
   "metadata": {},
   "source": [
    "this algorithm has an efficiency of O(N) "
   ]
  },
  {
   "cell_type": "code",
   "execution_count": 4,
   "id": "7ead208d",
   "metadata": {},
   "outputs": [],
   "source": [
    "# prime number alog\n",
    "def is_prime(number):\n",
    "    for i in range(2,number):\n",
    "        if number % i == 0:\n",
    "            return False\n",
    "    return True"
   ]
  },
  {
   "cell_type": "code",
   "execution_count": 5,
   "id": "e31624e0",
   "metadata": {},
   "outputs": [
    {
     "data": {
      "text/plain": [
       "False"
      ]
     },
     "execution_count": 5,
     "metadata": {},
     "output_type": "execute_result"
    }
   ],
   "source": [
    "is_prime(10)"
   ]
  },
  {
   "cell_type": "code",
   "execution_count": 6,
   "id": "9e873df0",
   "metadata": {},
   "outputs": [
    {
     "data": {
      "text/plain": [
       "True"
      ]
     },
     "execution_count": 6,
     "metadata": {},
     "output_type": "execute_result"
    }
   ],
   "source": [
    "is_prime(7)"
   ]
  },
  {
   "cell_type": "markdown",
   "id": "d0eb3927",
   "metadata": {},
   "source": [
    "this algorithm has a efficiency of O(N)"
   ]
  }
 ],
 "metadata": {
  "kernelspec": {
   "display_name": ".venv",
   "language": "python",
   "name": "python3"
  },
  "language_info": {
   "codemirror_mode": {
    "name": "ipython",
    "version": 3
   },
   "file_extension": ".py",
   "mimetype": "text/x-python",
   "name": "python",
   "nbconvert_exporter": "python",
   "pygments_lexer": "ipython3",
   "version": "3.13.3"
  }
 },
 "nbformat": 4,
 "nbformat_minor": 5
}
