{
 "cells": [
  {
   "cell_type": "markdown",
   "id": "20c690d0",
   "metadata": {},
   "source": [
    "1.“Use Big O notation to describe the time complexity of an algorithm that takes 4N + 16 steps.”"
   ]
  },
  {
   "cell_type": "markdown",
   "id": "1f18454e",
   "metadata": {},
   "source": [
    "1. O(N) big 0h does'nt care about constants"
   ]
  },
  {
   "cell_type": "markdown",
   "id": "c471befe",
   "metadata": {},
   "source": [
    "2.“Use Big O notation to describe the time complexity of an algorithm that takes 2N2.”\n"
   ]
  },
  {
   "cell_type": "markdown",
   "id": "2e939823",
   "metadata": {},
   "source": [
    "2. O(N^2) doesn't care about constants"
   ]
  },
  {
   "cell_type": "markdown",
   "id": "a21eb241",
   "metadata": {},
   "source": [
    "3.“Use Big O notation to describe the time complexity of the following function, which returns the sum of all numbers of an array after the numbers have been doubled:”"
   ]
  },
  {
   "cell_type": "code",
   "execution_count": 1,
   "id": "72e69e36",
   "metadata": {},
   "outputs": [],
   "source": [
    "def double_then_sum(array):\n",
    "    doubled_array = []\n",
    "\n",
    "    for number in array :\n",
    "        doubled_array.append(number*2)\n",
    "    \n",
    "    sum = 0\n",
    "\n",
    "    for number in doubled_array:\n",
    "        sum+= number \n",
    "    \n",
    "    return sum"
   ]
  },
  {
   "cell_type": "code",
   "execution_count": 2,
   "id": "d0aae601",
   "metadata": {},
   "outputs": [
    {
     "data": {
      "text/plain": [
       "30"
      ]
     },
     "execution_count": 2,
     "metadata": {},
     "output_type": "execute_result"
    }
   ],
   "source": [
    "double_then_sum([1,2,3,4,5])"
   ]
  },
  {
   "cell_type": "markdown",
   "id": "c195a912",
   "metadata": {},
   "source": [
    "3. O(N)"
   ]
  },
  {
   "cell_type": "markdown",
   "id": "37506fc4",
   "metadata": {},
   "source": [
    "4.“Use Big O notation to describe the time complexity of the following function, which accepts an array of strings and prints each string in multiple cases:”\n",
    "<pre>\n",
    "def multiple_cases(array):     \n",
    "    for string in array:         \n",
    "        print(string.upper())         \n",
    "        print(string.lower())         \n",
    "        print(string.capitalize())\n",
    "</pre>\n"
   ]
  },
  {
   "cell_type": "markdown",
   "id": "f24302be",
   "metadata": {},
   "source": [
    "4. O(N)"
   ]
  },
  {
   "cell_type": "markdown",
   "id": "ab91366b",
   "metadata": {},
   "source": [
    "5.“The next function iterates over an array of numbers. As it does so, it focuses on every other number while ignoring the numbers in between. For each “focus number,” the function proceeds to print out every number from the array—one at a time—after being added to the focus number.\n",
    "What is this function’s efficiency in terms of Big O notation?”\n",
    "\n",
    "<pre>\n",
    "“def every_other(array):     \n",
    "    for index, number in enumerate(array):         \n",
    "        if index % 2 == 0:             \n",
    "            for other_number in array:                 \n",
    "                print(number + other_number)”\n",
    "\n",
    "</pre>\n"
   ]
  },
  {
   "cell_type": "markdown",
   "id": "02ba1a23",
   "metadata": {},
   "source": [
    "O(N^2) becuase nested loop is taking place"
   ]
  }
 ],
 "metadata": {
  "kernelspec": {
   "display_name": ".venv",
   "language": "python",
   "name": "python3"
  },
  "language_info": {
   "codemirror_mode": {
    "name": "ipython",
    "version": 3
   },
   "file_extension": ".py",
   "mimetype": "text/x-python",
   "name": "python",
   "nbconvert_exporter": "python",
   "pygments_lexer": "ipython3",
   "version": "3.13.3"
  }
 },
 "nbformat": 4,
 "nbformat_minor": 5
}
