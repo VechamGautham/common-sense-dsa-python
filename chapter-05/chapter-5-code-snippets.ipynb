{
 "cells": [
  {
   "cell_type": "markdown",
   "id": "4cef012c",
   "metadata": {},
   "source": [
    "# SELECTION SORT"
   ]
  },
  {
   "cell_type": "code",
   "execution_count": null,
   "id": "f4b8b22c",
   "metadata": {},
   "outputs": [],
   "source": [
    "def selection_sort(array):\n",
    "    for i in range(len(array)-1):\n",
    "        lowest_number_index = i\n",
    "\n",
    "        for j in range(i+1,len(array)):\n",
    "            if array[j] < array[lowest_number_index]:\n",
    "                lowest_number_index = j \n",
    "        if lowest_number_index != i :\n",
    "            array[i],array[lowest_number_index] = array[lowest_number_index],array[i]\n",
    "    return array"
   ]
  },
  {
   "cell_type": "code",
   "execution_count": 4,
   "id": "a9fe42b8",
   "metadata": {},
   "outputs": [
    {
     "data": {
      "text/plain": [
       "[1, 4, 5, 7, 7, 8]"
      ]
     },
     "execution_count": 4,
     "metadata": {},
     "output_type": "execute_result"
    }
   ],
   "source": [
    "selection_sort([7,5,4,7,8,1])"
   ]
  },
  {
   "cell_type": "code",
   "execution_count": null,
   "id": "73d6d366",
   "metadata": {},
   "outputs": [],
   "source": [
    "def bubble_sort(array):\n",
    "    no_swap_until_index = len(array)-1\n",
    "    sorted = False\n",
    "    while not sorted :\n",
    "        sorted = True \n",
    "        for i in range(no_swap_until_index):\n",
    "            if array[i] > array[i+1]:\n",
    "                array[i],array[i+1] = array[i+1],array[i]\n",
    "                sorted = False\n",
    "        no_swap_until_index -= 1\n",
    "    return array\n"
   ]
  },
  {
   "cell_type": "code",
   "execution_count": 14,
   "id": "fa92f34c",
   "metadata": {},
   "outputs": [
    {
     "data": {
      "text/plain": [
       "[1, 4, 5, 7, 7, 8]"
      ]
     },
     "execution_count": 14,
     "metadata": {},
     "output_type": "execute_result"
    }
   ],
   "source": [
    "bubble_sort([7,5,4,7,8,1])"
   ]
  }
 ],
 "metadata": {
  "kernelspec": {
   "display_name": ".venv",
   "language": "python",
   "name": "python3"
  },
  "language_info": {
   "codemirror_mode": {
    "name": "ipython",
    "version": 3
   },
   "file_extension": ".py",
   "mimetype": "text/x-python",
   "name": "python",
   "nbconvert_exporter": "python",
   "pygments_lexer": "ipython3",
   "version": "3.13.3"
  }
 },
 "nbformat": 4,
 "nbformat_minor": 5
}
