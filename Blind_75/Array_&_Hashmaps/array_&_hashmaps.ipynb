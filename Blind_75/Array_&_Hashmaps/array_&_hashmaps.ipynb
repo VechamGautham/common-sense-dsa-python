{
 "cells": [
  {
   "cell_type": "markdown",
   "id": "f0d8dac1",
   "metadata": {},
   "source": [
    "## 1. Two Sum\n",
    "\n",
    "🔗 [LeetCode Problem Link](https://leetcode.com/problems/two-sum/)\n",
    "\n",
    "### Problem Statement\n",
    "\n",
    "Given an array of integers `nums` and an integer `target`, return indices of the two numbers such that they add up to `target`.\n",
    "\n",
    "You may assume that each input would have exactly one solution, and you may not use the same element twice.\n",
    "\n",
    "You can return the answer in any order.\n",
    "\n",
    "---\n",
    "\n",
    "### Example:\n",
    "\n",
    "```python\n",
    "Input: nums = [2,7,11,15], target = 9\n",
    "Output: [0,1]\n",
    "Explanation: Because nums[0] + nums[1] == 9, we return [0, 1]"
   ]
  },
  {
   "cell_type": "code",
   "execution_count": 3,
   "id": "53cecdf5",
   "metadata": {},
   "outputs": [
    {
     "data": {
      "text/plain": [
       "[0, 1]"
      ]
     },
     "execution_count": 3,
     "metadata": {},
     "output_type": "execute_result"
    }
   ],
   "source": [
    "def twosum(nums,target):\n",
    "    seen = {}\n",
    "\n",
    "    for index , num in enumerate(nums):\n",
    "        diff = target - num\n",
    "\n",
    "        if diff in seen :\n",
    "            return [seen[diff],index]\n",
    "        seen[num] = index\n",
    "twosum(nums=[2,7,11,15],target=9)"
   ]
  },
  {
   "cell_type": "markdown",
   "id": "a490c8ef",
   "metadata": {},
   "source": [
    "## 🧠 Explanation – Two Sum\n",
    "\n",
    "The goal of the problem is to find two numbers in a list that add up to a given target. We are required to return the **indices** of these two numbers, and we cannot use the **same index twice**.\n",
    "\n",
    "To solve this efficiently, we use a **HashMap** (dictionary in Python) to keep track of the numbers we’ve seen so far along with their indices.\n",
    "\n",
    "---\n",
    "\n",
    "Here’s the reasoning behind the code:\n",
    "\n",
    "We start by creating an empty HashMap named `seen`. This will store each number as the key and its index as the value.\n",
    "\n",
    "Then, we loop through the list using `enumerate(nums)`, which gives both the index and the value (`index`, `num`) at the same time.\n",
    "\n",
    "For each number in the list, we subtract it from the target to get the **required complement** (i.e., `diff = target - num`). This `diff` is the number we’re looking for that, when added to the current `num`, will equal the target.\n",
    "\n",
    "Next, we check if this `diff` is already present in the HashMap. If it is, that means we have already seen a number earlier in the list that can be paired with the current number to reach the target. Since the HashMap stores the index of that number, we simply return `[seen[diff], index]`.\n",
    "\n",
    "If `diff` is not found in the HashMap, we store the current number and its index in the map using `seen[num] = i`. This way, it will be available for future iterations if needed as someone else’s complement. \n",
    "\n",
    "Since HashMaps only store unique keys, we don’t have to worry if a key’s index gets updated. In the end, we just need the indices of the two numbers that add up to the target. As long as that condition is satisfied, we’re good to go\n",
    "\n",
    "At the beginning, the HashMap is empty, so it keeps filling up as we move through the array. The loop continues until the required pair is found and returned.\n",
    "\n",
    "This approach ensures we get the answer in **O(n)** time using only a single pass through the array."
   ]
  },
  {
   "cell_type": "markdown",
   "id": "9ca759e1",
   "metadata": {},
   "source": [
    "## 3. Contains Duplicate\n",
    "\n",
    "🔗 [LeetCode Problem Link](https://leetcode.com/problems/contains-duplicate/)\n",
    "\n",
    "---\n",
    "\n",
    "### ✅ Problem Statement\n",
    "\n",
    "Given an integer array `nums`, return `true` if **any value appears at least twice** in the array, and return `false` if **every element is distinct**.\n",
    "\n",
    "---\n",
    "\n",
    "### 🔍 Example:\n",
    "\n",
    "```python\n",
    "Input: nums = [1, 2, 3, 1]\n",
    "Output: True\n",
    "\n",
    "Input: nums = [1, 2, 3, 4]\n",
    "Output: False\n",
    "\n",
    "Input: nums = [1, 1, 1, 3, 3, 4, 3, 2, 4, 2]\n",
    "Output: True"
   ]
  },
  {
   "cell_type": "code",
   "execution_count": 6,
   "id": "755c60f7",
   "metadata": {},
   "outputs": [
    {
     "name": "stdout",
     "output_type": "stream",
     "text": [
      "nums = [1,2,3,1]\n",
      "True\n",
      "nums=[1,2,3,4]\n",
      "False\n"
     ]
    }
   ],
   "source": [
    "def contains_duplicate(nums):\n",
    "    hashmap = {}\n",
    "\n",
    "    for num in nums :\n",
    "        if num in hashmap :\n",
    "            return True \n",
    "        hashmap[num] = 1 \n",
    "    return False \n",
    "print('nums = [1,2,3,1]')\n",
    "print(contains_duplicate(nums=[1, 2, 3, 1]))\n",
    "\n",
    "print(\"nums=[1,2,3,4]\")\n",
    "print(contains_duplicate(nums=[1,2,3,4]))"
   ]
  },
  {
   "cell_type": "markdown",
   "id": "e86bd980",
   "metadata": {},
   "source": [
    "## 🧠 Explanation – Contains Duplicate\n",
    "\n",
    "The goal of this problem is to determine if any value in the given list appears **more than once**. In other words, we need to check for the presence of **duplicates** in the list.\n",
    "\n",
    "To solve this efficiently, we use a **HashMap** (dictionary in Python) to track which numbers have already been seen during iteration.\n",
    "\n",
    "---\n",
    "\n",
    "Here’s the reasoning behind the code:\n",
    "\n",
    "We start by creating an empty HashMap named `hashmap`. This will be used to **store each number** as we iterate through the list. The number itself will be the key, and we can assign any dummy value (e.g., `1`) as the value — we just care about checking if the number exists.\n",
    "\n",
    "Then, we loop through the list using a simple `for` loop: `for num in nums`.\n",
    "\n",
    "For each number in the list, we check:  \n",
    "**Is this number already present in the HashMap?**  \n",
    "- If yes, that means this number has already appeared earlier in the list — so we’ve found a duplicate. In that case, we immediately return `True`.\n",
    "\n",
    "If the number is not found in the HashMap, we store it using `hashmap[num] = 1`. This marks the number as \"seen\" so that if it appears again later in the list, we’ll detect the duplicate.\n",
    "\n",
    "If the entire list is processed without finding any duplicate, that means all elements are unique, and we return `False`.\n",
    "\n",
    "This approach ensures an efficient solution with **O(n)** time complexity and **O(n)** space complexity."
   ]
  },
  {
   "cell_type": "markdown",
   "id": "579d7099",
   "metadata": {},
   "source": [
    "## 4. Valid Anagram\n",
    "\n",
    "🔗 [LeetCode Problem Link](https://leetcode.com/problems/valid-anagram/)\n",
    "\n",
    "---\n",
    "\n",
    "### ✅ Problem Statement\n",
    "\n",
    "Given two strings `s` and `t`, return `true` if `t` is an anagram of `s`, and `false` otherwise.\n",
    "\n",
    "An **anagram** is a word or phrase formed by rearranging the letters of a different word or phrase, typically using **all the original letters exactly once**.\n",
    "\n",
    "---\n",
    "\n",
    "### 🔍 Example:\n",
    "\n",
    "```python\n",
    "Input: s = \"anagram\", t = \"nagaram\"\n",
    "Output: True\n",
    "\n",
    "Input: s = \"rat\", t = \"car\"\n",
    "Output: False"
   ]
  }
 ],
 "metadata": {
  "kernelspec": {
   "display_name": ".venv",
   "language": "python",
   "name": "python3"
  },
  "language_info": {
   "codemirror_mode": {
    "name": "ipython",
    "version": 3
   },
   "file_extension": ".py",
   "mimetype": "text/x-python",
   "name": "python",
   "nbconvert_exporter": "python",
   "pygments_lexer": "ipython3",
   "version": "3.13.3"
  }
 },
 "nbformat": 4,
 "nbformat_minor": 5
}
