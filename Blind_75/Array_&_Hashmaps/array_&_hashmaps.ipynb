{
 "cells": [
  {
   "cell_type": "markdown",
   "id": "f0d8dac1",
   "metadata": {},
   "source": [
    "## 1. Two Sum\n",
    "\n",
    "🔗 [LeetCode Problem Link](https://leetcode.com/problems/two-sum/)\n",
    "\n",
    "### Problem Statement\n",
    "\n",
    "Given an array of integers `nums` and an integer `target`, return indices of the two numbers such that they add up to `target`.\n",
    "\n",
    "You may assume that each input would have exactly one solution, and you may not use the same element twice.\n",
    "\n",
    "You can return the answer in any order.\n",
    "\n",
    "---\n",
    "\n",
    "### Example:\n",
    "\n",
    "```python\n",
    "Input: nums = [2,7,11,15], target = 9\n",
    "Output: [0,1]\n",
    "Explanation: Because nums[0] + nums[1] == 9, we return [0, 1]"
   ]
  },
  {
   "cell_type": "code",
   "execution_count": 3,
   "id": "53cecdf5",
   "metadata": {},
   "outputs": [
    {
     "data": {
      "text/plain": [
       "[0, 1]"
      ]
     },
     "execution_count": 3,
     "metadata": {},
     "output_type": "execute_result"
    }
   ],
   "source": [
    "def twosum(nums,target):\n",
    "    seen = {}\n",
    "\n",
    "    for index , num in enumerate(nums):\n",
    "        diff = target - num\n",
    "\n",
    "        if diff in seen :\n",
    "            return [seen[diff],index]\n",
    "        seen[num] = index\n",
    "twosum(nums=[2,7,11,15],target=9)"
   ]
  },
  {
   "cell_type": "markdown",
   "id": "a490c8ef",
   "metadata": {},
   "source": [
    "## 🧠 Explanation – Two Sum\n",
    "\n",
    "The goal of the problem is to find two numbers in a list that add up to a given target. We are required to return the **indices** of these two numbers, and we cannot use the **same index twice**.\n",
    "\n",
    "To solve this efficiently, we use a **HashMap** (dictionary in Python) to keep track of the numbers we’ve seen so far along with their indices.\n",
    "\n",
    "---\n",
    "\n",
    "Here’s the reasoning behind the code:\n",
    "\n",
    "We start by creating an empty HashMap named `seen`. This will store each number as the key and its index as the value.\n",
    "\n",
    "Then, we loop through the list using `enumerate(nums)`, which gives both the index and the value (`index`, `num`) at the same time.\n",
    "\n",
    "For each number in the list, we subtract it from the target to get the **required complement** (i.e., `diff = target - num`). This `diff` is the number we’re looking for that, when added to the current `num`, will equal the target.\n",
    "\n",
    "Next, we check if this `diff` is already present in the HashMap. If it is, that means we have already seen a number earlier in the list that can be paired with the current number to reach the target. Since the HashMap stores the index of that number, we simply return `[seen[diff], index]`.\n",
    "\n",
    "If `diff` is not found in the HashMap, we store the current number and its index in the map using `seen[num] = i`. This way, it will be available for future iterations if needed as someone else’s complement. \n",
    "\n",
    "Since HashMaps only store unique keys, we don’t have to worry if a key’s index gets updated. In the end, we just need the indices of the two numbers that add up to the target. As long as that condition is satisfied, we’re good to go\n",
    "\n",
    "At the beginning, the HashMap is empty, so it keeps filling up as we move through the array. The loop continues until the required pair is found and returned.\n",
    "\n",
    "This approach ensures we get the answer in **O(n)** time using only a single pass through the array."
   ]
  },
  {
   "cell_type": "markdown",
   "id": "9ca759e1",
   "metadata": {},
   "source": [
    "## 3. Contains Duplicate\n",
    "\n",
    "🔗 [LeetCode Problem Link](https://leetcode.com/problems/contains-duplicate/)\n",
    "\n",
    "---\n",
    "\n",
    "### ✅ Problem Statement\n",
    "\n",
    "Given an integer array `nums`, return `true` if **any value appears at least twice** in the array, and return `false` if **every element is distinct**.\n",
    "\n",
    "---\n",
    "\n",
    "### 🔍 Example:\n",
    "\n",
    "```python\n",
    "Input: nums = [1, 2, 3, 1]\n",
    "Output: True\n",
    "\n",
    "Input: nums = [1, 2, 3, 4]\n",
    "Output: False\n",
    "\n",
    "Input: nums = [1, 1, 1, 3, 3, 4, 3, 2, 4, 2]\n",
    "Output: True"
   ]
  },
  {
   "cell_type": "code",
   "execution_count": 6,
   "id": "755c60f7",
   "metadata": {},
   "outputs": [
    {
     "name": "stdout",
     "output_type": "stream",
     "text": [
      "nums = [1,2,3,1]\n",
      "True\n",
      "nums=[1,2,3,4]\n",
      "False\n"
     ]
    }
   ],
   "source": [
    "def contains_duplicate(nums):\n",
    "    hashmap = {}\n",
    "\n",
    "    for num in nums :\n",
    "        if num in hashmap :\n",
    "            return True \n",
    "        hashmap[num] = 1 \n",
    "    return False \n",
    "print('nums = [1,2,3,1]')\n",
    "print(contains_duplicate(nums=[1, 2, 3, 1]))\n",
    "\n",
    "print(\"nums=[1,2,3,4]\")\n",
    "print(contains_duplicate(nums=[1,2,3,4]))"
   ]
  },
  {
   "cell_type": "markdown",
   "id": "e86bd980",
   "metadata": {},
   "source": [
    "## 🧠 Explanation – Contains Duplicate\n",
    "\n",
    "The goal of this problem is to determine if any value in the given list appears **more than once**. In other words, we need to check for the presence of **duplicates** in the list.\n",
    "\n",
    "To solve this efficiently, we use a **HashMap** (dictionary in Python) to track which numbers have already been seen during iteration.\n",
    "\n",
    "---\n",
    "\n",
    "Here’s the reasoning behind the code:\n",
    "\n",
    "We start by creating an empty HashMap named `hashmap`. This will be used to **store each number** as we iterate through the list. The number itself will be the key, and we can assign any dummy value (e.g., `1`) as the value — we just care about checking if the number exists.\n",
    "\n",
    "Then, we loop through the list using a simple `for` loop: `for num in nums`.\n",
    "\n",
    "For each number in the list, we check:  \n",
    "**Is this number already present in the HashMap?**  \n",
    "- If yes, that means this number has already appeared earlier in the list — so we’ve found a duplicate. In that case, we immediately return `True`.\n",
    "\n",
    "If the number is not found in the HashMap, we store it using `hashmap[num] = 1`. This marks the number as \"seen\" so that if it appears again later in the list, we’ll detect the duplicate.\n",
    "\n",
    "If the entire list is processed without finding any duplicate, that means all elements are unique, and we return `False`.\n",
    "\n",
    "This approach ensures an efficient solution with **O(n)** time complexity and **O(n)** space complexity."
   ]
  },
  {
   "cell_type": "markdown",
   "id": "579d7099",
   "metadata": {},
   "source": [
    "## 4. Valid Anagram\n",
    "\n",
    "🔗 [LeetCode Problem Link](https://leetcode.com/problems/valid-anagram/)\n",
    "\n",
    "---\n",
    "\n",
    "### ✅ Problem Statement\n",
    "\n",
    "Given two strings `s` and `t`, return `true` if `t` is an anagram of `s`, and `false` otherwise.\n",
    "\n",
    "An **anagram** is a word or phrase formed by rearranging the letters of a different word or phrase, typically using **all the original letters exactly once**.\n",
    "\n",
    "---\n",
    "\n",
    "### 🔍 Example:\n",
    "\n",
    "```python\n",
    "Input: s = \"anagram\", t = \"nagaram\"\n",
    "Output: True\n",
    "\n",
    "Input: s = \"rat\", t = \"car\"\n",
    "Output: False"
   ]
  },
  {
   "cell_type": "markdown",
   "id": "8ff59897",
   "metadata": {},
   "source": [
    "my code not optimized because it take more memory "
   ]
  },
  {
   "cell_type": "code",
   "execution_count": 3,
   "id": "df2cc8e1",
   "metadata": {},
   "outputs": [
    {
     "name": "stdout",
     "output_type": "stream",
     "text": [
      "True\n",
      "False\n"
     ]
    }
   ],
   "source": [
    "def valid_anagram(s,t):\n",
    "    hashmap_s = {}\n",
    "    hashmap_t = {}\n",
    "\n",
    "    for char in s :\n",
    "        if char not in hashmap_s :\n",
    "            hashmap_s[char] = 1 \n",
    "        else:\n",
    "            hashmap_s[char] += 1 \n",
    "    \n",
    "    for char in t :\n",
    "        if char not in hashmap_t :\n",
    "            hashmap_t[char] = 1 \n",
    "        else:\n",
    "            hashmap_t[char] += 1 \n",
    "    \n",
    "    if hashmap_s == hashmap_t:\n",
    "        return True \n",
    "    else:\n",
    "        return False \n",
    "    \n",
    "print(valid_anagram(s=\"anagram\",t=\"nagaram\"))\n",
    "\n",
    "print(valid_anagram(s=\"rat\",t=\"car\"))"
   ]
  },
  {
   "cell_type": "markdown",
   "id": "0aff1c3c",
   "metadata": {},
   "source": [
    "## 🧠 Explanation – Valid Anagram\n",
    "\n",
    "The goal of this problem is to check whether two given strings `s` and `t` are anagrams of each other. An anagram means both strings contain the **same characters** with the **same frequency**, but possibly in a different order.\n",
    "\n",
    "To solve this, we use **two HashMaps** (dictionaries in Python) — one to store the character frequency of `s`, and the other for `t`. Then we compare both hashmaps. If they are equal, it means the strings are anagrams; otherwise, they are not.\n",
    "\n",
    "---\n",
    "\n",
    "Here’s the reasoning behind the code:\n",
    "\n",
    "We start by creating two empty HashMaps — `hashmap_s` and `hashmap_t`. These will be used to **store each character and its frequency** from strings `s` and `t`, respectively.\n",
    "\n",
    "We loop through string `s` and for each character, we check if it's already in `hashmap_s`:\n",
    "- If it is, we increment its value.\n",
    "- If it’s not, we set the value to 1.\n",
    "\n",
    "We repeat the same process for string `t`, storing character counts in `hashmap_t`.\n",
    "\n",
    "After both loops finish, we compare `hashmap_s == hashmap_t`.\n",
    "\n",
    "If this condition is `True`, we return `True` — the strings are anagrams.  \n",
    "If not, we return `False`.\n",
    "\n",
    "---\n",
    "\n",
    "### 💡 Why comparing two hashmaps works:\n",
    "\n",
    "Even though the characters in the strings may appear in different orders, comparing two dictionaries like `hashmap_s == hashmap_t` works because:\n",
    "- Dictionaries in Python compare **keys and values**, not insertion order.\n",
    "- Python creates internal storage based on **key hashing**, so the actual order doesn't matter.\n",
    "- As long as both dictionaries have the same character keys with the same frequency values, they are considered equal.\n",
    "\n",
    "---\n",
    "\n",
    "This approach gives us a clear and reliable way to check for anagrams using:\n",
    "- **O(n)** time complexity (single pass through both strings)\n",
    "- **O(n)** space complexity (one entry per unique character — or O(1) if limited to lowercase English letters)"
   ]
  },
  {
   "cell_type": "markdown",
   "id": "bb163ae5",
   "metadata": {},
   "source": [
    "optimized code with less memory "
   ]
  },
  {
   "cell_type": "code",
   "execution_count": 6,
   "id": "c9045876",
   "metadata": {},
   "outputs": [
    {
     "name": "stdout",
     "output_type": "stream",
     "text": [
      "True\n",
      "False\n"
     ]
    }
   ],
   "source": [
    "def valid_anagram(s,t):\n",
    "    if len(s) != len(t):\n",
    "        return False \n",
    "    \n",
    "    count = {}\n",
    "\n",
    "    for i in range(len(s)):\n",
    "        count[s[i]] = count.get(s[i],0) + 1 \n",
    "        count[t[i]] = count.get(t[i],0) - 1 \n",
    "    \n",
    "    for val in count.values():\n",
    "        if val != 0 :\n",
    "            return False \n",
    "    return True\n",
    "\n",
    "print(valid_anagram(s=\"anagram\",t=\"nagaram\"))\n",
    "\n",
    "print(valid_anagram(s=\"rat\",t=\"car\"))\n",
    "\n"
   ]
  },
  {
   "cell_type": "markdown",
   "id": "42a5416e",
   "metadata": {},
   "source": [
    "## 🧠 Explanation – Valid Anagram (Optimized Single HashMap Approach)\n",
    "\n",
    "The goal of this problem is to check whether two given strings `s` and `t` are anagrams of each other.  \n",
    "An anagram means both strings contain the **same characters** with the **same frequency**, but possibly in a different order.\n",
    "\n",
    "To solve this, we first check if the lengths of both strings are different. If they are, we can directly return `False` since anagrams must be the same length.\n",
    "\n",
    "If the lengths are equal, we create an empty HashMap called `count`. Then we iterate through both strings at the same time using a single loop. For every character in string `s`, we increase its count by 1. For every character in string `t`, we decrease its count by 1.\n",
    "\n",
    "This works because if both strings are true anagrams, then after processing all characters, each character’s final count will be 0.\n",
    "\n",
    "After the loop, we go through all values in the `count` dictionary. If any value is not 0, it means the strings are not anagrams, so we return `False`. Otherwise, we return `True`.\n",
    "\n",
    "---\n",
    "\n",
    "### 💡 Why this works:\n",
    "\n",
    "- We use `.get(char, 0)` to safely get the existing count or default to 0 if the character hasn't been seen yet.\n",
    "- This approach eliminates the need for two separate hashmaps and avoids comparing two dictionaries.\n",
    "- It’s efficient and clean for DSA interviews.\n",
    "\n",
    "---\n",
    "\n",
    "This approach gives us a reliable and optimal way to check for anagrams using:\n",
    "- **O(n)** time complexity (single pass through both strings)\n",
    "- **O(n)** space complexity (or **O(1)** if only lowercase English letters are used)"
   ]
  },
  {
   "cell_type": "markdown",
   "id": "e5083d59",
   "metadata": {},
   "source": [
    "## 5. Group Anagrams\n",
    "\n",
    "🔗 [LeetCode Problem Link](https://leetcode.com/problems/group-anagrams/)\n",
    "\n",
    "---\n",
    "\n",
    "### ✅ Problem Statement\n",
    "\n",
    "Given an array of strings `strs`, group the anagrams together. You can return the answer in **any order**.\n",
    "\n",
    "An **anagram** is a word formed by rearranging the letters of a different word, using all the original letters exactly once.\n",
    "\n",
    "---\n",
    "\n",
    "### 🔍 Example:\n",
    "\n",
    "```python\n",
    "Input: strs = [\"eat\", \"tea\", \"tan\", \"ate\", \"nat\", \"bat\"]\n",
    "Output: [[\"eat\", \"tea\", \"ate\"], [\"tan\", \"nat\"], [\"bat\"]]\n",
    "\n",
    "Input: strs = [\"\"]\n",
    "Output: [[\"\"]]\n",
    "\n",
    "Input: strs = [\"a\"]\n",
    "Output: [[\"a\"]]"
   ]
  },
  {
   "cell_type": "code",
   "execution_count": 11,
   "id": "ad8c3c00",
   "metadata": {},
   "outputs": [
    {
     "data": {
      "text/plain": [
       "[['eat', 'tea', 'ate'], ['tan', 'nat'], ['bat']]"
      ]
     },
     "execution_count": 11,
     "metadata": {},
     "output_type": "execute_result"
    }
   ],
   "source": [
    "def group_anagram(strs):\n",
    "    hashmap = {}\n",
    "\n",
    "    for string in strs :\n",
    "        sorted_string = ''.join(sorted(string))\n",
    "\n",
    "        if sorted_string not in  hashmap :\n",
    "            hashmap[sorted_string] = [string]\n",
    "        else :\n",
    "            hashmap[sorted_string].append(string)\n",
    "    \n",
    "    return list(hashmap.values())\n",
    "group_anagram(strs=[\"eat\", \"tea\", \"tan\", \"ate\", \"nat\", \"bat\"])"
   ]
  },
  {
   "cell_type": "markdown",
   "id": "64361707",
   "metadata": {},
   "source": [
    "## 🧠 Explanation – Group Anagrams\n",
    "\n",
    "The goal of this problem is to return a **nested list** where each sublist contains strings that are anagrams of each other.\n",
    "\n",
    "To solve this, the most effective strategy is to **sort each string** in the input list. All anagrams, when sorted alphabetically, result in the **same string**. For example:\n",
    "- `\"eat\"`, `\"tea\"`, and `\"ate\"` all become `\"aet\"` when sorted.\n",
    "\n",
    "This sorted string acts as a **unique key** in a HashMap (dictionary), and the original strings are grouped under this key.\n",
    "\n",
    "We start by creating an empty hashmap. Then we iterate through the list of strings. For each string:\n",
    "- We sort it using `sorted(string)` which returns a list of characters.\n",
    "- Since hashmaps can't use lists as keys, we convert it to a string using `''.join(sorted(string))` (you can also use `tuple(sorted(string)))`.\n",
    "- This sorted string is used as the key, and the original string is added to the list of values for that key.\n",
    "\n",
    "If the key is not already present in the hashmap, we initialize it with a list containing the string.  \n",
    "If the key exists, we simply append the string to the existing list.\n",
    "\n",
    "At the end, we return `list(hashmap.values())` which gives us the required nested list of grouped anagrams.\n",
    "\n",
    "---\n",
    "\n",
    "### 💡 Why this works:\n",
    "\n",
    "- Sorting each string ensures that all anagrams map to the same key.\n",
    "- Using a hashmap to group them based on their sorted form allows efficient grouping.\n",
    "- Converting the sorted list of characters into a string makes it usable as a dictionary key.\n",
    "\n",
    "---\n",
    "\n",
    "This approach gives us a clean and efficient way to group anagrams using:\n",
    "- **O(n * k log k)** time complexity (`n` = number of strings, `k` = max string length for sorting)\n",
    "- **O(n * k)** space complexity for storing grouped results"
   ]
  }
 ],
 "metadata": {
  "kernelspec": {
   "display_name": ".venv",
   "language": "python",
   "name": "python3"
  },
  "language_info": {
   "codemirror_mode": {
    "name": "ipython",
    "version": 3
   },
   "file_extension": ".py",
   "mimetype": "text/x-python",
   "name": "python",
   "nbconvert_exporter": "python",
   "pygments_lexer": "ipython3",
   "version": "3.13.3"
  }
 },
 "nbformat": 4,
 "nbformat_minor": 5
}
