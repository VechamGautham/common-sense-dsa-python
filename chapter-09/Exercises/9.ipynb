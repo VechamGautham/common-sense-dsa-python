{
 "cells": [
  {
   "cell_type": "markdown",
   "id": "beb22935",
   "metadata": {},
   "source": [
    "1.“If you were writing software for a call center that places callers on hold and then assigns them to “the next available representative,” would you use a stack or a queue?”"
   ]
  },
  {
   "cell_type": "markdown",
   "id": "1a79c867",
   "metadata": {},
   "source": [
    "1. I would use queue since its FIFO  once the first caller finished talking , the next caller get the chance to speak"
   ]
  },
  {
   "cell_type": "markdown",
   "id": "3ff4b25a",
   "metadata": {},
   "source": [
    "<pre>\n",
    "2.“If you pushed numbers onto a stack in the following order: 1, 2, 3, 4, 5, 6, and then popped two items, which number would you be able to read from the stack?”\n",
    "</pre>"
   ]
  },
  {
   "cell_type": "markdown",
   "id": "b32fce52",
   "metadata": {},
   "source": [
    "2. 1,2,3,4 since stack follows LIFO if two items were being popped out from the list it would be last two item from the list leaving 1,2,3,4"
   ]
  },
  {
   "cell_type": "markdown",
   "id": "5c3d0e97",
   "metadata": {},
   "source": [
    "<pre>\n",
    "3.“If you inserted numbers into a queue in the following order: 1, 2, 3, 4, 5, 6, and then dequeued two items, which number would you be able to read from the queue?”\n",
    "</pre>\n"
   ]
  },
  {
   "cell_type": "markdown",
   "id": "2722c598",
   "metadata": {},
   "source": [
    "3. 3,4,5,6 since queue follows FIFO if two items were being popped out from the list it would be first two items from the list leaving 3,4,5,6"
   ]
  },
  {
   "cell_type": "markdown",
   "id": "92b91549",
   "metadata": {},
   "source": [
    "<pre>\n",
    "4.“Write a function that uses a stack to reverse a string. (For example, \"abcde\" would become \"edcba\".) You can work with our earlier implementation of the Stack class.”\n",
    "</pre>"
   ]
  },
  {
   "cell_type": "code",
   "execution_count": 11,
   "id": "2ff80824",
   "metadata": {},
   "outputs": [],
   "source": [
    "class Stack:\n",
    "    def __init__(self):\n",
    "        self.data = []\n",
    "    def read(self):\n",
    "        if len(self.data) > 0:\n",
    "            return self.data[-1]\n",
    "        else:\n",
    "            return None \n",
    "    \n",
    "    def push(self,data):\n",
    "        self.data.append(data)\n",
    "    \n",
    "    def pop(self):\n",
    "        if len(self.data) > 0:\n",
    "            return self.data.pop()"
   ]
  },
  {
   "cell_type": "code",
   "execution_count": 12,
   "id": "b1598bf0",
   "metadata": {},
   "outputs": [],
   "source": [
    "def reverse(string):\n",
    "    stack = Stack()\n",
    "    reversed_string = \"\"\n",
    "\n",
    "    for char in string:\n",
    "        stack.push(char)\n",
    "\n",
    "    while stack.read():\n",
    "        reversed_string += stack.pop()\n",
    "    \n",
    "    return reversed_string"
   ]
  },
  {
   "cell_type": "code",
   "execution_count": 14,
   "id": "fa4afbf8",
   "metadata": {},
   "outputs": [
    {
     "name": "stdout",
     "output_type": "stream",
     "text": [
      "edcba\n"
     ]
    }
   ],
   "source": [
    "print(reverse(\"abcde\"))"
   ]
  }
 ],
 "metadata": {
  "kernelspec": {
   "display_name": ".venv",
   "language": "python",
   "name": "python3"
  },
  "language_info": {
   "codemirror_mode": {
    "name": "ipython",
    "version": 3
   },
   "file_extension": ".py",
   "mimetype": "text/x-python",
   "name": "python",
   "nbconvert_exporter": "python",
   "pygments_lexer": "ipython3",
   "version": "3.13.3"
  }
 },
 "nbformat": 4,
 "nbformat_minor": 5
}
