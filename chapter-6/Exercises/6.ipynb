{
 "cells": [
  {
   "cell_type": "markdown",
   "id": "69cd8028",
   "metadata": {},
   "source": [
    "1.“Use Big O notation to describe the efficiency of an algorithm that takes 3N2 + 2N + 1 steps.”\n"
   ]
  },
  {
   "cell_type": "markdown",
   "id": "cf072b7a",
   "metadata": {},
   "source": [
    "1. O(N^2) only cares about the highest power "
   ]
  },
  {
   "cell_type": "markdown",
   "id": "eb3202a8",
   "metadata": {},
   "source": [
    "2.“Use Big O notation to describe the efficiency of an algorithm that takes N + log N steps.”"
   ]
  },
  {
   "cell_type": "markdown",
   "id": "cf495ced",
   "metadata": {},
   "source": [
    "2. O(N) always takes N which has higher steps"
   ]
  },
  {
   "cell_type": "markdown",
   "id": "bf34e2f0",
   "metadata": {},
   "source": [
    "3.“The following function checks whether an array of numbers contains a pair of two numbers that add up to 10.“What are the best-, average-, and worst-case scenarios? Then, express the worst-case scenario in terms of Big O notation.”"
   ]
  },
  {
   "cell_type": "code",
   "execution_count": 1,
   "id": "390837e5",
   "metadata": {},
   "outputs": [],
   "source": [
    "def two_sum(array):\n",
    "    for index_i , value_i in enumerate(array):\n",
    "        for index_j,value_j in enumerate(array):\n",
    "            if (index_i != index_j) and (value_i + value_j == 10):\n",
    "                return True\n",
    "    return False"
   ]
  },
  {
   "cell_type": "code",
   "execution_count": 4,
   "id": "cebdc581",
   "metadata": {},
   "outputs": [
    {
     "data": {
      "text/plain": [
       "False"
      ]
     },
     "execution_count": 4,
     "metadata": {},
     "output_type": "execute_result"
    }
   ],
   "source": [
    "two_sum([1,2,4,5,3,2]) # false array"
   ]
  },
  {
   "cell_type": "code",
   "execution_count": 5,
   "id": "5f3dfc77",
   "metadata": {},
   "outputs": [
    {
     "data": {
      "text/plain": [
       "True"
      ]
     },
     "execution_count": 5,
     "metadata": {},
     "output_type": "execute_result"
    }
   ],
   "source": [
    "two_sum([6,4,5,2,4,7]) # True array"
   ]
  },
  {
   "cell_type": "markdown",
   "id": "b9609237",
   "metadata": {},
   "source": [
    "3. the best case would O(1) if the array would be [5,5,4,2] the worst case scenario would be O(N^2) if the array would be [5,3,2,1,5] the average would also O(N^2/2) equal to O(N^2)"
   ]
  },
  {
   "cell_type": "markdown",
   "id": "0b12ea87",
   "metadata": {},
   "source": [
    "4.“The following function returns whether or not a capital “X” is present within a string “What is this function’s time complexity in terms of Big O notation?\n",
    "Then, modify the code to improve the algorithm’s efficiency for best- and average-case scenarios.”"
   ]
  },
  {
   "cell_type": "code",
   "execution_count": 6,
   "id": "f78aadfa",
   "metadata": {},
   "outputs": [],
   "source": [
    "def contains_X(string):\n",
    "    found_X = False\n",
    "\n",
    "    for char in string:\n",
    "        if char == \"X\":\n",
    "            found_X = True\n",
    "    return found_X\n"
   ]
  },
  {
   "cell_type": "code",
   "execution_count": 7,
   "id": "5fe69402",
   "metadata": {},
   "outputs": [
    {
     "data": {
      "text/plain": [
       "True"
      ]
     },
     "execution_count": 7,
     "metadata": {},
     "output_type": "execute_result"
    }
   ],
   "source": [
    "contains_X(\"X-men\")"
   ]
  },
  {
   "cell_type": "code",
   "execution_count": 8,
   "id": "a4d43591",
   "metadata": {},
   "outputs": [
    {
     "data": {
      "text/plain": [
       "False"
      ]
     },
     "execution_count": 8,
     "metadata": {},
     "output_type": "execute_result"
    }
   ],
   "source": [
    "contains_X(\"spiderman\")"
   ]
  },
  {
   "cell_type": "markdown",
   "id": "932f4c4c",
   "metadata": {},
   "source": [
    "4. O(N) is the efficiency"
   ]
  },
  {
   "cell_type": "code",
   "execution_count": 10,
   "id": "54c381b7",
   "metadata": {},
   "outputs": [],
   "source": [
    "# with break the loop would break if it finds the X at the first few char so that it doest have to check for all the char in the string\n",
    "def contains_X(string):\n",
    "    found_X = False\n",
    "\n",
    "    for char in string:\n",
    "        if char == \"X\":\n",
    "            found_X = True\n",
    "            break\n",
    "    return found_X\n"
   ]
  }
 ],
 "metadata": {
  "kernelspec": {
   "display_name": ".venv",
   "language": "python",
   "name": "python3"
  },
  "language_info": {
   "codemirror_mode": {
    "name": "ipython",
    "version": 3
   },
   "file_extension": ".py",
   "mimetype": "text/x-python",
   "name": "python",
   "nbconvert_exporter": "python",
   "pygments_lexer": "ipython3",
   "version": "3.13.3"
  }
 },
 "nbformat": 4,
 "nbformat_minor": 5
}
