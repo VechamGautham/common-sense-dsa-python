{
 "cells": [
  {
   "cell_type": "markdown",
   "id": "ba10eb0f",
   "metadata": {},
   "source": [
    "# INSERTION SORT"
   ]
  },
  {
   "cell_type": "code",
   "execution_count": 8,
   "id": "a0a4287c",
   "metadata": {},
   "outputs": [],
   "source": [
    "def insertion_sort(array):\n",
    "    for index in range(len(array)):\n",
    "        temp_value = index \n",
    "        position = index -1 \n",
    "        \n",
    "        while position >= 0 :\n",
    "            if array[position] > temp_value:\n",
    "                array[position + 1] = array[position]\n",
    "                position = position -1 \n",
    "            else :\n",
    "                break \n",
    "        array[position + 1 ] = temp_value \n",
    "    return array\n"
   ]
  },
  {
   "cell_type": "code",
   "execution_count": 9,
   "id": "f315d032",
   "metadata": {},
   "outputs": [
    {
     "data": {
      "text/plain": [
       "[0, 1, 2, 3, 4]"
      ]
     },
     "execution_count": 9,
     "metadata": {},
     "output_type": "execute_result"
    }
   ],
   "source": [
    "insertion_sort([2,4,3,7,1])"
   ]
  },
  {
   "cell_type": "markdown",
   "id": "f986fef3",
   "metadata": {},
   "source": [
    "## INTERSECTION BETWEEN TWO ARRAYS"
   ]
  },
  {
   "cell_type": "code",
   "execution_count": 15,
   "id": "2373690b",
   "metadata": {},
   "outputs": [],
   "source": [
    "def intersection(first_array,second_array):\n",
    "    result = []\n",
    "\n",
    "    for i in first_array:\n",
    "        for j in second_array:\n",
    "            if  i == j:\n",
    "                result.append(i)\n",
    "    return result"
   ]
  },
  {
   "cell_type": "code",
   "execution_count": null,
   "id": "571ad47f",
   "metadata": {},
   "outputs": [
    {
     "data": {
      "text/plain": [
       "[1, 3]"
      ]
     },
     "execution_count": 17,
     "metadata": {},
     "output_type": "execute_result"
    }
   ],
   "source": [
    "intersection([1,2,3,2],[1,3,4,5,6])"
   ]
  },
  {
   "cell_type": "markdown",
   "id": "c303b8bf",
   "metadata": {},
   "source": [
    "the efficiency for the intersection() ins O(N*M)"
   ]
  },
  {
   "cell_type": "markdown",
   "id": "1eadc8b9",
   "metadata": {},
   "source": [
    "## MODIFIED INTERSECTION WITH BREAK"
   ]
  },
  {
   "cell_type": "code",
   "execution_count": 23,
   "id": "29a7b25f",
   "metadata": {},
   "outputs": [],
   "source": [
    "def intersection(first_array,second_array):\n",
    "    result = []\n",
    "\n",
    "    for i in first_array:\n",
    "        for j in second_array:\n",
    "            if i ==j:\n",
    "                result.append(i)\n",
    "                break\n",
    "                \n",
    "    return result"
   ]
  },
  {
   "cell_type": "code",
   "execution_count": 24,
   "id": "ff605994",
   "metadata": {},
   "outputs": [
    {
     "data": {
      "text/plain": [
       "[1, 3]"
      ]
     },
     "execution_count": 24,
     "metadata": {},
     "output_type": "execute_result"
    }
   ],
   "source": [
    "intersection([1,2,3,2],[1,3,4,5,6,3])"
   ]
  }
 ],
 "metadata": {
  "kernelspec": {
   "display_name": ".venv",
   "language": "python",
   "name": "python3"
  },
  "language_info": {
   "codemirror_mode": {
    "name": "ipython",
    "version": 3
   },
   "file_extension": ".py",
   "mimetype": "text/x-python",
   "name": "python",
   "nbconvert_exporter": "python",
   "pygments_lexer": "ipython3",
   "version": "3.13.3"
  }
 },
 "nbformat": 4,
 "nbformat_minor": 5
}
