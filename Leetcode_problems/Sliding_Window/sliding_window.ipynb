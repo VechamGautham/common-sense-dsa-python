{
 "cells": [
  {
   "cell_type": "markdown",
   "id": "67b655a0",
   "metadata": {},
   "source": [
    "### 🔗 Reference\n",
    "\n",
    "[Sliding Window Technique – Jay Wengrow (Common Sense DSA)](https://www.commonsensedev.com/jay-vs-leetcode/sliding-window-technique)"
   ]
  },
  {
   "cell_type": "markdown",
   "id": "765f9295",
   "metadata": {},
   "source": [
    "## 📚 Table of Contents\n",
    "\n",
    "1. [1 Problem: Max Sum of Four Consecutive Integers](#-problem-max-sum-of-four-consecutive-integers)"
   ]
  },
  {
   "cell_type": "markdown",
   "id": "6db37c90",
   "metadata": {},
   "source": [
    "## 1 Problem: Max Sum of Four Consecutive Integers\n",
    "\n",
    "---\n",
    "\n",
    "### 📝 Description:\n",
    "\n",
    "Given an array of integers, write a function to find the **maximum sum** of any **four consecutive elements** in the array.\n",
    "\n",
    "---\n",
    "\n",
    "### 🔢 Example:\n",
    "\n",
    "```python\n",
    "Input: [1, 3, 2, 6, 1, 4, 1, 8, 2]\n",
    "Output: 17\n",
    "\n",
    "# Explanation:\n",
    "# The subarray [4, 1, 8, 2] has the maximum sum = 15"
   ]
  },
  {
   "cell_type": "code",
   "execution_count": 7,
   "id": "9591f674",
   "metadata": {},
   "outputs": [
    {
     "name": "stdout",
     "output_type": "stream",
     "text": [
      "15\n"
     ]
    }
   ],
   "source": [
    "def max_sum_of_four_integers(nums):\n",
    "    current_sum = 0 \n",
    "    for i in range(4):\n",
    "        current_sum += nums[i]\n",
    "    \n",
    "    max_sum_so_far = current_sum \n",
    "\n",
    "    for i in range(4,len(nums)):\n",
    "        current_sum += nums[i]\n",
    "        current_sum -= nums[i-4]\n",
    "        max_sum_so_far = max(max_sum_so_far,current_sum) \n",
    "    \n",
    "    return max_sum_so_far \n",
    "\n",
    "print(max_sum_of_four_integers(nums=[1, 3, 2, 6, 1, 4, 1, 8, 2]))"
   ]
  },
  {
   "cell_type": "markdown",
   "id": "fa0bc573",
   "metadata": {},
   "source": [
    "## 🧠 Problem: Max Sum of Four Consecutive Integers\n",
    "\n",
    "---\n",
    "\n",
    "### 🎯 Objective:\n",
    "\n",
    "Find the **maximum sum** of any **four consecutive integers** in a given list of integers.\n",
    "\n",
    "---\n",
    "\n",
    "### 🚀 Approach: Sliding Window Technique\n",
    "\n",
    "The best way to solve this problem is by using the **sliding window technique** instead of brute-force.  \n",
    "While brute-force would involve nested loops and multiple repeated sum calculations, sliding window allows us to **optimize** it using a constant-time update.\n",
    "\n",
    "---\n",
    "\n",
    "### ⚙️ Intuition:\n",
    "\n",
    "- First, compute the sum of the first **4 elements** (index 0 to 3).  \n",
    "- This is your **initial window**, and the result is stored in a variable called `current_sum`.\n",
    "\n",
    "- Set `max_sum_so_far = current_sum` because that's our best sum found so far.\n",
    "\n",
    "- Now, begin iterating from index 4 to the end of the list.  \n",
    "  For every new element:\n",
    "  - Add the new number that enters the window (at index `i`)\n",
    "  - Subtract the number that just left the window (at index `i - 4`)\n",
    "  - Update `max_sum_so_far` if the current sum is greater\n",
    "\n",
    "---\n",
    "\n",
    "### 💡 Why Sliding Window?\n",
    "\n",
    "Let’s say your current window is from index `i-4` to `i-1`.  \n",
    "To slide it one step right:\n",
    "- Remove the first element in the current window (at index `i - 4`)\n",
    "- Add the new element coming into the window (at index `i`)\n",
    "- The other elements stay unchanged, so you don't need to recompute the entire sum — just update with addition and subtraction.\n",
    "\n",
    "This reduces the repeated calculations done in brute-force.\n",
    "\n",
    "---\n",
    "\n",
    "### 🔢 Example:\n",
    "\n",
    "Input:  \n",
    "`nums = [1, 3, 2, 6, 1, 4, 1, 8, 2]`\n",
    "\n",
    "Steps:\n",
    "- First 4 elements → `[1, 3, 2, 6]` → sum = 12  \n",
    "- Next window → `[3, 2, 6, 1]` → sum = 12  \n",
    "- Then → `[2, 6, 1, 4]` → sum = 13  \n",
    "- Then → `[6, 1, 4, 1]` → sum = 12  \n",
    "- Then → `[1, 4, 1, 8]` → sum = 14  \n",
    "- Then → `[4, 1, 8, 2]` → sum = 15  \n",
    "\n",
    "✅ **Maximum sum = 15**\n",
    "\n",
    "\n",
    "### ⏱️ Time and Space Complexity\n",
    "\n",
    "- **Time Complexity**: O(n)  \n",
    "  Only one pass through the array is needed, with constant-time updates.\n",
    "\n",
    "- **Space Complexity**: O(1)  \n",
    "  We only use a few variables for tracking sums, no extra data structures.\n",
    "\n",
    "---"
   ]
  }
 ],
 "metadata": {
  "kernelspec": {
   "display_name": ".venv (3.13.3)",
   "language": "python",
   "name": "python3"
  },
  "language_info": {
   "codemirror_mode": {
    "name": "ipython",
    "version": 3
   },
   "file_extension": ".py",
   "mimetype": "text/x-python",
   "name": "python",
   "nbconvert_exporter": "python",
   "pygments_lexer": "ipython3",
   "version": "3.13.3"
  }
 },
 "nbformat": 4,
 "nbformat_minor": 5
}
