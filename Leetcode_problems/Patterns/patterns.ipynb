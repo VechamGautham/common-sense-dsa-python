{
 "cells": [
  {
   "cell_type": "code",
   "execution_count": 6,
   "id": "d7ca4e61",
   "metadata": {},
   "outputs": [
    {
     "name": "stdout",
     "output_type": "stream",
     "text": [
      "* * * * * "
     ]
    }
   ],
   "source": [
    "n = 5 \n",
    "for i in range(n):\n",
    "    print(\"*\",end=\" \")"
   ]
  },
  {
   "cell_type": "markdown",
   "id": "cae52a12",
   "metadata": {},
   "source": [
    "## print a Square "
   ]
  },
  {
   "cell_type": "code",
   "execution_count": 8,
   "id": "f2010837",
   "metadata": {},
   "outputs": [
    {
     "name": "stdout",
     "output_type": "stream",
     "text": [
      "* * * * * \n",
      "* * * * * \n",
      "* * * * * \n",
      "* * * * * \n",
      "* * * * * \n"
     ]
    }
   ],
   "source": [
    "n = 5 \n",
    "\n",
    "for i in range(n):\n",
    "    for j in range(n):\n",
    "        print(\"*\",end=\" \")\n",
    "    print()"
   ]
  },
  {
   "cell_type": "markdown",
   "id": "1ab538a4",
   "metadata": {},
   "source": [
    "## Increasing triangle pattern "
   ]
  },
  {
   "cell_type": "code",
   "execution_count": 9,
   "id": "b2c1ab3a",
   "metadata": {},
   "outputs": [
    {
     "name": "stdout",
     "output_type": "stream",
     "text": [
      "* \n",
      "* * \n",
      "* * * \n",
      "* * * * \n",
      "* * * * * \n"
     ]
    }
   ],
   "source": [
    "n = 5 \n",
    "\n",
    "for i in range(n):\n",
    "    for j in range(i+1):\n",
    "        print(\"*\", end = \" \")\n",
    "    print()"
   ]
  },
  {
   "cell_type": "markdown",
   "id": "b6185428",
   "metadata": {},
   "source": [
    "## Decreasing triangle pattern "
   ]
  },
  {
   "cell_type": "code",
   "execution_count": 13,
   "id": "8408f3b3",
   "metadata": {},
   "outputs": [
    {
     "name": "stdout",
     "output_type": "stream",
     "text": [
      "* * * * * \n",
      "* * * * \n",
      "* * * \n",
      "* * \n",
      "* \n"
     ]
    }
   ],
   "source": [
    "n = 5 \n",
    "\n",
    "for i in range(n):\n",
    "    for j in range(i,n): # or range(n-i)\n",
    "        print(\"*\",end =\" \")\n",
    "    print()"
   ]
  },
  {
   "cell_type": "markdown",
   "id": "0de8304b",
   "metadata": {},
   "source": [
    "## Right sided triangle "
   ]
  },
  {
   "cell_type": "code",
   "execution_count": 26,
   "id": "7afef59b",
   "metadata": {},
   "outputs": [
    {
     "name": "stdout",
     "output_type": "stream",
     "text": [
      "          * \n",
      "        * * \n",
      "      * * * \n",
      "    * * * * \n",
      "  * * * * * \n"
     ]
    }
   ],
   "source": [
    "n = 5 \n",
    "for i in range(n):\n",
    "    for j in range(i,n):\n",
    "        print(\" \",end =\" \")\n",
    "    for k in range(i+1):\n",
    "        print(\"*\", end = \" \")\n",
    "    print()"
   ]
  },
  {
   "cell_type": "markdown",
   "id": "c7580b6f",
   "metadata": {},
   "source": [
    "## Right sided traingle"
   ]
  },
  {
   "cell_type": "code",
   "execution_count": 31,
   "id": "cb84c0a6",
   "metadata": {},
   "outputs": [
    {
     "name": "stdout",
     "output_type": "stream",
     "text": [
      "  * * * * * \n",
      "    * * * * \n",
      "      * * * \n",
      "        * * \n",
      "          * \n"
     ]
    }
   ],
   "source": [
    "n = 5 \n",
    "for i in range(n):\n",
    "    for j in range(i+1):\n",
    "        print(\" \", end = \" \")\n",
    "    for k in range(i,n):\n",
    "        print(\"*\", end = \" \")\n",
    "    print()"
   ]
  },
  {
   "cell_type": "markdown",
   "id": "6350a67a",
   "metadata": {},
   "source": [
    "## Pyramid "
   ]
  },
  {
   "cell_type": "code",
   "execution_count": 53,
   "id": "ca4cb52d",
   "metadata": {},
   "outputs": [
    {
     "name": "stdout",
     "output_type": "stream",
     "text": [
      "     * \n",
      "    * * \n",
      "   * * * \n",
      "  * * * * \n",
      " * * * * * \n"
     ]
    }
   ],
   "source": [
    "n = 5 \n",
    "\n",
    "for i in range(n):\n",
    "    for j in range(i,n): # or range(n-i-1)\n",
    "        print(\" \", end =\"\")\n",
    "    \n",
    "    for k in range(i+1):\n",
    "        print(\"*\", end =\" \")\n",
    "    print()"
   ]
  },
  {
   "cell_type": "markdown",
   "id": "3296388d",
   "metadata": {},
   "source": [
    "## Hill Pattern"
   ]
  },
  {
   "cell_type": "code",
   "execution_count": 57,
   "id": "35d5c5ed",
   "metadata": {},
   "outputs": [
    {
     "name": "stdout",
     "output_type": "stream",
     "text": [
      "          * \n",
      "        * * * \n",
      "      * * * * * \n",
      "    * * * * * * * \n",
      "  * * * * * * * * * \n"
     ]
    }
   ],
   "source": [
    "n = 5 \n",
    "for i in range(n):\n",
    "    for j in range(i,n): # range(n-i-1)\n",
    "        print(\" \", end = \" \")\n",
    "    for k in range(i+1):\n",
    "        print(\"*\", end =\" \")\n",
    "    for l in range(i):\n",
    "        print(\"*\", end =\" \")\n",
    "\n",
    "    print()"
   ]
  },
  {
   "cell_type": "markdown",
   "id": "f2249942",
   "metadata": {},
   "source": [
    "## Reverse Hill Pattern"
   ]
  },
  {
   "cell_type": "code",
   "execution_count": 59,
   "id": "40ac69a8",
   "metadata": {},
   "outputs": [
    {
     "name": "stdout",
     "output_type": "stream",
     "text": [
      "  * * * * * * * * * \n",
      "    * * * * * * * \n",
      "      * * * * * \n",
      "        * * * \n",
      "          * \n"
     ]
    }
   ],
   "source": [
    "n = 5 \n",
    "\n",
    "for i in range(n):\n",
    "    for j in range(i+1): # range(i) for now gaps \n",
    "        print(\" \", end =\" \")\n",
    "    for k in range(i,n):\n",
    "        print(\"*\", end= \" \")\n",
    "    for l in range (i,n-1):\n",
    "        print('*', end= \" \")\n",
    "    \n",
    "    print()"
   ]
  },
  {
   "cell_type": "markdown",
   "id": "7d4b5f6e",
   "metadata": {},
   "source": [
    "## Diamond Pattern "
   ]
  },
  {
   "cell_type": "code",
   "execution_count": 63,
   "id": "b3c18e3e",
   "metadata": {},
   "outputs": [
    {
     "name": "stdout",
     "output_type": "stream",
     "text": [
      "          * \n",
      "        * * * \n",
      "      * * * * * \n",
      "    * * * * * * * \n",
      "  * * * * * * * * * \n",
      "    * * * * * * * \n",
      "      * * * * * \n",
      "        * * * \n",
      "          * \n"
     ]
    }
   ],
   "source": [
    "n = 5 \n",
    "for i in range(n-1):\n",
    "    for j in range(i,n): # range(n-i-1) for no gaps\n",
    "        print(\" \", end= \" \")\n",
    "    for k in range(i+1):\n",
    "        print(\"*\", end=\" \")\n",
    "    for l in range(i):\n",
    "        print(\"*\", end = \" \")\n",
    "    print()\n",
    "\n",
    "for i in range(n):\n",
    "    for j in range(i+1): # range(i) for no gaps \n",
    "        print(\" \", end= \" \")\n",
    "    for k in range(i,n):\n",
    "        print(\"*\", end=\" \")\n",
    "    for l in range(i,n-1):\n",
    "        print(\"*\", end = \" \")\n",
    "    print()\n",
    "\n"
   ]
  },
  {
   "cell_type": "markdown",
   "id": "624d30db",
   "metadata": {},
   "source": [
    "## Double hill "
   ]
  },
  {
   "cell_type": "code",
   "execution_count": 96,
   "id": "8a1317a8",
   "metadata": {},
   "outputs": [
    {
     "name": "stdout",
     "output_type": "stream",
     "text": [
      "    *         * \n",
      "   * *       * * \n",
      "  * * *     * * * \n",
      " * * * *   * * * * \n",
      "* * * * * * * * * * \n"
     ]
    }
   ],
   "source": [
    "n = 5  # number of rows\n",
    "\n",
    "for i in range(n):\n",
    "    # Left spaces (to center the hills)\n",
    "    for j in range(n - i - 1):\n",
    "        print(\" \", end=\"\")\n",
    "\n",
    "    # Left hill\n",
    "    for k in range(i + 1):\n",
    "        print(\"*\", end=\" \")\n",
    "\n",
    "    # Middle gap\n",
    "    for j in range(n - i - 1):\n",
    "        print(\" \", end=\" \")\n",
    "\n",
    "    # Right hill\n",
    "    for k in range(i + 1):\n",
    "        print(\"*\", end=\" \")\n",
    "\n",
    "    # Move to next line\n",
    "    print()"
   ]
  },
  {
   "cell_type": "markdown",
   "id": "ebd2361f",
   "metadata": {},
   "source": [
    "## Butterfly pattern"
   ]
  },
  {
   "cell_type": "code",
   "execution_count": 127,
   "id": "d8bf5c1d",
   "metadata": {},
   "outputs": [
    {
     "name": "stdout",
     "output_type": "stream",
     "text": [
      "*                 * \n",
      "* *             * * \n",
      "* * *         * * * \n",
      "* * * *     * * * * \n",
      "* * * * * * * * * * \n",
      "* * * *     * * * * \n",
      "* * *         * * * \n",
      "* *             * * \n",
      "*                 * \n"
     ]
    }
   ],
   "source": [
    "n = 5  # size\n",
    "\n",
    "# top half\n",
    "for i in range(1, n + 1):\n",
    "    print(\"* \" * i + \"  \" * (2 * (n - i)) + \"* \" * i)\n",
    "\n",
    "# bottom half (use n-1 to avoid duplicating the middle row)\n",
    "for i in range(n - 1, 0, -1):\n",
    "    print(\"* \" * i + \"  \" * (2 * (n - i)) + \"* \" * i)\n"
   ]
  },
  {
   "cell_type": "markdown",
   "id": "68ecd15a",
   "metadata": {},
   "source": [
    "## Number pattern"
   ]
  },
  {
   "cell_type": "code",
   "execution_count": 129,
   "id": "8add2407",
   "metadata": {},
   "outputs": [
    {
     "name": "stdout",
     "output_type": "stream",
     "text": [
      "1 \n",
      "1 1 \n",
      "1 1 1 \n",
      "1 1 1 1 \n",
      "1 1 1 1 1 \n"
     ]
    }
   ],
   "source": [
    "n = 5 \n",
    "\n",
    "for i in range(n):\n",
    "    for j in range(i+1):\n",
    "        print(\"1\", end=\" \")\n",
    "    print()"
   ]
  },
  {
   "cell_type": "markdown",
   "id": "c1d1c5ba",
   "metadata": {},
   "source": [
    "## Increment number in each row"
   ]
  },
  {
   "cell_type": "code",
   "execution_count": 135,
   "id": "c107d471",
   "metadata": {},
   "outputs": [
    {
     "name": "stdout",
     "output_type": "stream",
     "text": [
      "1 \n",
      "2 2 \n",
      "3 3 3 \n",
      "4 4 4 4 \n",
      "5 5 5 5 5 \n"
     ]
    }
   ],
   "source": [
    "n = 5 \n",
    "p = 1 \n",
    "for i in range(n):\n",
    "    for j in range(i+1):\n",
    "        print(p, end = \" \")\n",
    "    p += 1\n",
    "    print()"
   ]
  },
  {
   "cell_type": "markdown",
   "id": "38cdf813",
   "metadata": {},
   "source": [
    "## decreasing number in each row"
   ]
  },
  {
   "cell_type": "code",
   "execution_count": 136,
   "id": "ee2c0e97",
   "metadata": {},
   "outputs": [
    {
     "name": "stdout",
     "output_type": "stream",
     "text": [
      "5 \n",
      "4 4 \n",
      "3 3 3 \n",
      "2 2 2 2 \n",
      "1 1 1 1 1 \n"
     ]
    }
   ],
   "source": [
    "n = 5 \n",
    "p = n \n",
    "\n",
    "for i in range(n):\n",
    "    for j in range(i+1):\n",
    "        print(p, end = \" \")\n",
    "    p -= 1\n",
    "    print()"
   ]
  },
  {
   "cell_type": "markdown",
   "id": "bcba8f09",
   "metadata": {},
   "source": [
    "## even number increment in each row "
   ]
  },
  {
   "cell_type": "code",
   "execution_count": 137,
   "id": "0ba01787",
   "metadata": {},
   "outputs": [
    {
     "name": "stdout",
     "output_type": "stream",
     "text": [
      "0 \n",
      "2 2 \n",
      "4 4 4 \n",
      "6 6 6 6 \n",
      "8 8 8 8 8 \n"
     ]
    }
   ],
   "source": [
    "n = 5 \n",
    "p = 0 \n",
    "\n",
    "for i in range(n):\n",
    "    for j in range(i+1):\n",
    "        print(p, end = \" \")\n",
    "    p += 2\n",
    "    print()"
   ]
  },
  {
   "cell_type": "markdown",
   "id": "e4fd716e",
   "metadata": {},
   "source": [
    "## odd even pattern"
   ]
  },
  {
   "cell_type": "code",
   "execution_count": 141,
   "id": "9891cf01",
   "metadata": {},
   "outputs": [
    {
     "name": "stdout",
     "output_type": "stream",
     "text": [
      "1 \n",
      "2 2 \n",
      "1 1 1 \n",
      "2 2 2 2 \n",
      "1 1 1 1 1 \n"
     ]
    }
   ],
   "source": [
    "n = 5 \n",
    "p = 1\n",
    "\n",
    "for i in range(n):\n",
    "    for j in range(i+1):\n",
    "        print(p,end=\" \")\n",
    "    if i%2 == 0:\n",
    "        p = 2 \n",
    "    else:\n",
    "        p = 1\n",
    "    print()"
   ]
  },
  {
   "cell_type": "markdown",
   "id": "f3fb55f4",
   "metadata": {},
   "source": [
    "## incrasing row number diamond pattern"
   ]
  },
  {
   "cell_type": "code",
   "execution_count": 144,
   "id": "39d548af",
   "metadata": {},
   "outputs": [
    {
     "name": "stdout",
     "output_type": "stream",
     "text": [
      "          1 \n",
      "        2 2 2 \n",
      "      3 3 3 3 3 \n",
      "    4 4 4 4 4 4 4 \n",
      "  5 5 5 5 5 5 5 5 5 \n",
      "    6 6 6 6 6 6 6 \n",
      "      7 7 7 7 7 \n",
      "        8 8 8 \n",
      "          9 \n"
     ]
    }
   ],
   "source": [
    "n = 5 \n",
    "p = 1\n",
    "for i in range(n-1):\n",
    "    for j in range(i,n): # range(n-i-1) for no gaps\n",
    "        print(\" \", end= \" \")\n",
    "    for k in range(i+1):\n",
    "        print(p, end=\" \")\n",
    "    for l in range(i):\n",
    "        print(p, end = \" \")\n",
    "    p += 1\n",
    "    \n",
    "    print()\n",
    "\n",
    "for i in range(n):\n",
    "    for j in range(i+1): # range(i) for no gaps \n",
    "        print(\" \", end= \" \")\n",
    "    for k in range(i,n):\n",
    "        print(p, end=\" \")\n",
    "    for l in range(i,n-1):\n",
    "        print(p, end = \" \")\n",
    "    p += 1\n",
    "    print()"
   ]
  },
  {
   "cell_type": "markdown",
   "id": "7ae6be64",
   "metadata": {},
   "source": [
    "## increasing decreasing diamond pattern"
   ]
  },
  {
   "cell_type": "code",
   "execution_count": 148,
   "id": "63c66059",
   "metadata": {},
   "outputs": [
    {
     "name": "stdout",
     "output_type": "stream",
     "text": [
      "          1 \n",
      "        2 2 2 \n",
      "      3 3 3 3 3 \n",
      "    4 4 4 4 4 4 4 \n",
      "  5 5 5 5 5 5 5 5 5 \n",
      "    4 4 4 4 4 4 4 \n",
      "      3 3 3 3 3 \n",
      "        2 2 2 \n",
      "          1 \n"
     ]
    }
   ],
   "source": [
    "n = 5 \n",
    "p = 1\n",
    "for i in range(n-1):\n",
    "    for j in range(i,n): # range(n-i-1) for no gaps\n",
    "        print(\" \", end= \" \")\n",
    "    for k in range(i+1):\n",
    "        print(p, end=\" \")\n",
    "    for l in range(i):\n",
    "        print(p, end = \" \")\n",
    "    p += 1\n",
    "    \n",
    "    print()\n",
    "\n",
    "for i in range(n):\n",
    "    for j in range(i+1): # range(i) for no gaps \n",
    "        print(\" \", end= \" \")\n",
    "    for k in range(i,n):\n",
    "        print(p, end=\" \")\n",
    "    for l in range(i,n-1):\n",
    "        print(p, end = \" \")\n",
    "    p -= 1\n",
    "    print()"
   ]
  },
  {
   "cell_type": "markdown",
   "id": "f16199d9",
   "metadata": {},
   "source": [
    "## incrementing columns"
   ]
  },
  {
   "cell_type": "code",
   "execution_count": 150,
   "id": "83c92e01",
   "metadata": {},
   "outputs": [
    {
     "name": "stdout",
     "output_type": "stream",
     "text": [
      "1 \n",
      "1 2 \n",
      "1 2 3 \n",
      "1 2 3 4 \n",
      "1 2 3 4 5 \n"
     ]
    }
   ],
   "source": [
    "n = 5 \n",
    "\n",
    "\n",
    "for i in range(n):\n",
    "    p = 1\n",
    "    for j in range(i+1):\n",
    "        print(p, end = \" \")\n",
    "        p += 1\n",
    "    print()"
   ]
  },
  {
   "cell_type": "markdown",
   "id": "ce0dad37",
   "metadata": {},
   "source": [
    "## Pattern : Decreasing Triangle \n",
    "## Number : Decrementign columns"
   ]
  },
  {
   "cell_type": "code",
   "execution_count": 152,
   "id": "9f95ea61",
   "metadata": {},
   "outputs": [
    {
     "name": "stdout",
     "output_type": "stream",
     "text": [
      "  1 2 3 4 5 \n",
      "    1 2 3 4 \n",
      "      1 2 3 \n",
      "        1 2 \n",
      "          1 \n"
     ]
    }
   ],
   "source": [
    "for i in range(n):\n",
    "    for j in range(i+1):\n",
    "        print(\" \",end= \" \")\n",
    "    p = 1\n",
    "    for j in range(i,n):\n",
    "        print(p, end = \" \")\n",
    "        p += 1\n",
    "    print()"
   ]
  },
  {
   "cell_type": "markdown",
   "id": "b066fef7",
   "metadata": {},
   "source": [
    "## Pattern : Hill Pattern \n",
    "## Number : Incrementing columns"
   ]
  },
  {
   "cell_type": "code",
   "execution_count": 155,
   "id": "028e1bc8",
   "metadata": {},
   "outputs": [
    {
     "name": "stdout",
     "output_type": "stream",
     "text": [
      "          1 \n",
      "        1 2 3 \n",
      "      1 2 3 4 5 \n",
      "    1 2 3 4 5 6 7 \n",
      "  1 2 3 4 5 6 7 8 9 \n"
     ]
    }
   ],
   "source": [
    "n = 5 \n",
    "for i in range(n):\n",
    "    for j in range(i,n): # range(n-i-1)\n",
    "        print(\" \", end = \" \")\n",
    "    p = 1 \n",
    "    for k in range(i+1):\n",
    "        print(p, end =\" \")\n",
    "        p += 1\n",
    "    for l in range(i):\n",
    "        print(p, end =\" \")\n",
    "        p += 1\n",
    "\n",
    "    print()"
   ]
  },
  {
   "cell_type": "code",
   "execution_count": 158,
   "id": "6f55c60b",
   "metadata": {},
   "outputs": [
    {
     "name": "stdout",
     "output_type": "stream",
     "text": [
      "          1 \n",
      "        1 2 3 \n",
      "      1 2 3 4 5 \n",
      "    1 2 3 4 5 6 7 \n",
      "  1 2 3 4 5 6 7 8 9 \n",
      "    1 2 3 4 5 6 7 \n",
      "      1 2 3 4 5 \n",
      "        1 2 3 \n",
      "          1 \n"
     ]
    }
   ],
   "source": [
    "n = 5 \n",
    "for i in range(n-1):\n",
    "    p = 1 \n",
    "    for j in range(i,n): # range(n-i-1) for no gaps\n",
    "        print(\" \", end= \" \")\n",
    "    for k in range(i+1):\n",
    "        print(p, end=\" \")\n",
    "        p += 1\n",
    "    for l in range(i):\n",
    "        print(p, end = \" \")\n",
    "        p+=1 \n",
    "    print()\n",
    "\n",
    "for i in range(n):\n",
    "    p = 1 \n",
    "    for j in range(i+1): # range(i) for no gaps \n",
    "        print(\" \", end= \" \")\n",
    "    for k in range(i,n):\n",
    "        print(p, end=\" \")\n",
    "        p += 1\n",
    "    for l in range(i,n-1):\n",
    "        print(p, end = \" \")\n",
    "        p += 1\n",
    "    print()"
   ]
  },
  {
   "cell_type": "markdown",
   "id": "5514e5f5",
   "metadata": {},
   "source": [
    "## Pattern : Decreasing Triangle \n",
    "## Number: Decrementing Columns"
   ]
  },
  {
   "cell_type": "code",
   "execution_count": 163,
   "id": "719f2441",
   "metadata": {},
   "outputs": [
    {
     "name": "stdout",
     "output_type": "stream",
     "text": [
      "  5 4 3 2 1 \n",
      "    4 3 2 1 \n",
      "      3 2 1 \n",
      "        2 1 \n",
      "          1 \n"
     ]
    }
   ],
   "source": [
    "n = 5 \n",
    "for i in range(n):\n",
    "    for j in range(i+1):\n",
    "        print(\" \",end= \" \")\n",
    "    for j in range(i,n):\n",
    "        print(n-j, end = \" \")\n",
    "    print()"
   ]
  },
  {
   "cell_type": "markdown",
   "id": "b6787617",
   "metadata": {},
   "source": [
    "## or"
   ]
  },
  {
   "cell_type": "code",
   "execution_count": 168,
   "id": "5977a6c4",
   "metadata": {},
   "outputs": [
    {
     "name": "stdout",
     "output_type": "stream",
     "text": [
      "5 4 3 2 1 \n",
      "  4 3 2 1 \n",
      "    3 2 1 \n",
      "      2 1 \n",
      "        1 \n"
     ]
    }
   ],
   "source": [
    "n = 5 \n",
    "k = 5 \n",
    "for i in range(n):\n",
    "    p = k \n",
    "    for j in range(i):\n",
    "        print(\" \", end=\" \")\n",
    "    for j in range(i,n):\n",
    "        print(p,end=\" \")\n",
    "        p -= 1\n",
    "    k -= 1\n",
    "    print()"
   ]
  },
  {
   "cell_type": "markdown",
   "id": "774ac1bb",
   "metadata": {},
   "source": [
    "## Pattern : Increasing triangle \n",
    "## number : decrementing columns"
   ]
  },
  {
   "cell_type": "code",
   "execution_count": 166,
   "id": "f8ac6526",
   "metadata": {},
   "outputs": [
    {
     "name": "stdout",
     "output_type": "stream",
     "text": [
      "5 \n",
      "5 4 \n",
      "5 4 3 \n",
      "5 4 3 2 \n",
      "5 4 3 2 1 \n"
     ]
    }
   ],
   "source": [
    "n = 5 \n",
    "\n",
    "\n",
    "for i in range(n):\n",
    "    for j in range(i+1):\n",
    "        print(n-j, end = \" \")\n",
    "    print()"
   ]
  },
  {
   "cell_type": "markdown",
   "id": "2a4e2a68",
   "metadata": {},
   "source": [
    "## Pattern : Hill Triangle \n",
    "## Number Increasing & Decreasing Column"
   ]
  },
  {
   "cell_type": "code",
   "execution_count": 173,
   "id": "6d71fef2",
   "metadata": {},
   "outputs": [
    {
     "name": "stdout",
     "output_type": "stream",
     "text": [
      "          1 \n",
      "        1 2 1 \n",
      "      1 2 3 2 1 \n",
      "    1 2 3 4 3 2 1 \n",
      "  1 2 3 4 5 4 3 2 1 \n"
     ]
    }
   ],
   "source": [
    "n = 5 \n",
    "\n",
    "for i in range(n):\n",
    "    for j in range(i,n): # range(n-i-1)\n",
    "        print(\" \", end = \" \")\n",
    "    p = 1 \n",
    "    for k in range(i):\n",
    "        print(p, end =\" \")\n",
    "        p += 1\n",
    "    for l in range(i+1):\n",
    "        print(p, end =\" \")\n",
    "        p -= 1\n",
    "\n",
    "    print()"
   ]
  },
  {
   "cell_type": "markdown",
   "id": "28267492",
   "metadata": {},
   "source": [
    "## Floyd Triangle "
   ]
  },
  {
   "cell_type": "code",
   "execution_count": 175,
   "id": "b5dfbebb",
   "metadata": {},
   "outputs": [
    {
     "name": "stdout",
     "output_type": "stream",
     "text": [
      "1 \n",
      "2 3 \n",
      "4 5 6 \n",
      "7 8 9 10 \n"
     ]
    }
   ],
   "source": [
    "n = 4 \n",
    "p = 1 \n",
    "for i in range(n):\n",
    "    for j in range(i+1):\n",
    "        print(p,end=\" \")\n",
    "        p += 1\n",
    "    print()"
   ]
  },
  {
   "cell_type": "markdown",
   "id": "34efa330",
   "metadata": {},
   "source": [
    "## Pattern: Increasing Triangle \n",
    "## character: A"
   ]
  },
  {
   "cell_type": "code",
   "execution_count": 178,
   "id": "660c9a5a",
   "metadata": {},
   "outputs": [
    {
     "name": "stdout",
     "output_type": "stream",
     "text": [
      "A \n",
      "A A \n",
      "A A A \n",
      "A A A A \n",
      "A A A A A \n"
     ]
    }
   ],
   "source": [
    "n = 5 \n",
    "for i in range(n):\n",
    "    for j in range(i+1):\n",
    "        print(\"A\",end=\" \")\n",
    "    print()"
   ]
  },
  {
   "cell_type": "markdown",
   "id": "729f77bd",
   "metadata": {},
   "source": [
    "## Patter: Increasing Triangle \n",
    "## Character : Incrementing rows "
   ]
  },
  {
   "cell_type": "code",
   "execution_count": 180,
   "id": "3a8c4700",
   "metadata": {},
   "outputs": [
    {
     "name": "stdout",
     "output_type": "stream",
     "text": [
      "A \n",
      "B B \n",
      "C C C \n",
      "D D D D \n",
      "E E E E E \n"
     ]
    }
   ],
   "source": [
    "n = 5 \n",
    "p = 65 \n",
    "for i in range(n):\n",
    "    for j in range(i+1):\n",
    "        print(chr(p),end=\" \")\n",
    "    \n",
    "    p += 1\n",
    "    \n",
    "    print()"
   ]
  },
  {
   "cell_type": "markdown",
   "id": "f6d61ca4",
   "metadata": {},
   "source": [
    "## Patter: Increasing Triangle \n",
    "## Character : Decrementing rows "
   ]
  },
  {
   "cell_type": "code",
   "execution_count": 181,
   "id": "b3e7dfc4",
   "metadata": {},
   "outputs": [
    {
     "name": "stdout",
     "output_type": "stream",
     "text": [
      "E \n",
      "D D \n",
      "C C C \n",
      "B B B B \n",
      "A A A A A \n"
     ]
    }
   ],
   "source": [
    "n = 5 \n",
    "p = 69\n",
    "for i in range(n):\n",
    "    for j in range(i+1):\n",
    "        print(chr(p),end=\" \")\n",
    "    \n",
    "    p -= 1\n",
    "    \n",
    "    print()"
   ]
  },
  {
   "cell_type": "code",
   "execution_count": 191,
   "id": "70acf3fd",
   "metadata": {},
   "outputs": [
    {
     "name": "stdout",
     "output_type": "stream",
     "text": [
      "* * * * * \n",
      "*       * \n",
      "*       * \n",
      "*       * \n",
      "* * * * * \n"
     ]
    }
   ],
   "source": [
    "n = 5 \n",
    "for i in range(n):\n",
    "    for j in range(n):\n",
    "        if (j == 0 or j == n-1) or (i==0 or i ==n-1):\n",
    "            print(\"*\",end=\" \")\n",
    "        else:\n",
    "            print(\" \",end=\" \")\n",
    "\n",
    "    print()"
   ]
  },
  {
   "cell_type": "markdown",
   "id": "8b54d037",
   "metadata": {},
   "source": []
  },
  {
   "cell_type": "code",
   "execution_count": 196,
   "id": "cded3267",
   "metadata": {},
   "outputs": [
    {
     "name": "stdout",
     "output_type": "stream",
     "text": [
      "* \n",
      "* * \n",
      "*   * \n",
      "*     * \n",
      "* * * * * \n"
     ]
    }
   ],
   "source": [
    "n = 5 \n",
    "\n",
    "for i in range(n):\n",
    "    for j in range(i+1):\n",
    "        if j == 0 or i == n-1 or i ==j :\n",
    "            print(\"*\",end= \" \")\n",
    "        else:\n",
    "            print(\" \",end = \" \")\n",
    "    print()"
   ]
  },
  {
   "cell_type": "code",
   "execution_count": 206,
   "id": "9fe1122e",
   "metadata": {},
   "outputs": [
    {
     "name": "stdout",
     "output_type": "stream",
     "text": [
      "* * * * * \n",
      "*     * \n",
      "*   * \n",
      "* * \n",
      "* \n"
     ]
    }
   ],
   "source": [
    "n = 5 \n",
    "\n",
    "for i in range(n):\n",
    "    for j in range(i,n):\n",
    "        if j == i or i == 0 or j == n-1 :\n",
    "            print(\"*\",end= \" \")\n",
    "        else:\n",
    "            print(\" \",end = \" \")\n",
    "    print()"
   ]
  },
  {
   "cell_type": "code",
   "execution_count": 217,
   "id": "465a1a90",
   "metadata": {},
   "outputs": [
    {
     "name": "stdout",
     "output_type": "stream",
     "text": [
      "* * * * * \n",
      "*     * \n",
      "*   * \n",
      "* * \n",
      "* \n"
     ]
    }
   ],
   "source": [
    "n = 5\n",
    "p = 1\n",
    "for i in range(n):\n",
    "    for j in range(i,n):\n",
    "        if j == i or i == 0 or j == n-1 :\n",
    "            print(\"*\",end= \" \")\n",
    "        else:\n",
    "            print(\" \",end = \" \")\n",
    "    print()"
   ]
  },
  {
   "cell_type": "code",
   "execution_count": 214,
   "id": "2a578036",
   "metadata": {},
   "outputs": [
    {
     "name": "stdout",
     "output_type": "stream",
     "text": [
      "1 1 1 1 1 \n",
      "2     2 \n",
      "3   3 \n",
      "4 4 \n",
      "5 \n"
     ]
    }
   ],
   "source": [
    "n = 5\n",
    "p = 1\n",
    "for i in range(n):\n",
    "\n",
    "    for j in range(i,n):\n",
    "        if j == i or i == 0 or j == n-1 : \n",
    "            print(p,end =\" \")\n",
    "        else :\n",
    "            print(\" \",end=\" \")\n",
    "    p += 1\n",
    "\n",
    "    print()"
   ]
  },
  {
   "cell_type": "code",
   "execution_count": 231,
   "id": "64a6f592",
   "metadata": {},
   "outputs": [
    {
     "name": "stdout",
     "output_type": "stream",
     "text": [
      "          * \n",
      "        *   * \n",
      "      *       * \n",
      "    *           * \n",
      "  * * * * * * * * * \n"
     ]
    }
   ],
   "source": [
    "n = 5 \n",
    "for i in range(n):\n",
    "    for j in range(i,n):\n",
    "        print(\" \", end=\" \")\n",
    "    \n",
    "    for k in range(i):\n",
    "        if i == n -1 or k ==0:\n",
    "            print(\"*\",end =\" \")\n",
    "        else:\n",
    "            print(\" \", end=\" \")\n",
    "\n",
    "    for m in range(i+1):\n",
    "        if i == n-1 or m == i :\n",
    "            print(\"*\",end=\" \")\n",
    "        else:\n",
    "            print(\" \",end =\" \")\n",
    "    print ()"
   ]
  },
  {
   "cell_type": "code",
   "execution_count": 242,
   "id": "46b2eb77",
   "metadata": {},
   "outputs": [
    {
     "name": "stdout",
     "output_type": "stream",
     "text": [
      "          * \n",
      "        *   * \n",
      "      *       * \n",
      "    *           * \n",
      "  *               * \n",
      "    *           * \n",
      "      *       * \n",
      "        *   * \n",
      "          * \n"
     ]
    }
   ],
   "source": [
    "n = 5 \n",
    "for i in range(n-1):\n",
    "    for j in range(i,n): # range(n-i-1) for no gaps\n",
    "        print(\" \", end= \" \")\n",
    "    for k in range(i+1):\n",
    "        if k == 0 :\n",
    "            print(\"*\", end=\" \")\n",
    "        else:\n",
    "            print(\" \",end =\" \")\n",
    "    for l in range(i):\n",
    "        if l == i -1 :\n",
    "            print(\"*\", end = \" \")\n",
    "        else:\n",
    "            print(\" \",end=\" \")\n",
    "    print()\n",
    "\n",
    "for i in range(n):\n",
    "    for j in range(i+1): # range(i) for no gaps \n",
    "        print(\" \", end= \" \")\n",
    "    for k in range(i,n):\n",
    "        if k == i :\n",
    "            print(\"*\", end=\" \")\n",
    "        else:\n",
    "            print(\" \", end=\" \")\n",
    "    for l in range(i,n-1):\n",
    "        if l ==n-2  :\n",
    "            print(\"*\", end = \" \")\n",
    "        else:\n",
    "            print(\" \",end=\" \")\n",
    "    print()"
   ]
  }
 ],
 "metadata": {
  "kernelspec": {
   "display_name": ".venv (3.13.3)",
   "language": "python",
   "name": "python3"
  },
  "language_info": {
   "codemirror_mode": {
    "name": "ipython",
    "version": 3
   },
   "file_extension": ".py",
   "mimetype": "text/x-python",
   "name": "python",
   "nbconvert_exporter": "python",
   "pygments_lexer": "ipython3",
   "version": "3.13.3"
  }
 },
 "nbformat": 4,
 "nbformat_minor": 5
}
