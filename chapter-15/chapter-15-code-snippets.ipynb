{
 "cells": [
  {
   "cell_type": "markdown",
   "id": "d96f8e82",
   "metadata": {},
   "source": [
    "## 🌿 Why Use a Binary Search Tree?\n",
    "\n",
    "If we want our data in an **alphabetized list** or in an **order from lowest to highest**, we usually sort it using a sorting algorithm. The most optimized one, **quicksort**, takes around **O(n log n)** time in the average case.\n",
    "\n",
    "So, one good option is to **store the data in an ordered way**. This is better for **searching or reading**. However, when it comes to **insertion and deletion**, the worst-case scenario in a sorted array would take **O(n)** time.\n",
    "\n",
    "We might consider using a **hashmap**, which provides fast access, but hashmaps are **not stored in an ordered way**.\n",
    "\n",
    "That’s why the best choice for **quick access in a sorted manner** is the **Binary Search Tree (BST)**.\n",
    "\n",
    "---\n",
    "\n",
    "## 🌳 What is a Binary Search Tree?\n",
    "\n",
    "A **Binary Search Tree** is a **node-based data structure**.\n",
    "\n",
    "Unlike a linked list, where each node connects to only one next node, in a BST each node can connect to **multiple nodes**.\n",
    "\n",
    "- The **uppermost node** is called the **root**.\n",
    "- For example, if `J` is connected to `M` and `B`, we say:\n",
    "  - `J` is the **parent** of `M` and `B`\n",
    "  - `M` and `B` are the **children** of `J`\n",
    "- Similarly, if `M` has children `Q` and `Z`, then:\n",
    "  - `M` is the parent of `Q` and `Z`\n",
    "  - `Q` and `Z` are the children of `M`\n",
    "## Node based binary tree \n",
    "![Node tree](image/node_based.png)\n",
    "\n",
    "## balanced tree \n",
    "![Balanced Tree](image/balanced_tree.png)\n",
    "\n",
    "## levels \n",
    "![Levels](image/levels.png)\n",
    "\n",
    "## unbalanced tree \n",
    "![Unbalanced Tree](image/unbalanced_tree.png)\n",
    "\n",
    "---\n",
    "\n",
    "## 🧱 Tree Levels and Balance\n",
    "\n",
    "- Trees are said to have **levels**.  \n",
    "  Each level is a horizontal row in the tree.\n",
    "- A tree is said to be **perfectly balanced** if, for every node, the **left and right subtrees have the same number of nodes**.\n",
    "\n",
    "In an **imbalanced tree**, for example, the **left side of a node might have no children**, while the **right side has many**. This can happen if we insert values in a sorted order without rebalancing.\n",
    "\n",
    "---"
   ]
  },
  {
   "cell_type": "markdown",
   "id": "7bec0ec9",
   "metadata": {},
   "source": [
    "# 🌳 Binary Search Trees (BST)\n",
    "\n",
    "## What is a Binary Search Tree?\n",
    "\n",
    "A **Binary Search Tree (BST)** is a special type of **binary tree**. It is a data structure that stores data in a hierarchical, ordered manner to allow for efficient searching, insertion, and deletion.\n",
    "\n",
    "In a BST:\n",
    "\n",
    "- Each **node** can have **at most two children**: a left child and a right child.\n",
    "- The **left child** must contain a **value less than** its parent node.\n",
    "- The **right child** must contain a **value greater than** its parent node.\n",
    "- This rule applies **recursively** to all nodes in the tree.\n",
    "\n",
    "---\n",
    "\n",
    "## Example:\n",
    "![bst example](image/bst_example.png)"
   ]
  },
  {
   "cell_type": "markdown",
   "id": "589f167d",
   "metadata": {},
   "source": [
    "\n",
    "# CODE IMPLEMENTATION OF A TREE NODE "
   ]
  },
  {
   "cell_type": "code",
   "execution_count": 1,
   "id": "35f8c4b5",
   "metadata": {},
   "outputs": [],
   "source": [
    "class TreeNode:\n",
    "    def __init__(self,value,left=None,right=None):\n",
    "        self.value = value \n",
    "        self.left_child = left \n",
    "        self.right_child = right "
   ]
  },
  {
   "cell_type": "code",
   "execution_count": 2,
   "id": "febe7df7",
   "metadata": {},
   "outputs": [],
   "source": [
    "node1 = TreeNode(25)\n",
    "node2 = TreeNode(75)\n",
    "root = TreeNode(50,node1,node2)\n"
   ]
  },
  {
   "cell_type": "markdown",
   "id": "eaf721b2",
   "metadata": {},
   "source": [
    "# SEARCHING"
   ]
  },
  {
   "cell_type": "markdown",
   "id": "e2c79b14",
   "metadata": {},
   "source": [
    "check the book common sense guide to dsa page number 490 for better explanation"
   ]
  },
  {
   "cell_type": "markdown",
   "id": "c4ac60a6",
   "metadata": {},
   "source": [
    "# CODE IMPLEMENTATION: SEARCHING A BINARY SEARCH TREE "
   ]
  },
  {
   "cell_type": "code",
   "execution_count": null,
   "id": "d3a90a91",
   "metadata": {},
   "outputs": [],
   "source": [
    "def search(search_value,node):\n",
    "    if not node or node.value == search_value:\n",
    "        return node \n",
    "    elif search_value < node.value:\n",
    "        return search(search_value,node.left_child)\n",
    "    else:\n",
    "        return search(search_value,node.right_child)\n",
    "        "
   ]
  },
  {
   "cell_type": "markdown",
   "id": "c3915b32",
   "metadata": {},
   "source": [
    "# Insertion"
   ]
  },
  {
   "cell_type": "markdown",
   "id": "6a432f04",
   "metadata": {},
   "source": [
    "check the book common sense guide to dsa page number 500 for better explanation"
   ]
  },
  {
   "cell_type": "markdown",
   "id": "3471ab56",
   "metadata": {},
   "source": [
    "# CODE IMPLEMENTATION: BINARY SEARCH TREE INSERTION"
   ]
  },
  {
   "cell_type": "code",
   "execution_count": null,
   "id": "f069508a",
   "metadata": {},
   "outputs": [],
   "source": [
    "def insert(value,node):\n",
    "    if value < node.value:\n",
    "        if not node.left_child:\n",
    "            node.left_child = TreeNode(value)\n",
    "        else:\n",
    "            insert(value,node.left_child)\n",
    "    \n",
    "    elif value > node.value:\n",
    "        if not node.right_child:\n",
    "            node.right_child = TreeNode(value)\n",
    "        else:\n",
    "            insert(value,node.right_child)\n",
    "    else:\n",
    "        return False\n",
    "            \n"
   ]
  },
  {
   "cell_type": "markdown",
   "id": "139b8b84",
   "metadata": {},
   "source": [
    "# BUILDING A BST"
   ]
  },
  {
   "cell_type": "code",
   "execution_count": 11,
   "id": "b9bcf41e",
   "metadata": {},
   "outputs": [],
   "source": [
    "def build_bst(values):\n",
    "    if not values:\n",
    "        return None \n",
    "    \n",
    "    root = TreeNode(values[0])\n",
    "    for value in values[1:]:\n",
    "        insert(value,root)\n",
    "    return root\n",
    "\n",
    "root = build_bst([4,2,3,6,7,8,9,0,12,34,67])"
   ]
  },
  {
   "cell_type": "code",
   "execution_count": 14,
   "id": "d49df43f",
   "metadata": {},
   "outputs": [],
   "source": [
    "def number_searching(condition):\n",
    "    if condition:\n",
    "        return True \n",
    "    else:\n",
    "        return False"
   ]
  },
  {
   "cell_type": "code",
   "execution_count": 17,
   "id": "3545e66a",
   "metadata": {},
   "outputs": [
    {
     "data": {
      "text/plain": [
       "<__main__.TreeNode at 0x1094a6810>"
      ]
     },
     "execution_count": 17,
     "metadata": {},
     "output_type": "execute_result"
    }
   ],
   "source": [
    "search(9,root)"
   ]
  },
  {
   "cell_type": "code",
   "execution_count": 15,
   "id": "335d188a",
   "metadata": {},
   "outputs": [
    {
     "data": {
      "text/plain": [
       "True"
      ]
     },
     "execution_count": 15,
     "metadata": {},
     "output_type": "execute_result"
    }
   ],
   "source": [
    "number_searching(search(9,root))"
   ]
  },
  {
   "cell_type": "code",
   "execution_count": 16,
   "id": "ce9d3fc3",
   "metadata": {},
   "outputs": [
    {
     "data": {
      "text/plain": [
       "False"
      ]
     },
     "execution_count": 16,
     "metadata": {},
     "output_type": "execute_result"
    }
   ],
   "source": [
    "number_searching(search(999,root))"
   ]
  },
  {
   "cell_type": "markdown",
   "id": "e54851bd",
   "metadata": {},
   "source": [
    "# DELETION"
   ]
  },
  {
   "cell_type": "markdown",
   "id": "e49b1d3f",
   "metadata": {},
   "source": [
    "check common sense guide to dsa page number 610 for better explanation\n"
   ]
  },
  {
   "cell_type": "markdown",
   "id": "91aa8791",
   "metadata": {},
   "source": [
    "### Rules for Deletion in a Binary Search Tree\n",
    "\n",
    "![deletion](image/deletion.png)\n",
    "- **Case 1: Node with No Children (Leaf Node)**  \n",
    "  Simply delete the node.\n",
    "  ![leaf child](image/leaf_child_deletion.png)\n",
    "\n",
    "- **Case 2: Node with One Child**  \n",
    "  Delete the node and plug the child into the spot where the deleted node was.\n",
    "  ![node with cild](image/node_with_child.png)\n",
    "\n",
    "  ![node with child](image/updated_single_child.png)\n",
    "\n",
    "- **Case 3: Node with Two Children**  \n",
    "  When deleting a node with two children, replace the deleted node with the successor node.  \n",
    "  The successor node is the child node whose value is the least of all values that are greater than the deleted node.  \n",
    "  Then delete the successor node, which will now be a node with 0 or 1 child.\n",
    "  ![two children](image/two_children.png)\n",
    "\n",
    "  ![successor node](image/successor_node.png)\n",
    "\n",
    "  - **How to find the successor node:**  \n",
    "    Visit the right child of the deleted value, and then keep on visiting the left child of each subsequent child  \n",
    "    until there are no more left children.  \n",
    "    The bottom value is the successor node.\n",
    "\n",
    "  Then delete the successor node, which will now be a node with 0 or 1 child. \n",
    "  ![root deletion](image/root_node_deletion.png)\n",
    "\n",
    "  ![finding successor node](image/finding_successor_node.png)\n",
    "\n",
    "  ![replacing root node](image/replacing_successor_node.png)\n",
    "\n",
    "    - **Handling the successor's right child:**  \n",
    "    If the successor node has a right child, after plugging the successor node into the spot of the deleted node,  \n",
    "    take the former right child of the successor node and place it where the successor node used to be.\n",
    "\n",
    "  Then delete the original successor node, which now has at most one child.\n",
    "  ![successor node with right child](image/succesor_node_with_right_child.png)\n",
    "\n",
    "  ![hanging child](image/hanging_child.png)\n",
    "\n",
    "  ![placing it](image/placing.png)\n",
    "\n",
    "   \n",
    "\n",
    "\n",
    "\n",
    "  "
   ]
  },
  {
   "cell_type": "markdown",
   "id": "9cb112f0",
   "metadata": {},
   "source": [
    "# CODE IMPLEMENTATION: BINARY SEARCH TREE DELETION\n"
   ]
  },
  {
   "cell_type": "code",
   "execution_count": null,
   "id": "5c02798c",
   "metadata": {},
   "outputs": [],
   "source": [
    "def replace_with_successor_node(node):\n",
    "    successor_node = node.right_child \n",
    "\n",
    "    if not successor_node.left_child:\n",
    "        node.value = successor_node.value \n",
    "        node.right_child = successor_node.right_child \n",
    "        return\n",
    "    \n",
    "    while successor_node.left_child:\n",
    "        parent_of_successor_node = successor_node \n",
    "        successor_node = successor_node.left_child \n",
    "    \n",
    "    if successor_node.right_child:\n",
    "        parent_of_successor_node.left_child = successor_node.right_child\n",
    "    else:\n",
    "        parent_of_successor_node.left_child = None \n",
    "    \n",
    "    node.value = successor_node.value \n",
    "    return successor_node \n",
    "\n",
    "def delete(value_to_delete,node):\n",
    "    current_node = node \n",
    "    parent_of_current_node = None \n",
    "    node_to_delete = None \n",
    "\n",
    "    while current_node:\n",
    "        if current_node.value == value_to_delete:\n",
    "            node_to_delete = current_node \n",
    "            break \n",
    "\n",
    "        parent_of_current_node = current_node \n",
    "        if value_to_delete < current_node.value:\n",
    "            current_node = current_node.left_child \n",
    "        \n",
    "        elif value_to_delete > current_node.value:\n",
    "            current_node = current_node.right_child \n",
    "    \n",
    "    if not node_to_delete:\n",
    "        return None \n",
    "    \n",
    "    if node_to_delete.left_child and node_to_delete.right_child:\n",
    "        replace_with_successor_node(node_to_delete)\n",
    "    else: # deleted node has 0 or 1 children \n",
    "\n",
    "        child_of_deleted_node = (node_to_delete.left_child or node_to_delete.right_child)\n",
    "\n",
    "        if not parent_of_current_node:\n",
    "            node_to_delete.value = child_of_deleted_node.value \n",
    "            node_to_delete.left_child = child_of_deleted_node.left_child \n",
    "            node_to_delete.right_child = child_of_deleted_node.right_child \n",
    "\n",
    "        elif node_to_delete == parent_of_current_node.left_child:\n",
    "            parent_of_current_node.left_child = child_of_deleted_node \n",
    "        \n",
    "        elif node_to_delete == parent_of_current_node.right_child:\n",
    "            parent_of_current_node.right_child = child_of_deleted_node \n",
    "        \n",
    "        return node_to_delete \n",
    "\n",
    "            \n",
    "\n",
    "    "
   ]
  },
  {
   "cell_type": "markdown",
   "id": "efc46dbc",
   "metadata": {},
   "source": [
    "# MY CODE FOR DELETION"
   ]
  },
  {
   "cell_type": "code",
   "execution_count": 4,
   "id": "e32fb64a",
   "metadata": {},
   "outputs": [],
   "source": [
    "def min_val_node(node):\n",
    "    current = node\n",
    "    while current.left_node:\n",
    "        current = current.left_node\n",
    "    return current\n",
    "\n",
    "\n",
    "def delete_node(root, key):\n",
    "    current = root\n",
    "    parent = None\n",
    "\n",
    "    # first step is to find the node you want to delete\n",
    "    # for that you will need a loop and keep track of the parent also\n",
    "    while current and current.value != key:\n",
    "        parent = current\n",
    "        if key < current.value:\n",
    "            current = current.left_node\n",
    "        else:\n",
    "            current = current.right_node\n",
    "\n",
    "    # if current becomes None that means the node with the given key is not present\n",
    "    if current is None:\n",
    "        return root  # nothing to delete so return original root\n",
    "\n",
    "    # now we have the node to delete in current\n",
    "    # case 1: node to delete is a leaf node (has no children)\n",
    "    if current.left_node is None and current.right_node is None:\n",
    "        # special case: if it's the root node itself and has no children, just return None (empty tree)\n",
    "        if current == root:\n",
    "            return None\n",
    "        # if the node is a left child of its parent\n",
    "        elif parent.left_node == current:\n",
    "            parent.left_node = None\n",
    "        # if the node is a right child of its parent\n",
    "        else:\n",
    "            parent.right_node = None\n",
    "\n",
    "    # case 2: node to delete has only one right child\n",
    "    elif current.left_node is None:\n",
    "        # if it's the root node, return its right child as new root\n",
    "        if current == root:\n",
    "            return current.right_node\n",
    "        # if it's a left child of parent, link parent's left to current's right\n",
    "        elif parent.left_node == current:\n",
    "            parent.left_node = current.right_node\n",
    "        # if it's a right child of parent, link parent's right to current's right\n",
    "        else:\n",
    "            parent.right_node = current.right_node\n",
    "\n",
    "    # case 3: node to delete has only one left child\n",
    "    elif current.right_node is None:\n",
    "        # if it's the root node, return its left child as new root\n",
    "        if current == root:\n",
    "            return current.left_node\n",
    "        # if it's a left child of parent, link parent's left to current's left\n",
    "        elif parent.left_node == current:\n",
    "            parent.left_node = current.left_node\n",
    "        # if it's a right child of parent, link parent's right to current's left\n",
    "        else:\n",
    "            parent.right_node = current.left_node\n",
    "\n",
    "    # case 4: node to delete has two children\n",
    "    else:\n",
    "        # find the in-order successor (minimum node in right subtree)\n",
    "        successor = min_val_node(current.right_node)\n",
    "        # save successor's value\n",
    "        successor_val = successor.value\n",
    "        # delete the successor from the tree\n",
    "        root = delete_node(root, successor_val)\n",
    "        # replace current node's value with successor's value\n",
    "        current.value = successor_val\n",
    "\n",
    "    # finally return the (possibly updated) root\n",
    "    return root"
   ]
  },
  {
   "cell_type": "code",
   "execution_count": 5,
   "id": "e5a593fc",
   "metadata": {},
   "outputs": [],
   "source": [
    "class Node:\n",
    "    def __init__(self, value):\n",
    "        self.value = value\n",
    "        self.left_node = None\n",
    "        self.right_node = None\n",
    "\n",
    "# Sample usage:\n",
    "root = Node(50)\n",
    "root.left_node = Node(30)\n",
    "root.right_node = Node(70)\n",
    "root.left_node.left_node = Node(20)\n",
    "root.left_node.right_node = Node(40)\n",
    "root.right_node.left_node = Node(60)\n",
    "root.right_node.right_node = Node(80)\n",
    "\n",
    "root = delete_node(root, 70)"
   ]
  },
  {
   "cell_type": "markdown",
   "id": "e556c9eb",
   "metadata": {},
   "source": [
    "# 📘 Binary Search Trees in Action\n",
    "\n",
    "Binary Search Trees (BSTs) are an efficient data structure used to store and manage **ordered data**. They offer fast performance for key operations like:\n",
    "\n",
    "- 🔍 **Search**: O(log N)\n",
    "- ➕ **Insert**: O(log N)\n",
    "- ❌ **Delete**: O(log N)\n",
    "\n",
    "This makes BSTs especially useful in applications where the data is frequently changing, but must remain sorted.\n",
    "\n",
    "---\n",
    "\n",
    "## 🧠 How It Works\n",
    "\n",
    "Each node in a BST follows this rule:\n",
    "\n",
    "- Values **less than** the node go to the **left**\n",
    "- Values **greater than** the node go to the **right**\n",
    "\n",
    "This property is what allows fast search and manipulation.\n",
    "\n",
    "---\n",
    "\n",
    "## 📚 Real-World Example: Book Title Management\n",
    "\n",
    "Imagine you’re building an application that manages a list of book titles. Your app should:\n",
    "\n",
    "- ✅ Print book titles in **alphabetical order**\n",
    "- 🔄 Handle **real-time additions and deletions**\n",
    "- 🔍 Let users **search** for a book\n",
    "\n",
    "### 👎 Option 1: Ordered Array\n",
    "\n",
    "- Searching: ✅ Fast (O(log N))\n",
    "- Inserting/Deleting: ❌ Slow (O(N)) due to shifting elements\n",
    "\n",
    "### 👍 Option 2: Binary Search Tree\n",
    "\n",
    "- Searching: ✅ Fast (O(log N))\n",
    "- Inserting/Deleting: ✅ Fast (O(log N))\n",
    "- Sorted output: ✅ Easy via **in-order traversal**\n",
    "\n",
    "---\n",
    "\n",
    "## 🌳 Example: BST of Book Titles\n",
    "\n",
    "Here’s a BST where titles are stored alphabetically:"
   ]
  },
  {
   "cell_type": "markdown",
   "id": "9e17fb99",
   "metadata": {},
   "source": [
    "![book title](image/boot_title.png)"
   ]
  },
  {
   "cell_type": "markdown",
   "id": "251d58e6",
   "metadata": {},
   "source": [
    "let me just explain the process of inorder traversal first you start with any node or root node to get alphabetical order nodes value to do that you first create a fucntion called traverse_and_print(node) you give the node and traversing starts happening first it checks if the node exists or not which is the base for the recurssion if if node empty its simply returns saying recurssion stops from here first the root node moby dick is sent in def now before the function getting completeled the mobi dick left node is being called so the mobi dick left child is add to the stack below is the figure of stack . \n",
    "\n",
    "after once the mobi deck left child is taken which great expectation before the fuction getting completed it  goes to great expectation left child which alice in wonderland so the great expectation left child action is added to the stack figure below \n",
    "\n",
    "so now the node is alice in wonderland it checks if the left child for it since not there the it goes to next step of printing alice in wonderland and then goes traverse_and_print(node.right_child) since alice dont haveright_child too then it the function of alice in wonderland is finished so stack is being called to see if there is any middle function availabe since stack follows last in first out the last in was great expectation left child so its get popped out of the stack  figure below \n",
    "\n",
    "and so now it moves to the print(node.value) so node of great expectation is printed now moves to the traverse_and_print(node.right_child) recurssion starts since great expectation has a right child lord of flies that function starts and great expectation right child is addd to the stack now lord of files leftt child and is empty the lorf of flies get printed and then right child is also empty the function of lord of flies is completed check teh stack great expectattion right child is there popped from the stack the traverse_and_print(node.right_child) which was great expectation the function is finished figure below \n",
    "\n",
    "now check the stack if its in middle of some function mobi dick left child is there so now mobi dick is printed it checks for and the mobi dick left child is popped from the stack now its traverse of mobi dick right child starts so mobi dick right child is called in the stack teh right child robinson crusoe function starts checks left child for robinson cruose which pride and prejucice os robinson left chlild added to the stack pride function startsd checks from left child not there so print pride and prejudice check for right child not there so the fucntion finished checks stack pop the robinson crusoi left child print the robinson c4rusoin checks for righ_child is there so robinson righ_child called to the stack the odyssey function starts check for left child not there print the odyssesy check right child not there function of the odyssey finished checks stack robinson cursoi righ_child get popped out of stack the funciton of robinson right child finshed again checks teh stack mobi dick righ child pops out the entire function gets finished "
   ]
  },
  {
   "cell_type": "markdown",
   "id": "dbb75250",
   "metadata": {},
   "source": [
    "# INORDER TRAVERSING "
   ]
  },
  {
   "cell_type": "code",
   "execution_count": 7,
   "id": "2e00172a",
   "metadata": {},
   "outputs": [],
   "source": [
    "def traverse_and_print(node):\n",
    "    if not node:\n",
    "        return \n",
    "    traverse_and_print(node.left_child)\n",
    "    print(node.vlaue)\n",
    "    traverse_and_print(node.right_child)\n"
   ]
  },
  {
   "cell_type": "markdown",
   "id": "c89e3442",
   "metadata": {},
   "source": [
    "## Inorder Traversal Explanation\n",
    "\n",
    "Let me explain the process of inorder traversal.\n",
    "\n",
    "First, you start with any node — typically the root node — to get the nodes in **alphabetical order**. To do that, you define a function called `traverse_and_print(node)`. This function takes a node and performs the inorder traversal.\n",
    "\n",
    "The first step inside the function is to check whether the node exists. This is the **base case** for recursion. If the node is `None`, it simply returns — meaning the recursion stops from there.\n",
    "\n",
    "---\n",
    "\n",
    "Initially, the root node `\"Moby Dick\"` is passed to the function. But before the function finishes executing, the left child of `\"Moby Dick\"` is called recursively.\n",
    "\n",
    "So `\"Moby Dick\"`'s **left child** is added to the **call stack**.\n",
    "\n",
    "![moby dick left child stack](image/mobi_dick_left_child_stack_left.png)\n",
    "\n",
    "---\n",
    "\n",
    "Now the current node is `\"Great Expectations\"`. Again, before finishing, it checks for its own left child.\n",
    "\n",
    "That leads us to `\"Alice in Wonderland\"`. So `\"Great Expectations\"`'s **left child** call is added to the stack.\n",
    "\n",
    "![great expectation left child](image/great_expectation_left_child_stack.png)\n",
    "\n",
    "---\n",
    "\n",
    "Now the current node is `\"Alice in Wonderland\"`. Since it has no left child, the function prints `\"Alice in Wonderland\"`.\n",
    "\n",
    "Then it checks for the right child — since that also doesn’t exist, the function ends here.\n",
    "\n",
    "Now we check the stack to see which function call was waiting to complete.\n",
    "\n",
    "Since stack is LIFO (last in, first out), the last in was `\"Great Expectations\"`'s left child call. So we return to that point.\n",
    "\n",
    "![great expectation left child popped](image/great_expectation_popped.png)\n",
    "\n",
    "---\n",
    "\n",
    "Now it prints `\"Great Expectations\"` and moves to the right child: `\"Lord of the Flies\"`.\n",
    "\n",
    "This action is added to the stack.\n",
    "\n",
    "![great expectation right child](image/great_expectation_right_child_stack.png)\n",
    "\n",
    "---\n",
    "\n",
    "The node is now `\"Lord of the Flies\"`. It has no left child, so it prints the node.\n",
    "\n",
    "There is no right child either, so its function finishes.\n",
    "\n",
    "The stack is checked again, and `\"Great Expectations\"`'s right child call is popped out and completed.\n",
    "\n",
    "![great expectation right child popped](image/great_expectation_right_child_popped.png)\n",
    "\n",
    "---\n",
    "\n",
    "Now we return to `\"Moby Dick\"`, since its left subtree is finished.\n",
    "\n",
    "So now `\"Moby Dick\"` is printed.\n",
    "\n",
    "![mobi dick left child left child](image/mobi_dick_left_child_stack_left.png)\n",
    "\n",
    "---\n",
    "\n",
    "Then it moves to `\"Moby Dick\"`'s right child, which is `\"Robinson Crusoe\"`. This call is added to the stack.\n",
    "\n",
    "![moby dick right child](image/moby_dick_righ_child_stack.png)\n",
    "\n",
    "---\n",
    "\n",
    "Next node is `\"Robinson Crusoe\"`. It first checks its left child → `\"Pride and Prejudice\"`.\n",
    "\n",
    "Since `\"Pride and Prejudice\"` has no children, it gets printed and its function ends.\n",
    "\n",
    "Now the function returns to `\"Robinson Crusoe\"`.\n",
    "\n",
    "---\n",
    "\n",
    "`\"Robinson Crusoe\"` is printed, and then it goes to its right child → `\"The Odyssey\"`.\n",
    "\n",
    "`\"The Odyssey\"` has no children, so it gets printed and the function ends.\n",
    "\n",
    "---\n",
    "\n",
    "Now all function calls are complete and the stack is empty.\n",
    "\n",
    "---\n",
    "\n",
    "### ✅ Final Printed Order:\n",
    "<pre>\n",
    "1. Alice in Wonderland\n",
    "2. Great Expectations\n",
    "3. Lord of the Flies\n",
    "4. Moby Dick\n",
    "5. Pride and Prejudice\n",
    "6. Robinson Crusoe\n",
    "7. The Odyssey\n",
    "</pre>\n",
    "\n",
    "![final order tree](image/final_inorder.png)"
   ]
  }
 ],
 "metadata": {
  "kernelspec": {
   "display_name": ".venv",
   "language": "python",
   "name": "python3"
  },
  "language_info": {
   "codemirror_mode": {
    "name": "ipython",
    "version": 3
   },
   "file_extension": ".py",
   "mimetype": "text/x-python",
   "name": "python",
   "nbconvert_exporter": "python",
   "pygments_lexer": "ipython3",
   "version": "3.13.3"
  }
 },
 "nbformat": 4,
 "nbformat_minor": 5
}
