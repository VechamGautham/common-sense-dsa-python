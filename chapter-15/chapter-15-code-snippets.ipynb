{
 "cells": [
  {
   "cell_type": "markdown",
   "id": "d96f8e82",
   "metadata": {},
   "source": [
    "## 🌿 Why Use a Binary Search Tree?\n",
    "\n",
    "If we want our data in an **alphabetized list** or in an **order from lowest to highest**, we usually sort it using a sorting algorithm. The most optimized one, **quicksort**, takes around **O(n log n)** time in the average case.\n",
    "\n",
    "So, one good option is to **store the data in an ordered way**. This is better for **searching or reading**. However, when it comes to **insertion and deletion**, the worst-case scenario in a sorted array would take **O(n)** time.\n",
    "\n",
    "We might consider using a **hashmap**, which provides fast access, but hashmaps are **not stored in an ordered way**.\n",
    "\n",
    "That’s why the best choice for **quick access in a sorted manner** is the **Binary Search Tree (BST)**.\n",
    "\n",
    "---\n",
    "\n",
    "## 🌳 What is a Binary Search Tree?\n",
    "\n",
    "A **Binary Search Tree** is a **node-based data structure**.\n",
    "\n",
    "Unlike a linked list, where each node connects to only one next node, in a BST each node can connect to **multiple nodes**.\n",
    "\n",
    "- The **uppermost node** is called the **root**.\n",
    "- For example, if `J` is connected to `M` and `B`, we say:\n",
    "  - `J` is the **parent** of `M` and `B`\n",
    "  - `M` and `B` are the **children** of `J`\n",
    "- Similarly, if `M` has children `Q` and `Z`, then:\n",
    "  - `M` is the parent of `Q` and `Z`\n",
    "  - `Q` and `Z` are the children of `M`\n",
    "## Node based binary tree \n",
    "![Node tree](image/node_based.png)\n",
    "\n",
    "## balanced tree \n",
    "![Balanced Tree](image/balanced_tree.png)\n",
    "\n",
    "## levels \n",
    "![Levels](image/levels.png)\n",
    "\n",
    "## unbalanced tree \n",
    "![Unbalanced Tree](image/unbalanced_tree.png)\n",
    "\n",
    "---\n",
    "\n",
    "## 🧱 Tree Levels and Balance\n",
    "\n",
    "- Trees are said to have **levels**.  \n",
    "  Each level is a horizontal row in the tree.\n",
    "- A tree is said to be **perfectly balanced** if, for every node, the **left and right subtrees have the same number of nodes**.\n",
    "\n",
    "In an **imbalanced tree**, for example, the **left side of a node might have no children**, while the **right side has many**. This can happen if we insert values in a sorted order without rebalancing.\n",
    "\n",
    "---"
   ]
  },
  {
   "cell_type": "markdown",
   "id": "7bec0ec9",
   "metadata": {},
   "source": [
    "# 🌳 Binary Search Trees (BST)\n",
    "\n",
    "## What is a Binary Search Tree?\n",
    "\n",
    "A **Binary Search Tree (BST)** is a special type of **binary tree**. It is a data structure that stores data in a hierarchical, ordered manner to allow for efficient searching, insertion, and deletion.\n",
    "\n",
    "In a BST:\n",
    "\n",
    "- Each **node** can have **at most two children**: a left child and a right child.\n",
    "- The **left child** must contain a **value less than** its parent node.\n",
    "- The **right child** must contain a **value greater than** its parent node.\n",
    "- This rule applies **recursively** to all nodes in the tree.\n",
    "\n",
    "---\n",
    "\n",
    "## Example:\n",
    "![bst example](image/bst_example.png)"
   ]
  },
  {
   "cell_type": "markdown",
   "id": "589f167d",
   "metadata": {},
   "source": [
    "\n",
    "# CODE IMPLEMENTATION OF A TREE NODE "
   ]
  },
  {
   "cell_type": "code",
   "execution_count": 1,
   "id": "35f8c4b5",
   "metadata": {},
   "outputs": [],
   "source": [
    "class TreeNode:\n",
    "    def __init__(self,value,left=None,right=None):\n",
    "        self.value = value \n",
    "        self.left_child = left \n",
    "        self.right_child = right "
   ]
  },
  {
   "cell_type": "code",
   "execution_count": 2,
   "id": "febe7df7",
   "metadata": {},
   "outputs": [],
   "source": [
    "node1 = TreeNode(25)\n",
    "node2 = TreeNode(75)\n",
    "root = TreeNode(50,node1,node2)\n"
   ]
  },
  {
   "cell_type": "markdown",
   "id": "eaf721b2",
   "metadata": {},
   "source": [
    "# SEARCHING"
   ]
  },
  {
   "cell_type": "markdown",
   "id": "e2c79b14",
   "metadata": {},
   "source": [
    "check the book common sense guide to dsa page number 490 for better explanation"
   ]
  },
  {
   "cell_type": "markdown",
   "id": "c4ac60a6",
   "metadata": {},
   "source": [
    "# CODE IMPLEMENTATION: SEARCHING A BINARY SEARCH TREE "
   ]
  },
  {
   "cell_type": "code",
   "execution_count": null,
   "id": "d3a90a91",
   "metadata": {},
   "outputs": [],
   "source": [
    "def search(search_value,node):\n",
    "    if not node or node.value == search_value:\n",
    "        return node \n",
    "    elif search_value < node.value:\n",
    "        return search(search_value,node.left_child)\n",
    "    else:\n",
    "        return search(search_value,node.right_child)\n",
    "        "
   ]
  },
  {
   "cell_type": "markdown",
   "id": "c3915b32",
   "metadata": {},
   "source": [
    "# Insertion"
   ]
  },
  {
   "cell_type": "markdown",
   "id": "6a432f04",
   "metadata": {},
   "source": [
    "check the book common sense guide to dsa page number 500 for better explanation"
   ]
  },
  {
   "cell_type": "markdown",
   "id": "3471ab56",
   "metadata": {},
   "source": [
    "# CODE IMPLEMENTATION: BINARY SEARCH TREE INSERTION"
   ]
  },
  {
   "cell_type": "code",
   "execution_count": null,
   "id": "f069508a",
   "metadata": {},
   "outputs": [],
   "source": [
    "def insert(value,node):\n",
    "    if value < node.value:\n",
    "        if not node.left_child:\n",
    "            node.left_child = TreeNode(value)\n",
    "        else:\n",
    "            insert(value,node.left_child)\n",
    "    \n",
    "    elif value > node.value:\n",
    "        if not node.right_child:\n",
    "            node.right_child = TreeNode(value)\n",
    "        else:\n",
    "            insert(value,node.right_child)\n",
    "    else:\n",
    "        return False\n",
    "            \n"
   ]
  },
  {
   "cell_type": "markdown",
   "id": "139b8b84",
   "metadata": {},
   "source": [
    "# BUILDING A BST"
   ]
  },
  {
   "cell_type": "code",
   "execution_count": 11,
   "id": "b9bcf41e",
   "metadata": {},
   "outputs": [],
   "source": [
    "def build_bst(values):\n",
    "    if not values:\n",
    "        return None \n",
    "    \n",
    "    root = TreeNode(values[0])\n",
    "    for value in values[1:]:\n",
    "        insert(value,root)\n",
    "    return root\n",
    "\n",
    "root = build_bst([4,2,3,6,7,8,9,0,12,34,67])"
   ]
  },
  {
   "cell_type": "code",
   "execution_count": 14,
   "id": "d49df43f",
   "metadata": {},
   "outputs": [],
   "source": [
    "def number_searching(condition):\n",
    "    if condition:\n",
    "        return True \n",
    "    else:\n",
    "        return False"
   ]
  },
  {
   "cell_type": "code",
   "execution_count": 17,
   "id": "3545e66a",
   "metadata": {},
   "outputs": [
    {
     "data": {
      "text/plain": [
       "<__main__.TreeNode at 0x1094a6810>"
      ]
     },
     "execution_count": 17,
     "metadata": {},
     "output_type": "execute_result"
    }
   ],
   "source": [
    "search(9,root)"
   ]
  },
  {
   "cell_type": "code",
   "execution_count": 15,
   "id": "335d188a",
   "metadata": {},
   "outputs": [
    {
     "data": {
      "text/plain": [
       "True"
      ]
     },
     "execution_count": 15,
     "metadata": {},
     "output_type": "execute_result"
    }
   ],
   "source": [
    "number_searching(search(9,root))"
   ]
  },
  {
   "cell_type": "code",
   "execution_count": 16,
   "id": "ce9d3fc3",
   "metadata": {},
   "outputs": [
    {
     "data": {
      "text/plain": [
       "False"
      ]
     },
     "execution_count": 16,
     "metadata": {},
     "output_type": "execute_result"
    }
   ],
   "source": [
    "number_searching(search(999,root))"
   ]
  },
  {
   "cell_type": "markdown",
   "id": "e54851bd",
   "metadata": {},
   "source": [
    "# DELETION"
   ]
  },
  {
   "cell_type": "markdown",
   "id": "e49b1d3f",
   "metadata": {},
   "source": [
    "check common sense guide to dsa page number 610 for better explanation\n"
   ]
  },
  {
   "cell_type": "markdown",
   "id": "91aa8791",
   "metadata": {},
   "source": [
    "### Rules for Deletion in a Binary Search Tree\n",
    "\n",
    "![deletion](image/deletion.png)\n",
    "- **Case 1: Node with No Children (Leaf Node)**  \n",
    "  Simply delete the node.\n",
    "  ![leaf child](image/leaf_child_deletion.png)\n",
    "\n",
    "- **Case 2: Node with One Child**  \n",
    "  Delete the node and plug the child into the spot where the deleted node was.\n",
    "  ![node with cild](image/node_with_child.png)\n",
    "\n",
    "  ![node with child](image/updated_single_child.png)\n",
    "\n",
    "- **Case 3: Node with Two Children**  \n",
    "  When deleting a node with two children, replace the deleted node with the successor node.  \n",
    "  The successor node is the child node whose value is the least of all values that are greater than the deleted node.  \n",
    "  Then delete the successor node, which will now be a node with 0 or 1 child.\n",
    "  ![two children](image/two_children.png)\n",
    "\n",
    "  ![successor node](image/successor_node.png)\n",
    "\n",
    "  - **How to find the successor node:**  \n",
    "    Visit the right child of the deleted value, and then keep on visiting the left child of each subsequent child  \n",
    "    until there are no more left children.  \n",
    "    The bottom value is the successor node.\n",
    "\n",
    "  Then delete the successor node, which will now be a node with 0 or 1 child. \n",
    "  ![root deletion](image/root_node_deletion.png)\n",
    "\n",
    "  ![finding successor node](image/finding_successor_node.png)\n",
    "\n",
    "  ![replacing root node](image/replacing_successor_node.png)\n",
    "\n",
    "    - **Handling the successor's right child:**  \n",
    "    If the successor node has a right child, after plugging the successor node into the spot of the deleted node,  \n",
    "    take the former right child of the successor node and place it where the successor node used to be.\n",
    "\n",
    "  Then delete the original successor node, which now has at most one child.\n",
    "  ![successor node with right child](image/succesor_node_with_right_child.png)\n",
    "\n",
    "  ![hanging child](image/hanging_child.png)\n",
    "\n",
    "  ![placing it](image/placing.png)\n",
    "\n",
    "   \n",
    "\n",
    "\n",
    "\n",
    "  "
   ]
  },
  {
   "cell_type": "markdown",
   "id": "9cb112f0",
   "metadata": {},
   "source": [
    "# CODE IMPLEMENTATION: BINARY SEARCH TREE DELETION\n"
   ]
  },
  {
   "cell_type": "code",
   "execution_count": null,
   "id": "5c02798c",
   "metadata": {},
   "outputs": [],
   "source": [
    "def replace_with_successor_node(node):\n",
    "    successor_node = node.right_child \n",
    "\n",
    "    if not successor_node.left_child:\n",
    "        node.value = successor_node.value \n",
    "        node.right_child = successor_node.right_child \n",
    "        return\n",
    "    \n",
    "    while successor_node.left_child:\n",
    "        parent_of_successor_node = successor_node \n",
    "        successor_node = successor_node.left_child \n",
    "    \n",
    "    if successor_node.right_child:\n",
    "        parent_of_successor_node.left_child = successor_node.right_child\n",
    "    else:\n",
    "        parent_of_successor_node.left_child = None \n",
    "    \n",
    "    node.value = successor_node.value \n",
    "    return successor_node \n",
    "\n",
    "def delete(value_to_delete,node):\n",
    "    current_node = node \n",
    "    parent_of_current_node = None \n",
    "    node_to_delete = None \n",
    "\n",
    "    while current_node:\n",
    "        if current_node.value == value_to_delete:\n",
    "            node_to_delete = current_node \n",
    "            break \n",
    "\n",
    "        parent_of_current_node = current_node \n",
    "        if value_to_delete < current_node.value:\n",
    "            current_node = current_node.left_child \n",
    "        \n",
    "        elif value_to_delete > current_node.value:\n",
    "            current_node = current_node.right_child \n",
    "    \n",
    "    if not node_to_delete:\n",
    "        return None \n",
    "    \n",
    "    if node_to_delete.left_child and node_to_delete.right_child:\n",
    "        replace_with_successor_node(node_to_delete)\n",
    "    else: # deleted node has 0 or 1 children \n",
    "\n",
    "        child_of_deleted_node = (node_to_delete.left_child or node_to_delete.right_child)\n",
    "\n",
    "        if not parent_of_current_node:\n",
    "            node_to_delete.value = child_of_deleted_node.value \n",
    "            node_to_delete.left_child = child_of_deleted_node.left_child \n",
    "            node_to_delete.right_child = child_of_deleted_node.right_child \n",
    "\n",
    "        elif node_to_delete == parent_of_current_node.left_child:\n",
    "            parent_of_current_node.left_child = child_of_deleted_node \n",
    "        \n",
    "        elif node_to_delete == parent_of_current_node.right_child:\n",
    "            parent_of_current_node.right_child = child_of_deleted_node \n",
    "        \n",
    "        return node_to_delete \n",
    "\n",
    "            \n",
    "\n",
    "    "
   ]
  },
  {
   "cell_type": "code",
   "execution_count": null,
   "id": "5c1c36fc",
   "metadata": {},
   "outputs": [],
   "source": [
    "# the logic for this code is you want to find the min number in the bst the only way to find is at each level\n",
    "# move to left till you reach leaf node at left side that would you min value \n",
    "def _min_value_node(self,node):\n",
    "    current = node \n",
    "    while current.left is not None :\n",
    "        current = current.left \n",
    "    return current "
   ]
  },
  {
   "cell_type": "code",
   "execution_count": null,
   "id": "b986ae5a",
   "metadata": {},
   "outputs": [],
   "source": [
    "def delete(self,key):\n",
    "    current = self.root\n",
    "    parent = None \n",
    "    # write a while code still finding the node you want to delete that would be current and just before that would be parent \n",
    "    while current and current.value != key:\n",
    "        parent = current \n",
    "        if key < current.val:\n",
    "            current = current.left_node \n",
    "        else:\n",
    "            current = current.right_node \n",
    "    if current is None :\n",
    "        return None \n",
    "    #case 1 for no child\n",
    "    # if both current.left and current.right is empty then the node must be leaf node \n",
    "    # it could be one node root node if it is set it as none else just remove it becaause its a leaf node\n",
    "    if current.left is None and current.right is None :\n",
    "        if current == self.root:\n",
    "            self.root = None \n",
    "        elif current == parent.left_node:\n",
    "            parent.left_node = None \n",
    "        else:\n",
    "            parent.right = None \n",
    "    #case 2  for single child\n",
    "    # since above was and case both current.left and current.rigth should be none if that is false\n",
    "    # then check if current.left is none if tat truee then current.right must be there coz the if statement\n",
    "    # above failed to work now check wheather the current node  you want to delete is root node if it i s\n",
    "    # then change the root node with current.right_node \n",
    "    # it not root node then and single side on right side then check if the current node is its parent left node \n",
    "    # or parent right node if its parent left node then then replace the parent.left_node with current.right_node \n",
    "    # vice verse for other\n",
    "    elif current.left is None :\n",
    "        if current == self.root:\n",
    "            self.root = current.right_node\n",
    "        elif current == parent.left_node:\n",
    "            parent.left_node = current.right_node \n",
    "        else :\n",
    "            parent.right_node = current.right_node\n",
    "    # case 3 for single child\n",
    "    # if the elif didnt work that means current.left is not none then check if current.right is none then \n",
    "    # then that meaans current.left child is not none if thats teh case check if current node is root node \n",
    "    # if it is then replace self.root to = current.left \n",
    "    elif current.right is None:\n",
    "        if current == self.root:\n",
    "            self.root = current.left_node \n",
    "        elif current == parent.left_node:\n",
    "            parent.left_node = current.left_node\n",
    "        else:\n",
    "            parent.right_node = current.left_node \n",
    "\n",
    "    # case 4 where both node you want to delete has both left and right children \n",
    "    # the logic of this code is we have a min value function that gives the min value of a bst for a given node\n",
    "    #keeps on moving to left node for each level till it reaches the leaf and store the number \n",
    "    # as successor_val now you have to delete that leaf node and place its value in the current node you wanted\n",
    "    # to delete to do that you call the delte(succsor.val) which will go and delete that node or say None \n",
    "    # now whatever value in the successor_value is there that goes to the current.val\n",
    "\n",
    "    else :\n",
    "        successor = self._min_value_node(current.right)\n",
    "        successor_val = successor.value \n",
    "        self.delete(successor.val) \n",
    "        current.val = successor_val \n",
    "\n",
    "\n",
    "\n",
    "\n",
    "        \n",
    "\n",
    "    \n",
    "\n",
    "\n"
   ]
  },
  {
   "cell_type": "markdown",
   "id": "835aa4d8",
   "metadata": {},
   "source": [
    "steps to remeber while writing bst delete method \n",
    "\n",
    "first create def min_value_node(self,node) this method will the return min value that startes from a given node \n",
    "\n",
    "after that now crete a def delete(self,key) its takes the value you want to delete \n",
    "inside this method first thing is you need to find the node where the deletion should happen and check the parent node if its there \n",
    "\n",
    "for that you create current = self.root , parent= None  \n",
    "now you create a while loop while current and current.val != key it will keep on looping till it finds the node where you want to delete is came there deletion will take place \n",
    "code will be like curre"
   ]
  },
  {
   "cell_type": "code",
   "execution_count": null,
   "id": "b011c26a",
   "metadata": {},
   "outputs": [],
   "source": [
    "def min_val_node(self,node):\n",
    "    current = node \n",
    "    while current :\n",
    "        current = current.left_node \n",
    "    return current "
   ]
  },
  {
   "cell_type": "code",
   "execution_count": null,
   "id": "7ef606e4",
   "metadata": {},
   "outputs": [],
   "source": [
    "def delete(self,key):\n",
    "    current = self.root \n",
    "    parent = None \n",
    "\n",
    "    while current and current.value != key :\n",
    "        parent = current \n",
    "        if key < current.value :\n",
    "            current = current.left_node \n",
    "        else :\n",
    "            current = current.right_node\n",
    "    # now lets say the key does not exist in the bst so the while loop ends because no node present \n",
    "    # for that \n",
    "    if current is None :\n",
    "        return \"the key you want to delete is not present in the bst \"\n",
    "    \n",
    "    # if current has some value with it now lets start with case 1 \n",
    "    # case 1 is that the node you want to delete is leaf node that means current.left_node and current.right_node\n",
    "    # does not exist \n",
    "    # edge case is that if there is only one node than that node will be root node if you want to delete that node \n",
    "    # so the entire bst should be emtpy \n",
    "    # lets say its not root nood but a leaf node for that you want simple make that current node as None \n",
    "\n",
    "    if current.left_node is None and current.right_node is None :\n",
    "        if current.value == self.root.value:\n",
    "            self.root = None \n",
    "        \n",
    " \n",
    "    \n"
   ]
  }
 ],
 "metadata": {
  "kernelspec": {
   "display_name": ".venv",
   "language": "python",
   "name": "python3"
  },
  "language_info": {
   "codemirror_mode": {
    "name": "ipython",
    "version": 3
   },
   "file_extension": ".py",
   "mimetype": "text/x-python",
   "name": "python",
   "nbconvert_exporter": "python",
   "pygments_lexer": "ipython3",
   "version": "3.13.3"
  }
 },
 "nbformat": 4,
 "nbformat_minor": 5
}
