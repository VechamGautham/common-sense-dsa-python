{
 "cells": [
  {
   "cell_type": "markdown",
   "id": "5fc9e110",
   "metadata": {},
   "source": [
    "1.“Imagine you were to take an empty binary search tree and insert the following sequence of numbers in this order: [1, 5, 9, 2, 4, 10, 6, 3, 8].”"
   ]
  },
  {
   "cell_type": "code",
   "execution_count": 21,
   "id": "058d64dc",
   "metadata": {},
   "outputs": [],
   "source": [
    "from graphviz import Digraph\n",
    "\n",
    "class TreeNode:\n",
    "    def __init__(self,value,left=None,right=None):\n",
    "        self.value = value \n",
    "        self.left_child = left\n",
    "        self.right_child = right \n",
    "\n",
    "\n",
    "def insert(value,node):\n",
    "    if value < node.value:\n",
    "        if not node.left_child:\n",
    "            node.left_child = TreeNode(value)\n",
    "        else:\n",
    "            insert(value,node.left_child)\n",
    "    \n",
    "    elif value > node.value:\n",
    "        if not node.right_child:\n",
    "            node.right_child = TreeNode(value)\n",
    "        else:\n",
    "            insert(value,node.right_child)\n",
    "\n",
    "\n",
    "def buildbst(values):\n",
    "    if not values:\n",
    "        return None \n",
    "    root = TreeNode(values[0])\n",
    "\n",
    "    for value in values[1:]:\n",
    "        insert(value,root)\n",
    "    return root \n",
    "\n",
    "node = buildbst([1,5,9,2,4,10,6,3,8])\n",
    "\n",
    "\n",
    "\n",
    "\n"
   ]
  },
  {
   "cell_type": "markdown",
   "id": "05b4c08f",
   "metadata": {},
   "source": [
    "“Draw a diagram showing what the binary search tree would look like. Remember, the numbers are being inserted in the order presented here.”\n",
    "\n",
    "![bst image](chapter-15-Excercises-1.jpeg)"
   ]
  },
  {
   "cell_type": "markdown",
   "id": "443462de",
   "metadata": {},
   "source": [
    "2.“If a well-balanced binary search tree contains 1,000 values, what is the maximum number of steps it would take to search for a value within it?”\n",
    "\n"
   ]
  },
  {
   "cell_type": "code",
   "execution_count": 22,
   "id": "a5d4e04b",
   "metadata": {},
   "outputs": [
    {
     "name": "stdout",
     "output_type": "stream",
     "text": [
      "Requirement already satisfied: numpy in /Users/gauthamvecham/Desktop/dsa/.venv/lib/python3.13/site-packages (2.3.0)\n",
      "it would take 7 steps\n"
     ]
    }
   ],
   "source": [
    "! pip install numpy \n",
    "\n",
    "import numpy as np \n",
    "\n",
    "print(f\"it would take {round(np.log(1000))} steps\")"
   ]
  },
  {
   "cell_type": "markdown",
   "id": "50a3f181",
   "metadata": {},
   "source": [
    "3.“Write an algorithm that finds the greatest value within a binary search tree.”"
   ]
  },
  {
   "cell_type": "code",
   "execution_count": 25,
   "id": "7812599e",
   "metadata": {},
   "outputs": [
    {
     "data": {
      "text/plain": [
       "10"
      ]
     },
     "execution_count": 25,
     "metadata": {},
     "output_type": "execute_result"
    }
   ],
   "source": [
    "def greatest_value(node):\n",
    "    if node is None :\n",
    "        return None \n",
    "    while node.right_child :\n",
    "        node = node.right_child \n",
    "    return node.value \n",
    "greatest_value(node)\n"
   ]
  },
  {
   "cell_type": "markdown",
   "id": "f69ae1ab",
   "metadata": {},
   "source": [
    "4.“In the text, I demonstrated how to use inorder traversal to print a list of all the book titles. Another way to traverse a tree is known as preorder traversal. Here’s the code for it as applied to our book app:”\n",
    "```python\n",
    "def traverse_and_print(node):\n",
    "    if not node:\n",
    "        return\n",
    "    print(node.value)\n",
    "    traverse_and_print(node.left_child)\n",
    "    traverse_and_print(node.right_child)\n",
    "```\n",
    "“For the example tree in the text (the one with “Moby Dick” and the other book titles), write out the order in which the book titles are printed with preorder traversal. As a reminder, here’s the example tree:”\n"
   ]
  },
  {
   "cell_type": "markdown",
   "id": "60159189",
   "metadata": {},
   "source": [
    "4. \n",
    "1. moby dick \n",
    "2. great expectations\n",
    "3. alice in wonderland \n",
    "4. lord of the flies \n",
    "5. robinson crusoe \n",
    "6. pride and prejudice\n",
    "7. the odyssey\n",
    "   "
   ]
  },
  {
   "cell_type": "markdown",
   "id": "30851255",
   "metadata": {},
   "source": [
    "## 🔁 Pre-order Traversal Explanation (Root → Left → Right)\n",
    "\n",
    "In pre-order traversal, we visit nodes in the following order:\n",
    "\n",
    "1. **Visit the current node (root)**\n",
    "2. **Traverse the left subtree (pre-order)**\n",
    "3. **Traverse the right subtree (pre-order)**\n",
    "\n",
    "---\n",
    "\n",
    "### 🧠 Step-by-Step Execution:\n",
    "\n",
    "1. Send `\"Moby Dick\"` (root) → **print it** ✅  \n",
    "2. Go to left child → `\"Great Expectations\"` → **print it** ✅  \n",
    "3. Go to left of `\"Great Expectations\"` → `\"Alice in Wonderland\"` → **print it** ✅  \n",
    "4. `\"Alice in Wonderland\"` has no children → **return** ✅  \n",
    "5. Back to `\"Great Expectations\"` → call right child → `\"Lord of the Flies\"` → **print it** ✅  \n",
    "6. `\"Lord of the Flies\"` has no children → **return** ✅  \n",
    "7. Back to `\"Moby Dick\"` → call right child → `\"Robinson Crusoe\"` → **print it** ✅  \n",
    "8. `\"Robinson Crusoe\"` left child → `\"Pride and Prejudice\"` → **print it** ✅  \n",
    "9. Return and call `\"Robinson Crusoe\"` right child → `\"The Odyssey\"` → **print it** ✅\n",
    "\n",
    "---"
   ]
  },
  {
   "cell_type": "markdown",
   "id": "7593a5ca",
   "metadata": {},
   "source": [
    "5.“Yet another form of traversal is called postorder traversal. Here’s the code as applied to our book app:”\n",
    "\n",
    "```python\n",
    "def traverse_and_print(node):\n",
    "    if not node:\n",
    "        return\n",
    "    traverse_and_print(node.left_child)\n",
    "    traverse_and_print(node.right_child)\n",
    "    print(node.value) \n",
    "``` \n",
    "“For the example tree in the text (which also appears in the previous exercise), write out the order in which the book titles are printed with postorder traversal.”\n"
   ]
  },
  {
   "cell_type": "markdown",
   "id": "f8ab63f4",
   "metadata": {},
   "source": [
    "5. \n",
    "1. alice in wonderland \n",
    "2. lord fo the flies \n",
    "3. great expectations\n",
    "4. pride adn prejudice \n",
    "5. odyssey \n",
    "6. rebinson crusoe \n",
    "7/ moby dick "
   ]
  },
  {
   "cell_type": "markdown",
   "id": "c6c4f7cc",
   "metadata": {},
   "source": [
    "## 🔁 Post-order Traversal Explanation (Left → Right → Root)\n",
    "\n",
    "In post-order traversal, we visit nodes in this order:\n",
    "\n",
    "1. **Traverse the left subtree**\n",
    "2. **Traverse the right subtree**\n",
    "3. **Visit the current node (root)**\n",
    "\n",
    "---\n",
    "\n",
    "### 🧠 Step-by-Step Execution:\n",
    "\n",
    "1. The function starts from the root node → `\"Moby Dick\"`  \n",
    "2. `\"Moby Dick\"`'s left child is called and added to the stack → move to `\"Great Expectations\"`  \n",
    "3. `\"Great Expectations\"`'s left child is called → move to `\"Alice in Wonderland\"`  \n",
    "4. `\"Alice in Wonderland\"` has no left or right child → **print it** ✅  \n",
    "5. Return to `\"Great Expectations\"` → call right child → move to `\"Lord of the Flies\"`  \n",
    "6. `\"Lord of the Flies\"` has no children → **print it** ✅  \n",
    "7. Now `\"Great Expectations\"` has completed both children → **print it** ✅  \n",
    "8. Return to `\"Moby Dick\"` → call right child → move to `\"Robinson Crusoe\"`  \n",
    "9. `\"Robinson Crusoe\"`'s left child is called → move to `\"Pride and Prejudice\"`  \n",
    "10. `\"Pride and Prejudice\"` has no children → **print it** ✅  \n",
    "11. Return to `\"Robinson Crusoe\"` → call right child → move to `\"The Odyssey\"`  \n",
    "12. `\"The Odyssey\"` has no children → **print it** ✅  \n",
    "13. Now both children of `\"Robinson Crusoe\"` are done → **print it** ✅  \n",
    "14. Finally, both children of `\"Moby Dick\"` are completed → **print `\"Moby Dick\"`** ✅\n",
    "\n",
    "---"
   ]
  }
 ],
 "metadata": {
  "kernelspec": {
   "display_name": ".venv",
   "language": "python",
   "name": "python3"
  },
  "language_info": {
   "codemirror_mode": {
    "name": "ipython",
    "version": 3
   },
   "file_extension": ".py",
   "mimetype": "text/x-python",
   "name": "python",
   "nbconvert_exporter": "python",
   "pygments_lexer": "ipython3",
   "version": "3.13.3"
  }
 },
 "nbformat": 4,
 "nbformat_minor": 5
}
