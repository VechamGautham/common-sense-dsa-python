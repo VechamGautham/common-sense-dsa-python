{
 "cells": [
  {
   "cell_type": "markdown",
   "id": "bbdde21c",
   "metadata": {},
   "source": [
    "# Exercises"
   ]
  },
  {
   "cell_type": "markdown",
   "id": "3babf2a4",
   "metadata": {},
   "source": [
    "## 1.“For an array containing 100 elements, provide the number of steps the following operations would take:”"
   ]
  },
  {
   "cell_type": "markdown",
   "id": "ec151f29",
   "metadata": {},
   "source": [
    "1.reading"
   ]
  },
  {
   "cell_type": "markdown",
   "id": "0f4be011",
   "metadata": {},
   "source": [
    "1. reading from an array only takes one step each value is stored in specified memory address based on the index that specificed memory address is opened "
   ]
  },
  {
   "cell_type": "markdown",
   "id": "4d89944d",
   "metadata": {},
   "source": [
    "2.Seaching for a value not contained within the array"
   ]
  },
  {
   "cell_type": "markdown",
   "id": "08da0ff1",
   "metadata": {},
   "source": [
    "2. for a given array of n values it would take n steps as it should search at each index for each value and look wheather the value exist in the array or not and search for all array"
   ]
  },
  {
   "cell_type": "markdown",
   "id": "3294bf08",
   "metadata": {},
   "source": [
    "3.Insertion at the beginning of the array"
   ]
  },
  {
   "cell_type": "markdown",
   "id": "9fd335a7",
   "metadata": {},
   "source": [
    "3. it would take n+1 steps as all the index of the existing values has to be shifted to the right along with the memory address "
   ]
  },
  {
   "cell_type": "markdown",
   "id": "0adb32eb",
   "metadata": {},
   "source": [
    "4.Insertion at the end of the array"
   ]
  },
  {
   "cell_type": "markdown",
   "id": "7d67bb4a",
   "metadata": {},
   "source": [
    "4. it would take only 1 step at the insertion is at the end and no shifting is required"
   ]
  },
  {
   "cell_type": "markdown",
   "id": "a96992f6",
   "metadata": {},
   "source": [
    "5 Deletion at the beginning of the array "
   ]
  },
  {
   "cell_type": "markdown",
   "id": "daf48b97",
   "metadata": {},
   "source": [
    "5. it would take n  steps becuase deletion of a value at the beginning is 1 step and shifting all the values to the left in  array is n -1 steps "
   ]
  },
  {
   "cell_type": "markdown",
   "id": "bbc1209a",
   "metadata": {},
   "source": [
    "6.Deletion at the end of the set"
   ]
  },
  {
   "cell_type": "markdown",
   "id": "6b1b4ee8",
   "metadata": {},
   "source": [
    "6. it would take 1 step as deletion is only taking place and no shifting takes place"
   ]
  },
  {
   "cell_type": "markdown",
   "id": "6663717f",
   "metadata": {},
   "source": [
    "## 2.“For an array-based set containing 100 elements, provide the number of steps the following operations would take:”\n",
    "\n"
   ]
  },
  {
   "cell_type": "markdown",
   "id": "4fed7952",
   "metadata": {},
   "source": [
    "1.Reading"
   ]
  },
  {
   "cell_type": "markdown",
   "id": "4509c787",
   "metadata": {},
   "source": [
    "1. reading is only one step"
   ]
  },
  {
   "cell_type": "markdown",
   "id": "6d812df6",
   "metadata": {},
   "source": [
    "2.Searchign for a value not contained within the set"
   ]
  },
  {
   "cell_type": "markdown",
   "id": "a546bb7e",
   "metadata": {},
   "source": [
    "2. n step similar to the above"
   ]
  },
  {
   "cell_type": "markdown",
   "id": "1db8bf2f",
   "metadata": {},
   "source": [
    "3.Insertion of a new value at the beginning fo the set"
   ]
  },
  {
   "cell_type": "markdown",
   "id": "c700b029",
   "metadata": {},
   "source": [
    "3. it would take 2n+1 step as 1st it take n steps to see whether the value which is being inserted is not already existed in the array and 1 step to insert the value and another n step to shift the values to the right "
   ]
  },
  {
   "cell_type": "markdown",
   "id": "331f79ad",
   "metadata": {},
   "source": [
    "4.Insertion of a new value at the end of the set"
   ]
  },
  {
   "cell_type": "markdown",
   "id": "d83093cc",
   "metadata": {},
   "source": [
    "4. n steps to check if the value already exist in the array and 1 step to insert the value at the end of the array n +1\n"
   ]
  },
  {
   "cell_type": "markdown",
   "id": "07fc3682",
   "metadata": {},
   "source": [
    "5.Deletion at teh beginning of the set"
   ]
  },
  {
   "cell_type": "markdown",
   "id": "f4b87b0a",
   "metadata": {},
   "source": [
    "5. 1st step to delet the value and n steps to shift the value to the left (n-1)steps to fill the gap total n"
   ]
  },
  {
   "cell_type": "markdown",
   "id": "1cc91b81",
   "metadata": {},
   "source": [
    "6.Deletion at the end of the set"
   ]
  },
  {
   "cell_type": "markdown",
   "id": "1343b353",
   "metadata": {},
   "source": [
    "6. 1 step to delet the value "
   ]
  },
  {
   "cell_type": "markdown",
   "id": "b5373264",
   "metadata": {},
   "source": [
    "## 3. “Normally the search operation in an array looks for the first instance of a given value. But sometimes we may want to look for every instance of a given value. For example, say we want to count how many times the value “apple” is found inside an array. How many steps would it take to find all the “apple”s? Give your answer in terms of N.”"
   ]
  },
  {
   "cell_type": "markdown",
   "id": "7b39cf86",
   "metadata": {},
   "source": [
    "N steps it search in each index and look at the value if its apple it counts that else it moves on the next index to check it all the values in the array therfore it takes n steps"
   ]
  }
 ],
 "metadata": {
  "kernelspec": {
   "display_name": ".venv",
   "language": "python",
   "name": "python3"
  },
  "language_info": {
   "name": "python",
   "version": "3.13.3"
  }
 },
 "nbformat": 4,
 "nbformat_minor": 5
}
