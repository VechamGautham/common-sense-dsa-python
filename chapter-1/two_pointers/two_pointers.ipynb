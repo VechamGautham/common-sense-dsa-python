{
 "cells": [
  {
   "cell_type": "markdown",
   "id": "928d171f",
   "metadata": {},
   "source": [
    "# TWO POINTERS"
   ]
  },
  {
   "cell_type": "markdown",
   "id": "75e33a81",
   "metadata": {},
   "source": [
    "## Converging pointers"
   ]
  },
  {
   "cell_type": "markdown",
   "id": "585c088c",
   "metadata": {},
   "source": [
    "# 🧭 Converging Two Pointers Pattern (Two Sum II, Palindromes, etc.)\n",
    "\n",
    "The **Converging Pointers** technique uses two indices (`left` and `right`) that start at opposite ends of a list or string and move toward each other based on a condition.  \n",
    "This pattern is common in sorted arrays and string comparison problems.\n",
    "\n",
    "---\n",
    "\n",
    "## ✅ Use Cases\n",
    "- Finding pairs with a specific target sum (e.g., Two Sum II)\n",
    "- Validating palindromes\n",
    "- Maximizing or minimizing distance between elements (e.g., Container With Most Water)\n",
    "- Binary search-like logic (without strict binary search)\n",
    "\n",
    "---\n",
    "\n",
    "## 🔧 General Structure\n",
    "\n",
    "```python\n",
    "left = 0\n",
    "right = len(arr) - 1\n",
    "\n",
    "while left < right:\n",
    "    # Do something with arr[left] and arr[right]\n",
    "    \n",
    "    if condition:\n",
    "        # Adjust pointers based on the logic\n",
    "        left += 1\n",
    "    else:\n",
    "        right -= 1"
   ]
  },
  {
   "cell_type": "markdown",
   "id": "725183aa",
   "metadata": {},
   "source": [
    "## Example 1: 167: Two Sum 11 (sorted array)"
   ]
  },
  {
   "cell_type": "code",
   "execution_count": 11,
   "id": "020206a3",
   "metadata": {},
   "outputs": [
    {
     "name": "stdout",
     "output_type": "stream",
     "text": [
      "[0, 3]\n"
     ]
    }
   ],
   "source": [
    "def two_sum(array,target):\n",
    "    l = 0 \n",
    "    r = len(array) - 1 \n",
    "    while l < r :\n",
    "        curr_sum = array[l] + array[r]\n",
    "        if curr_sum == target :\n",
    "            return [l,r]\n",
    "        elif curr_sum < target :\n",
    "            l += 1 \n",
    "        else :\n",
    "            r -= 1\n",
    "\n",
    "print(two_sum([1,2,3,4,5,6],5))"
   ]
  },
  {
   "cell_type": "markdown",
   "id": "72a1d2a4",
   "metadata": {},
   "source": [
    "## Example 2: 125: Valid Palindrome"
   ]
  },
  {
   "cell_type": "code",
   "execution_count": 12,
   "id": "78180d08",
   "metadata": {},
   "outputs": [
    {
     "name": "stdout",
     "output_type": "stream",
     "text": [
      "True\n",
      "False\n"
     ]
    }
   ],
   "source": [
    "def is_palindrome(s):\n",
    "    s = ''.join(c.lower() for c in s if c.isalnum())\n",
    "    left, right = 0, len(s) - 1\n",
    "\n",
    "    while left < right:\n",
    "        if s[left] != s[right]:\n",
    "            return False\n",
    "        left += 1\n",
    "        right -= 1\n",
    "\n",
    "    return True\n",
    "print(is_palindrome(\"abba\"))\n",
    "print(is_palindrome(\"sigma\"))"
   ]
  },
  {
   "cell_type": "markdown",
   "id": "c8b42c13",
   "metadata": {},
   "source": [
    "# 🔄 Parallel Pointers Pattern\n",
    "\n",
    "The **Parallel Pointers** technique involves using two (or more) pointers that move through **different arrays or sequences in sync**, usually from left to right.  \n",
    "Unlike **converging pointers**, these pointers are not trying to meet each other — they are used to **process, compare, or merge data** across sequences in parallel.\n",
    "\n",
    "---\n",
    "\n",
    "## ✅ When to Use\n",
    "- Merging two sorted arrays\n",
    "- Comparing characters or values across sequences\n",
    "- Finding common elements in two sorted arrays\n",
    "- Traversing two linked lists at once\n",
    "\n",
    "---\n",
    "\n",
    "## 🔧 General Structure\n",
    "\n",
    "```python\n",
    "i, j = 0, 0  # parallel pointers for two sequences\n",
    "\n",
    "while i < len(arr1) and j < len(arr2):\n",
    "    if condition_based_on(arr1[i], arr2[j]):\n",
    "        # Do something (append, count, compare)\n",
    "        i += 1\n",
    "        j += 1\n",
    "    elif arr1[i] < arr2[j]:\n",
    "        i += 1\n",
    "    else:\n",
    "        j += 1\n",
    "\n",
    "# Optional: handle remaining elements in one or both arrays"
   ]
  },
  {
   "cell_type": "markdown",
   "id": "56dab9d7",
   "metadata": {},
   "source": [
    "## Example:349. Intersection of Two Arrays"
   ]
  },
  {
   "cell_type": "code",
   "execution_count": 21,
   "id": "b3e5b824",
   "metadata": {},
   "outputs": [
    {
     "name": "stdout",
     "output_type": "stream",
     "text": [
      "[1, 1, 2, 2, 3]\n",
      "[1, 2, 2, 3]\n",
      "intersected_array [1, 2, 3]\n"
     ]
    }
   ],
   "source": [
    "nums1 = [1,2,2,1,3]\n",
    "nums2 = [2,1,2,3]\n",
    "\n",
    "nums1.sort()\n",
    "nums2.sort()\n",
    "print(nums1)\n",
    "print(nums2)\n",
    "i,j = 0,0 \n",
    "result = []\n",
    "while i < len(nums1) and j < len(nums2):\n",
    "    if nums1[i] == nums2[j] and nums1[i] not in result :\n",
    "        result.append(nums1[i])\n",
    "        i += 1\n",
    "        j += 1\n",
    "    elif nums1[i] < nums2[j]:\n",
    "        i += 1 \n",
    "    else :\n",
    "        j += 1 \n",
    "\n",
    "print(\"intersected_array\",result)"
   ]
  },
  {
   "cell_type": "markdown",
   "id": "c6d740c6",
   "metadata": {},
   "source": [
    "## Example:350. Intersection of Two Arrays II\n"
   ]
  },
  {
   "cell_type": "code",
   "execution_count": 26,
   "id": "c24352f9",
   "metadata": {},
   "outputs": [
    {
     "name": "stdout",
     "output_type": "stream",
     "text": [
      "[2, 3, 3, 4, 4, 5]\n",
      "[1, 2, 3, 3, 4]\n",
      "intersected_array [2, 3, 3, 4]\n"
     ]
    }
   ],
   "source": [
    "nums1 = [2,3,4,5,4,3]\n",
    "nums2 = [1,2,3,4,3]\n",
    "\n",
    "i,j = 0,0 \n",
    "\n",
    "nums1.sort()\n",
    "nums2.sort()\n",
    "result = []\n",
    "\n",
    "while i < len(nums1) and j < len(nums2): \n",
    "    if nums1[i] == nums2[j]:\n",
    "        result.append(nums1[i])\n",
    "        i += 1 \n",
    "        j += 1 \n",
    "    elif nums1[i] < nums2[j]:\n",
    "        i += 1 \n",
    "    else :\n",
    "        j += 1 \n",
    "print(nums1)\n",
    "print(nums2)\n",
    "print(\"intersected_array\",result)\n",
    "\n"
   ]
  },
  {
   "cell_type": "markdown",
   "id": "fe1ff5f8",
   "metadata": {},
   "source": [
    "## Example:88. Merge sorted arrays"
   ]
  },
  {
   "cell_type": "code",
   "execution_count": 23,
   "id": "31443859",
   "metadata": {},
   "outputs": [
    {
     "name": "stdout",
     "output_type": "stream",
     "text": [
      "merge sortted_array [1, 2, 2, 3, 3, 4]\n"
     ]
    }
   ],
   "source": [
    "nums1 = [1,2,3,0,0,0]\n",
    "m = 3 \n",
    "nums2 = [2,3,4]\n",
    "n = 3 \n",
    "\n",
    "x,y,z = m-1,n-1, len(nums1) -1 \n",
    "\n",
    "while x >= 0 and y >= 0 :\n",
    "    if nums1[x] > nums2[y]:\n",
    "        nums1[z] = nums1[x]\n",
    "        x -= 1 \n",
    "    else:\n",
    "        nums1[z] = nums2[y]\n",
    "        y-=1 \n",
    "    z -= 1 \n",
    "\n",
    "\n",
    "while y >= 0 :\n",
    "    nums1[z] = nums2[y]\n",
    "    y -= 1     \n",
    "    z -= 1 \n",
    "\n",
    "print(\"merge sortted_array\",nums1)\n",
    "\n",
    "\n",
    "\n"
   ]
  }
 ],
 "metadata": {
  "kernelspec": {
   "display_name": ".venv",
   "language": "python",
   "name": "python3"
  },
  "language_info": {
   "codemirror_mode": {
    "name": "ipython",
    "version": 3
   },
   "file_extension": ".py",
   "mimetype": "text/x-python",
   "name": "python",
   "nbconvert_exporter": "python",
   "pygments_lexer": "ipython3",
   "version": "3.13.3"
  }
 },
 "nbformat": 4,
 "nbformat_minor": 5
}
