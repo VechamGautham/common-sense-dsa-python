{
 "cells": [
  {
   "cell_type": "code",
   "execution_count": 6,
   "id": "b72848e0",
   "metadata": {},
   "outputs": [
    {
     "name": "stdout",
     "output_type": "stream",
     "text": [
      "2\n",
      "4\n",
      "6\n",
      "8\n",
      "10\n",
      "12\n",
      "14\n",
      "16\n",
      "18\n",
      "20\n",
      "22\n",
      "24\n",
      "26\n",
      "28\n",
      "30\n",
      "32\n",
      "34\n",
      "36\n",
      "38\n",
      "40\n",
      "42\n",
      "44\n",
      "46\n",
      "48\n",
      "50\n",
      "52\n",
      "54\n",
      "56\n",
      "58\n",
      "60\n",
      "62\n",
      "64\n",
      "66\n",
      "68\n",
      "70\n",
      "72\n",
      "74\n",
      "76\n",
      "78\n",
      "80\n",
      "82\n",
      "84\n",
      "86\n",
      "88\n",
      "90\n",
      "92\n",
      "94\n",
      "96\n",
      "98\n",
      "100\n"
     ]
    }
   ],
   "source": [
    "def print_numbers_version_one():\n",
    "    number =2\n",
    "\n",
    "    while number <=100:\n",
    "        if number %2 ==0:\n",
    "            print(number)\n",
    "\n",
    "        number += 1\n",
    "\n",
    "print_numbers_version_one()"
   ]
  },
  {
   "cell_type": "code",
   "execution_count": 4,
   "id": "f8811f3c",
   "metadata": {},
   "outputs": [
    {
     "name": "stdout",
     "output_type": "stream",
     "text": [
      "2\n",
      "4\n",
      "6\n",
      "8\n",
      "10\n",
      "12\n",
      "14\n",
      "16\n",
      "18\n",
      "20\n",
      "22\n",
      "24\n",
      "26\n",
      "28\n",
      "30\n",
      "32\n",
      "34\n",
      "36\n",
      "38\n",
      "40\n",
      "42\n",
      "44\n",
      "46\n",
      "48\n",
      "50\n",
      "52\n",
      "54\n",
      "56\n",
      "58\n",
      "60\n",
      "62\n",
      "64\n",
      "66\n",
      "68\n",
      "70\n",
      "72\n",
      "74\n",
      "76\n",
      "78\n",
      "80\n",
      "82\n",
      "84\n",
      "86\n",
      "88\n",
      "90\n",
      "92\n",
      "94\n",
      "96\n",
      "98\n",
      "100\n"
     ]
    }
   ],
   "source": [
    "def print_numbers_version_two():\n",
    "    number = 2\n",
    "\n",
    "    while number <= 100:\n",
    "\n",
    "        print(number)\n",
    "\n",
    "        number+=2\n",
    "print_numbers_version_two()"
   ]
  },
  {
   "cell_type": "markdown",
   "id": "895479df",
   "metadata": {},
   "source": [
    "creating 100 random value in the number list"
   ]
  },
  {
   "cell_type": "code",
   "execution_count": 16,
   "id": "f7580131",
   "metadata": {},
   "outputs": [
    {
     "data": {
      "text/plain": [
       "[82, 15, 4, 95, 36, 32, 29, 18, 95, 14]"
      ]
     },
     "execution_count": 16,
     "metadata": {},
     "output_type": "execute_result"
    }
   ],
   "source": [
    "import random \n",
    "random.seed(42)\n",
    "numbers = [random.randint(1,100) for _ in range(100)]\n",
    "numbers[:10]"
   ]
  },
  {
   "cell_type": "markdown",
   "id": "d8e2663b",
   "metadata": {},
   "source": [
    "## Read"
   ]
  },
  {
   "cell_type": "code",
   "execution_count": 27,
   "id": "4f1a520a",
   "metadata": {},
   "outputs": [
    {
     "name": "stdout",
     "output_type": "stream",
     "text": [
      "82\n",
      "21\n",
      "[4]\n",
      "[87, 95, 70, 12, 76, 55, 5, 4, 12, 28, 30, 65, 78, 4, 72, 26, 92, 84, 90, 70, 54, 29, 58, 76, 36, 1, 98, 21, 90, 55, 44, 36, 20, 28, 98, 44, 14, 12, 49, 13, 46, 45, 78, 34, 6, 94, 59, 69, 16, 49, 11, 71, 38, 81, 80, 47, 74, 25, 91, 9, 6, 85, 30, 99, 38, 11, 30, 13, 49, 36, 59, 82, 47, 21, 48, 46, 27, 86, 35, 90, 88, 83, 10, 78, 82, 22, 69, 94, 32, 21]\n",
      "[82, 15, 4, 95, 36, 32, 29, 18, 95, 14]\n"
     ]
    }
   ],
   "source": [
    "print(numbers[0]) # first element\n",
    "print(numbers[-1]) # last element\n",
    "print(numbers[2:3]) # slicing including 2nd index val exclduing 3rd index val\n",
    "print(numbers[10:]) # val from index 10 to end\n",
    "print(numbers[:10]) # val from first 10 indices"
   ]
  },
  {
   "cell_type": "markdown",
   "id": "314f6eaa",
   "metadata": {},
   "source": [
    "## Search"
   ]
  },
  {
   "cell_type": "code",
   "execution_count": 31,
   "id": "011470de",
   "metadata": {},
   "outputs": [
    {
     "name": "stdout",
     "output_type": "stream",
     "text": [
      "True\n",
      "0\n",
      "[0, 81, 94]\n"
     ]
    }
   ],
   "source": [
    "print(82 in numbers) # True/False - check if 50 exists\n",
    "print(numbers.index(82)) # Index of first occurrence of 50\n",
    "\n",
    "# All indices where value == 82\n",
    "\n",
    "indices = [index for index,value in enumerate(numbers)if value==82]\n",
    "print(indices)\n"
   ]
  },
  {
   "cell_type": "markdown",
   "id": "4b2bb29a",
   "metadata": {},
   "source": [
    "## Insert"
   ]
  },
  {
   "cell_type": "code",
   "execution_count": null,
   "id": "f5edf51a",
   "metadata": {},
   "outputs": [
    {
     "name": "stdout",
     "output_type": "stream",
     "text": [
      "60\n"
     ]
    }
   ],
   "source": [
    "numbers.append(60) # Add at end  (O(1) amortized)\n",
    "print(numbers[101])"
   ]
  },
  {
   "cell_type": "code",
   "execution_count": 35,
   "id": "229c180a",
   "metadata": {},
   "outputs": [
    {
     "name": "stdout",
     "output_type": "stream",
     "text": [
      "99\n"
     ]
    }
   ],
   "source": [
    "numbers.insert(2,99) # insert at index 2 value 99 (O(n))\n",
    "print(numbers[2])"
   ]
  },
  {
   "cell_type": "markdown",
   "id": "63280f6f",
   "metadata": {},
   "source": [
    "## Delete"
   ]
  },
  {
   "cell_type": "code",
   "execution_count": 36,
   "id": "c5cb547d",
   "metadata": {},
   "outputs": [],
   "source": [
    "numbers.pop() # remove last element(O(1))\n",
    "numbers.pop(2) # remove element at index 2 (O(N))\n",
    "numbers.remove(82) # remove first occurcne of value 82 (O(n))\n",
    "del numbers[1] # Delete value at index 1 (O(n))"
   ]
  },
  {
   "cell_type": "code",
   "execution_count": 40,
   "id": "c55a37f0",
   "metadata": {},
   "outputs": [
    {
     "name": "stdout",
     "output_type": "stream",
     "text": [
      "[100, 4, 95, 36, 32, 29, 18, 95, 14, 87, 95, 70, 12, 76, 55, 5, 4, 12, 28, 30, 65, 78, 4, 72, 26, 92, 84, 90, 70, 54, 29, 58, 76, 36, 1, 98, 21, 90, 55, 44, 36, 20, 28, 98, 44, 14, 12, 49, 13, 46, 45, 78, 34, 6, 94, 59, 69, 16, 49, 11, 71, 38, 81, 80, 47, 74, 25, 91, 9, 6, 85, 30, 99, 38, 11, 30, 13, 49, 36, 59, 47, 21, 48, 46, 27, 86, 35, 90, 88, 83, 10, 78, 22, 69, 94, 32, 21, 60]\n"
     ]
    }
   ],
   "source": [
    "numbers = [x for x in numbers if x!=82]\n",
    "print(numbers)"
   ]
  },
  {
   "cell_type": "markdown",
   "id": "767362e9",
   "metadata": {},
   "source": [
    "## Update"
   ]
  },
  {
   "cell_type": "code",
   "execution_count": 38,
   "id": "2bf2137e",
   "metadata": {},
   "outputs": [
    {
     "name": "stdout",
     "output_type": "stream",
     "text": [
      "100\n"
     ]
    }
   ],
   "source": [
    "numbers[0] = 100 # change value at index 0 (O(n))\n",
    "print(numbers[0])"
   ]
  },
  {
   "cell_type": "code",
   "execution_count": 12,
   "id": "9f69b44a",
   "metadata": {},
   "outputs": [
    {
     "name": "stdout",
     "output_type": "stream",
     "text": [
      "[2, 1, 3, 4, 5]\n"
     ]
    }
   ],
   "source": [
    "list1 = [1,2,3,4,5]\n",
    "\n",
    "list1[0],list1[1] =  list1[1],list1[0]\n",
    "\n",
    "print(list1)"
   ]
  },
  {
   "cell_type": "code",
   "execution_count": 13,
   "id": "9fe08fe5",
   "metadata": {},
   "outputs": [
    {
     "name": "stdout",
     "output_type": "stream",
     "text": [
      "3\n",
      "1\n",
      "5\n",
      "2\n",
      "4\n",
      "1\n",
      "3\n",
      "2\n",
      "5\n",
      "4\n"
     ]
    }
   ],
   "source": [
    "dic = {1: 3, 2: 1, 3: 5, 4: 2, 5: 4, 6: 1, 7: 3, 8: 2, 9: 5, 10: 4}\n",
    "\n",
    "for key in dic :\n",
    "    print(dic[key])"
   ]
  },
  {
   "cell_type": "code",
   "execution_count": 15,
   "id": "6469cf26",
   "metadata": {},
   "outputs": [
    {
     "name": "stdout",
     "output_type": "stream",
     "text": [
      "{1: 3, 2: 1, 3: 5, 4: 2, 5: 4, 6: 1, 7: 3, 8: 2, 9: 5, 10: 4, 33: 4}\n"
     ]
    }
   ],
   "source": [
    "dic[33] = 4\n",
    "print(dic)"
   ]
  }
 ],
 "metadata": {
  "kernelspec": {
   "display_name": ".venv",
   "language": "python",
   "name": "python3"
  },
  "language_info": {
   "codemirror_mode": {
    "name": "ipython",
    "version": 3
   },
   "file_extension": ".py",
   "mimetype": "text/x-python",
   "name": "python",
   "nbconvert_exporter": "python",
   "pygments_lexer": "ipython3",
   "version": "3.13.3"
  }
 },
 "nbformat": 4,
 "nbformat_minor": 5
}
