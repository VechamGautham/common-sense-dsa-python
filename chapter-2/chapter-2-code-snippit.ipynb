{
 "cells": [
  {
   "cell_type": "markdown",
   "id": "b5de4f77",
   "metadata": {},
   "source": [
    "## Linear search on an ordered array"
   ]
  },
  {
   "cell_type": "code",
   "execution_count": null,
   "id": "f0faf3c7",
   "metadata": {},
   "outputs": [],
   "source": [
    "def linear_search(array,search_value):\n",
    "    for index,element in enumerate(array):\n",
    "        if element == search_value:\n",
    "            return index \n",
    "        elif element > search_value:\n",
    "            break\n",
    "    return None\n"
   ]
  },
  {
   "cell_type": "code",
   "execution_count": 4,
   "id": "cb79524a",
   "metadata": {},
   "outputs": [
    {
     "name": "stdout",
     "output_type": "stream",
     "text": [
      "None\n"
     ]
    }
   ],
   "source": [
    "print(linear_search([3,17,75,80,202],22))"
   ]
  },
  {
   "cell_type": "markdown",
   "id": "185f0e09",
   "metadata": {},
   "source": [
    "understanding break"
   ]
  },
  {
   "cell_type": "code",
   "execution_count": 5,
   "id": "4252164b",
   "metadata": {},
   "outputs": [
    {
     "name": "stdout",
     "output_type": "stream",
     "text": [
      "Inside loop: 0\n",
      "Inside loop: 1\n",
      "Inside loop: 2\n",
      "After loop: 2\n"
     ]
    }
   ],
   "source": [
    "def demo():\n",
    "    for i in range(5):\n",
    "        print(\"Inside loop:\", i)\n",
    "        if i == 2:\n",
    "            break\n",
    "    print(\"After loop:\", i)\n",
    "\n",
    "demo()"
   ]
  },
  {
   "cell_type": "markdown",
   "id": "49db29e4",
   "metadata": {},
   "source": [
    "## Code Implementation : Binary search"
   ]
  },
  {
   "cell_type": "code",
   "execution_count": 8,
   "id": "4462010d",
   "metadata": {},
   "outputs": [],
   "source": [
    "def binary_search(array,search_value):\n",
    "    lower_bound = 0\n",
    "    upper_bound = len(array) -1\n",
    "\n",
    "    while lower_bound <= upper_bound:\n",
    "        midpoint = (upper_bound + lower_bound)//2\n",
    "        value_at_midpoint = array[midpoint]\n",
    "\n",
    "        if search_value == value_at_midpoint:\n",
    "            return midpoint\n",
    "        elif search_value < value_at_midpoint:\n",
    "            upper_bound = midpoint -1\n",
    "        elif search_value > value_at_midpoint:\n",
    "            lower_bound = midpoint + 1\n",
    "    return None"
   ]
  },
  {
   "cell_type": "code",
   "execution_count": null,
   "id": "be7a1bff",
   "metadata": {},
   "outputs": [
    {
     "name": "stdout",
     "output_type": "stream",
     "text": [
      "None\n"
     ]
    }
   ],
   "source": [
    "print(binary_search([3, 17, 75, 80, 202], 22))"
   ]
  },
  {
   "cell_type": "code",
   "execution_count": null,
   "id": "663ca82a",
   "metadata": {},
   "outputs": [],
   "source": []
  }
 ],
 "metadata": {
  "kernelspec": {
   "display_name": ".venv",
   "language": "python",
   "name": "python3"
  },
  "language_info": {
   "codemirror_mode": {
    "name": "ipython",
    "version": 3
   },
   "file_extension": ".py",
   "mimetype": "text/x-python",
   "name": "python",
   "nbconvert_exporter": "python",
   "pygments_lexer": "ipython3",
   "version": "3.13.3"
  }
 },
 "nbformat": 4,
 "nbformat_minor": 5
}
