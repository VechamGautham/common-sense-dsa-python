{
 "cells": [
  {
   "cell_type": "markdown",
   "id": "cb8a940e",
   "metadata": {},
   "source": [
    "1.“How many steps would it take to perform a linear search for the number 8 in the ordered array [2, 4, 6, 8, 10, 12, 13]?”\n"
   ]
  },
  {
   "cell_type": "markdown",
   "id": "55cc4870",
   "metadata": {},
   "source": [
    "1. 4 steps its start from the zero index and move right if the number 8 is not equal to searched element and keeps moving right till it find the matching number."
   ]
  },
  {
   "cell_type": "markdown",
   "id": "b8ab399c",
   "metadata": {},
   "source": [
    "2.“How many steps would binary search take for the previous example?”\n"
   ]
  },
  {
   "cell_type": "markdown",
   "id": "fca9c611",
   "metadata": {},
   "source": [
    "2. 1 step as number 8 is exactly at the middle index of the array"
   ]
  },
  {
   "cell_type": "markdown",
   "id": "552338dc",
   "metadata": {},
   "source": [
    "3.“What is the maximum number of steps it would take to perform a binary search on an array of size 100,000?”\n"
   ]
  },
  {
   "cell_type": "code",
   "execution_count": 6,
   "id": "8abbacb9",
   "metadata": {},
   "outputs": [
    {
     "name": "stdout",
     "output_type": "stream",
     "text": [
      "Requirement already satisfied: numpy in /Users/gauthamvecham/Desktop/dsa/.venv/lib/python3.13/site-packages (2.3.0)\n"
     ]
    }
   ],
   "source": [
    "! pip install numpy "
   ]
  },
  {
   "cell_type": "code",
   "execution_count": 7,
   "id": "dab25b77",
   "metadata": {},
   "outputs": [
    {
     "name": "stdout",
     "output_type": "stream",
     "text": [
      "17\n"
     ]
    }
   ],
   "source": [
    "import numpy as np\n",
    "import math \n",
    "\n",
    "max_binary_steps = np.log2(100000)\n",
    "rounded = math.ceil(max_binary_steps)\n",
    "print(rounded)"
   ]
  }
 ],
 "metadata": {
  "kernelspec": {
   "display_name": ".venv",
   "language": "python",
   "name": "python3"
  },
  "language_info": {
   "codemirror_mode": {
    "name": "ipython",
    "version": 3
   },
   "file_extension": ".py",
   "mimetype": "text/x-python",
   "name": "python",
   "nbconvert_exporter": "python",
   "pygments_lexer": "ipython3",
   "version": "3.13.3"
  }
 },
 "nbformat": 4,
 "nbformat_minor": 5
}
