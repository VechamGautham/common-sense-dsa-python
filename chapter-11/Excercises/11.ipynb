{
 "cells": [
  {
   "cell_type": "markdown",
   "id": "2f802367",
   "metadata": {},
   "source": [
    "1.“Use recursion to write a function that accepts an array of strings and returns the total number of characters across all the strings. For example, if the input array is [\"ab\", \"c\", \"def\", \"ghij\"], the output should be 10 since there are ten characters in total.\n",
    "”\n"
   ]
  },
  {
   "cell_type": "code",
   "execution_count": 5,
   "id": "b0ce9617",
   "metadata": {},
   "outputs": [
    {
     "data": {
      "text/plain": [
       "10"
      ]
     },
     "execution_count": 5,
     "metadata": {},
     "output_type": "execute_result"
    }
   ],
   "source": [
    "def count(array):\n",
    "    if len(array) == 0:\n",
    "        return 0\n",
    "    return len(array[0]) + count(array[1:])\n",
    "\n",
    "count([\"ab\",\"c\",\"def\",\"ghij\"])\n"
   ]
  },
  {
   "cell_type": "markdown",
   "id": "d646901a",
   "metadata": {},
   "source": [
    "2.“Use recursion to write a function that accepts an array of numbers and returns a new array containing just the even numbers”\n"
   ]
  },
  {
   "cell_type": "code",
   "execution_count": 8,
   "id": "c9b44b56",
   "metadata": {},
   "outputs": [
    {
     "data": {
      "text/plain": [
       "[2, 4, 6, 8]"
      ]
     },
     "execution_count": 8,
     "metadata": {},
     "output_type": "execute_result"
    }
   ],
   "source": [
    "def even_array(array):\n",
    "    if len(array) == 0:\n",
    "        return []\n",
    "    if array[0]%2 == 0 :\n",
    "        return [array[0]] + even_array(array[1:])\n",
    "    else:\n",
    "        return even_array(array[1:])\n",
    "\n",
    "even_array([1,2,3,4,5,6,7,8,9])\n"
   ]
  },
  {
   "cell_type": "markdown",
   "id": "0de75d79",
   "metadata": {},
   "source": [
    "3.“A particular numerical sequence is known as triangular numbers. The pattern begins as 1, 3, 6, 10, 15, 21, and continues onward. To calculate the next number in the sequence, we add the previous number from the sequence plus N, where N corresponds to the place in the sequence where the number lies. For example, the seventh number in the sequence is 28, since it’s the seventh number in the pattern, so we add the number 7 plus 21 (the previous number in the sequence). Write a function that accepts a number for N and returns the correct number from the series; that is, if the function was passed the number 7, the function would return 28.\n"
   ]
  },
  {
   "cell_type": "code",
   "execution_count": 11,
   "id": "d3aca85e",
   "metadata": {},
   "outputs": [
    {
     "data": {
      "text/plain": [
       "28"
      ]
     },
     "execution_count": 11,
     "metadata": {},
     "output_type": "execute_result"
    }
   ],
   "source": [
    "def triangular_number(n):\n",
    "    if n == 1:\n",
    "        return 1 \n",
    "    return n + triangular_number(n-1)\n",
    "\n",
    "triangular_number(7)"
   ]
  },
  {
   "cell_type": "markdown",
   "id": "46bf44fb",
   "metadata": {},
   "source": [
    "4.“Use recursion to write a function that accepts a string and returns the first index that contains the character “x”. For example, the string, \"abcdefghijklmnopqrstuvwxyz\" has an “x” at index 23. To keep things simple, assume the string definitely has at least one “x”.”\n"
   ]
  },
  {
   "cell_type": "code",
   "execution_count": 13,
   "id": "5214febf",
   "metadata": {},
   "outputs": [
    {
     "data": {
      "text/plain": [
       "23"
      ]
     },
     "execution_count": 13,
     "metadata": {},
     "output_type": "execute_result"
    }
   ],
   "source": [
    "def x_index(string,index=0):\n",
    "    if string[index] == 'x':\n",
    "        return index\n",
    "    return x_index(string,index +1)\n",
    "\n",
    "x_index(\"abcdefghijklmnopqrstuvwxyz\")"
   ]
  }
 ],
 "metadata": {
  "kernelspec": {
   "display_name": ".venv (3.13.3)",
   "language": "python",
   "name": "python3"
  },
  "language_info": {
   "codemirror_mode": {
    "name": "ipython",
    "version": 3
   },
   "file_extension": ".py",
   "mimetype": "text/x-python",
   "name": "python",
   "nbconvert_exporter": "python",
   "pygments_lexer": "ipython3",
   "version": "3.13.3"
  }
 },
 "nbformat": 4,
 "nbformat_minor": 5
}
