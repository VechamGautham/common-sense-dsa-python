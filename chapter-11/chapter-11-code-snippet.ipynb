{
 "cells": [
  {
   "cell_type": "code",
   "execution_count": 1,
   "id": "55c5f668",
   "metadata": {},
   "outputs": [],
   "source": [
    "def countdown(number):\n",
    "    print(number)\n",
    "\n",
    "    if number == 0:\n",
    "        return \n",
    "    else:\n",
    "        countdown(number-1)"
   ]
  },
  {
   "cell_type": "code",
   "execution_count": 2,
   "id": "17130117",
   "metadata": {},
   "outputs": [
    {
     "name": "stdout",
     "output_type": "stream",
     "text": [
      "10\n",
      "9\n",
      "8\n",
      "7\n",
      "6\n",
      "5\n",
      "4\n",
      "3\n",
      "2\n",
      "1\n",
      "0\n"
     ]
    }
   ],
   "source": [
    "countdown(10)"
   ]
  },
  {
   "cell_type": "markdown",
   "id": "bf922829",
   "metadata": {},
   "source": [
    "# Double-array"
   ]
  },
  {
   "cell_type": "markdown",
   "id": "9ce53e6d",
   "metadata": {},
   "source": [
    "## double-array inplace without recurrsion"
   ]
  },
  {
   "cell_type": "code",
   "execution_count": 5,
   "id": "8695b8c8",
   "metadata": {},
   "outputs": [
    {
     "data": {
      "text/plain": [
       "[2, 4, 6, 8, 10]"
      ]
     },
     "execution_count": 5,
     "metadata": {},
     "output_type": "execute_result"
    }
   ],
   "source": [
    "def double_array(array):\n",
    "    index = 0\n",
    "\n",
    "    while index < len(array):\n",
    "        array[index] *= 2\n",
    "        index +=1\n",
    "    \n",
    "    return array\n",
    "\n",
    "double_array([1,2,3,4,5])"
   ]
  },
  {
   "cell_type": "markdown",
   "id": "ac0b2c35",
   "metadata": {},
   "source": [
    "## Double-array inplace with recurrsion"
   ]
  },
  {
   "cell_type": "code",
   "execution_count": 14,
   "id": "6d6b5568",
   "metadata": {},
   "outputs": [
    {
     "name": "stdout",
     "output_type": "stream",
     "text": [
      "[2, 4, 6, 8, 10]\n"
     ]
    }
   ],
   "source": [
    "def double_array(array,index=0):\n",
    "    # Base Case : when the index goes past the end of the array \n",
    "    if index >= len(array):\n",
    "        return\n",
    "    array[index]*=2\n",
    "    double_array(array,index+1)\n",
    "\n",
    "array = [1,2,3,4,5]\n",
    "double_array(array)\n",
    "\n",
    "print(array)"
   ]
  },
  {
   "cell_type": "markdown",
   "id": "5f151bfa",
   "metadata": {},
   "source": [
    "# Factorial without recurssion"
   ]
  },
  {
   "cell_type": "code",
   "execution_count": 17,
   "id": "701bac9f",
   "metadata": {},
   "outputs": [
    {
     "data": {
      "text/plain": [
       "720"
      ]
     },
     "execution_count": 17,
     "metadata": {},
     "output_type": "execute_result"
    }
   ],
   "source": [
    "def factorial(n):\n",
    "    product = 1 \n",
    "\n",
    "    for n in range(1,n+1):\n",
    "        product *= n\n",
    "\n",
    "    return product \n",
    "factorial(6)"
   ]
  },
  {
   "cell_type": "markdown",
   "id": "6173ad82",
   "metadata": {},
   "source": [
    "# Factorial wiht recurssion"
   ]
  },
  {
   "cell_type": "code",
   "execution_count": 18,
   "id": "1bf53610",
   "metadata": {},
   "outputs": [
    {
     "data": {
      "text/plain": [
       "720"
      ]
     },
     "execution_count": 18,
     "metadata": {},
     "output_type": "execute_result"
    }
   ],
   "source": [
    "def factorial(number):\n",
    "    if number <= 1:\n",
    "        return 1 \n",
    "    else :\n",
    "        return number * factorial(number -1)\n",
    "\n",
    "factorial(6)"
   ]
  },
  {
   "cell_type": "markdown",
   "id": "ee58d6c4",
   "metadata": {},
   "source": [
    "# bottom-up using reursion"
   ]
  },
  {
   "cell_type": "code",
   "execution_count": 19,
   "id": "39b3bf65",
   "metadata": {},
   "outputs": [],
   "source": [
    "def factorial(n,i=1,product=1):\n",
    "    if i >n:\n",
    "        return product \n",
    "    \n",
    "    return factorial(n,i+1,product*i)\n",
    "    "
   ]
  },
  {
   "cell_type": "code",
   "execution_count": 20,
   "id": "f5d718b1",
   "metadata": {},
   "outputs": [
    {
     "data": {
      "text/plain": [
       "720"
      ]
     },
     "execution_count": 20,
     "metadata": {},
     "output_type": "execute_result"
    }
   ],
   "source": [
    "factorial(6)"
   ]
  },
  {
   "cell_type": "markdown",
   "id": "b9977e0b",
   "metadata": {},
   "source": [
    "### 🔄 Bottom-Up vs Top-Down with Recursion\n",
    "\n",
    "- **Bottom-Up** calculations (like factorial) can be done using **loops** or **recursion**.\n",
    "- Using recursion for bottom-up is possible, but it's not elegant — it's just simulating a loop.\n",
    "- **Top-Down** strategy, however, **requires recursion** — it breaks the problem into smaller subproblems.\n",
    "- This is why recursion is powerful: it enables top-down thinking, which loops can't naturally do.\n",
    "\n",
    "🧠 **Bottom line**: Use loops for bottom-up. Use recursion for top-down."
   ]
  },
  {
   "cell_type": "markdown",
   "id": "6a8a7726",
   "metadata": {},
   "source": [
    "# top-down approach sum array"
   ]
  },
  {
   "cell_type": "code",
   "execution_count": 25,
   "id": "2b37cbbd",
   "metadata": {},
   "outputs": [],
   "source": [
    "def sum(array):\n",
    "    # if array is empty  and this is the base case too:\n",
    "    if not array :\n",
    "        return 0\n",
    "\n",
    "\n",
    "    return array[0] + sum(array[1:])\n",
    "\n"
   ]
  },
  {
   "cell_type": "code",
   "execution_count": 26,
   "id": "62fd38fb",
   "metadata": {},
   "outputs": [
    {
     "data": {
      "text/plain": [
       "15"
      ]
     },
     "execution_count": 26,
     "metadata": {},
     "output_type": "execute_result"
    }
   ],
   "source": [
    "sum([1,2,3,4,5])"
   ]
  },
  {
   "cell_type": "markdown",
   "id": "7c925705",
   "metadata": {},
   "source": [
    "### 🧠 Understanding Top-Down Recursion (Array Sum Example)\n",
    "\n",
    "Top-down recursion is a way of solving problems by **breaking them down into smaller subproblems**, assuming those subproblems will be solved correctly.\n",
    "\n",
    "We write the recursive function as if the function we’re writing already exists and works for a smaller input. This lets us “kick the problem down the road.”\n",
    "\n",
    "---\n",
    "\n",
    "### ✅ Key Concepts:\n",
    "\n",
    "1. **Subproblem**: Break the input into a smaller version of itself\n",
    "2. **Recursive step**: Assume the function already solves the subproblem\n",
    "3. **Base case**: Define the simplest version of the problem to stop recursion\n",
    "4. **Build up the final answer** by combining the current result with the recursive one\n",
    "\n",
    "---\n",
    "\n",
    "### 🧪 Example Task: Sum of `[1, 2, 3, 4, 5]`\n",
    "\n",
    "We want to write a recursive function to sum the elements of a list:\n",
    "\n",
    "```python\n",
    "def sum(array):\n",
    "    if not array:  # Base case: empty list\n",
    "        return 0\n",
    "    return array[0] + sum(array[1:])  # Recursive case"
   ]
  },
  {
   "cell_type": "markdown",
   "id": "5deedc07",
   "metadata": {},
   "source": [
    "### 🔍 How It Works – Recursive Calls:\n",
    "\n",
    "Each call breaks the array and kicks the problem to a smaller version:\n",
    "\n",
    "1. `sum([1, 2, 3, 4, 5])`  \n",
    "   → `1 + sum([2, 3, 4, 5])`\n",
    "\n",
    "2. `sum([2, 3, 4, 5])`  \n",
    "   → `2 + sum([3, 4, 5])`\n",
    "\n",
    "3. `sum([3, 4, 5])`  \n",
    "   → `3 + sum([4, 5])`\n",
    "\n",
    "4. `sum([4, 5])`  \n",
    "   → `4 + sum([5])`\n",
    "\n",
    "5. `sum([5])`  \n",
    "   → `5 + sum([])`\n",
    "\n",
    "6. `sum([])`  \n",
    "   → **Base case! Returns `0`**\n",
    "\n",
    "---\n",
    "\n",
    "### 🔁 Unwinding the Recursion – Return Path:\n",
    "\n",
    "Now the recursive calls return in reverse order:\n",
    "\n",
    "- `sum([5]) = 5 + 0 = 5`\n",
    "- `sum([4, 5]) = 4 + 5 = 9`\n",
    "- `sum([3, 4, 5]) = 3 + 9 = 12`\n",
    "- `sum([2, 3, 4, 5]) = 2 + 12 = 14`\n",
    "- `sum([1, 2, 3, 4, 5]) = 1 + 14 = 15`\n",
    "\n",
    "---\n",
    "\n",
    "### 💡 Insight:\n",
    "\n",
    "- The **base case** only runs when the list is empty.\n",
    "- This triggers the **end of recursion** and allows results to return up through each previous call.\n",
    "- Each call simply **adds its first element to the result of the subproblem**, which has already been solved."
   ]
  },
  {
   "cell_type": "markdown",
   "id": "0927a3ec",
   "metadata": {},
   "source": [
    "# TOP-DOWN APPROACH STRING REVERSAL"
   ]
  },
  {
   "cell_type": "code",
   "execution_count": 28,
   "id": "739cec58",
   "metadata": {},
   "outputs": [
    {
     "data": {
      "text/plain": [
       "'edcba'"
      ]
     },
     "execution_count": 28,
     "metadata": {},
     "output_type": "execute_result"
    }
   ],
   "source": [
    "def reverse(string):\n",
    "    if not string :\n",
    "        return \"\"\n",
    "\n",
    "    return reverse(string[1:]) + string[0]\n",
    "\n",
    "reverse(\"abcde\")"
   ]
  },
  {
   "cell_type": "markdown",
   "id": "8c73e2d1",
   "metadata": {},
   "source": [
    "# TOP-DOWN COUNTING X "
   ]
  },
  {
   "cell_type": "markdown",
   "id": "cc6a425a",
   "metadata": {},
   "source": [
    "## two base cases"
   ]
  },
  {
   "cell_type": "code",
   "execution_count": 30,
   "id": "294aa38f",
   "metadata": {},
   "outputs": [
    {
     "data": {
      "text/plain": [
       "5"
      ]
     },
     "execution_count": 30,
     "metadata": {},
     "output_type": "execute_result"
    }
   ],
   "source": [
    "def count_x(string):\n",
    "    # two base cases:\n",
    "    if len(string) == 1:\n",
    "        if string[0] == \"x\":\n",
    "            return 1 \n",
    "        else:\n",
    "            return 0 \n",
    "    if string[0] == \"x\":\n",
    "        return 1 + count_x(string[1:])\n",
    "    else :\n",
    "        return count_x(string[1:])\n",
    "\n",
    "count_x(\"axbxcxdxx\")"
   ]
  },
  {
   "cell_type": "markdown",
   "id": "cc2ec3f7",
   "metadata": {},
   "source": [
    "## single base cases"
   ]
  },
  {
   "cell_type": "code",
   "execution_count": 32,
   "id": "e7d79fcd",
   "metadata": {},
   "outputs": [
    {
     "data": {
      "text/plain": [
       "5"
      ]
     },
     "execution_count": 32,
     "metadata": {},
     "output_type": "execute_result"
    }
   ],
   "source": [
    "def count_x(string):\n",
    "    # Base case : an empty string \n",
    "    if not string:\n",
    "        return 0\n",
    "    \n",
    "    if string[0] == \"x\":\n",
    "        return 1 + count_x(string[1:])\n",
    "    \n",
    "    else:\n",
    "        return count_x(string[1:])\n",
    "\n",
    "count_x(\"axbxcxdxx\")"
   ]
  },
  {
   "cell_type": "markdown",
   "id": "b34c915d",
   "metadata": {},
   "source": [
    "# STAIRCASE PROBLEM"
   ]
  },
  {
   "cell_type": "code",
   "execution_count": 35,
   "id": "a0ca7273",
   "metadata": {},
   "outputs": [
    {
     "data": {
      "text/plain": [
       "13"
      ]
     },
     "execution_count": 35,
     "metadata": {},
     "output_type": "execute_result"
    }
   ],
   "source": [
    "def number_of_path(n):\n",
    "    if n < 0 :\n",
    "        return 0 \n",
    "    if n == 0 or n == 1 :\n",
    "        return 1 \n",
    "\n",
    "    return (number_of_path(n-1)+number_of_path(n-2)+number_of_path(n-3))\n",
    "\n",
    "number_of_path(5)"
   ]
  },
  {
   "cell_type": "markdown",
   "id": "17386490",
   "metadata": {},
   "source": [
    "# ANAGRAM PROBLEM"
   ]
  },
  {
   "cell_type": "code",
   "execution_count": 37,
   "id": "6e85dfe1",
   "metadata": {},
   "outputs": [
    {
     "data": {
      "text/plain": [
       "['abcd',\n",
       " 'bacd',\n",
       " 'bcad',\n",
       " 'bcda',\n",
       " 'acbd',\n",
       " 'cabd',\n",
       " 'cbad',\n",
       " 'cbda',\n",
       " 'acdb',\n",
       " 'cadb',\n",
       " 'cdab',\n",
       " 'cdba',\n",
       " 'abdc',\n",
       " 'badc',\n",
       " 'bdac',\n",
       " 'bdca',\n",
       " 'adbc',\n",
       " 'dabc',\n",
       " 'dbac',\n",
       " 'dbca',\n",
       " 'adcb',\n",
       " 'dacb',\n",
       " 'dcab',\n",
       " 'dcba']"
      ]
     },
     "execution_count": 37,
     "metadata": {},
     "output_type": "execute_result"
    }
   ],
   "source": [
    "def anagrams_of(string):\n",
    "    if len(string) == 1 :\n",
    "        return [string[0]]\n",
    "    \n",
    "    collection = []\n",
    "\n",
    "    substring_anagrams = anagrams_of(string[1:])\n",
    "\n",
    "    for substring_anagram in substring_anagrams:\n",
    "        for index in range(len(substring_anagram)+1):\n",
    "            new_string = (substring_anagram[:index]+string[0]+substring_anagram[index:])\n",
    "            collection.append(new_string)\n",
    "    \n",
    "    return collection\n",
    "\n",
    "anagrams_of(\"abcd\")\n"
   ]
  }
 ],
 "metadata": {
  "kernelspec": {
   "display_name": ".venv (3.13.3)",
   "language": "python",
   "name": "python3"
  },
  "language_info": {
   "codemirror_mode": {
    "name": "ipython",
    "version": 3
   },
   "file_extension": ".py",
   "mimetype": "text/x-python",
   "name": "python",
   "nbconvert_exporter": "python",
   "pygments_lexer": "ipython3",
   "version": "3.13.3"
  }
 },
 "nbformat": 4,
 "nbformat_minor": 5
}
