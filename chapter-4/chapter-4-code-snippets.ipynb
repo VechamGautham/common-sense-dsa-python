{
 "cells": [
  {
   "cell_type": "markdown",
   "id": "100bd4ec",
   "metadata": {},
   "source": [
    "# BUBBLE SORT"
   ]
  },
  {
   "cell_type": "code",
   "execution_count": 10,
   "id": "0e41ebec",
   "metadata": {},
   "outputs": [],
   "source": [
    "def bubble_sort(array):\n",
    "    unsorted_until_index = len(array) -1\n",
    "    sorted = False\n",
    "    \n",
    "    while not sorted:\n",
    "        sorted = True\n",
    "        for i in range(unsorted_until_index):\n",
    "            if array[i] > array[i+1]:\n",
    "                array[i],array[i+1] = array[i+1],array[i]\n",
    "                sorted = False\n",
    "        unsorted_until_index -=1\n",
    "\n",
    "    return array\n",
    "        "
   ]
  },
  {
   "cell_type": "code",
   "execution_count": 11,
   "id": "87cbe9e7",
   "metadata": {},
   "outputs": [
    {
     "name": "stdout",
     "output_type": "stream",
     "text": [
      "[10, 15, 25, 35, 45, 55, 65]\n"
     ]
    }
   ],
   "source": [
    "print(bubble_sort([65, 55, 45, 35, 25, 15, 10]))"
   ]
  },
  {
   "cell_type": "markdown",
   "id": "5a493313",
   "metadata": {},
   "source": [
    "Bubble sort has an efficiney of O(N^2)"
   ]
  },
  {
   "cell_type": "code",
   "execution_count": 15,
   "id": "7cb98c57",
   "metadata": {},
   "outputs": [],
   "source": [
    "def has_duplicate_value(array):\n",
    "    for i in range(len(array)):\n",
    "        for j in range(len(array)):\n",
    "            if (i!=j) and (array[i]==array[j]):\n",
    "                return True\n",
    "    return False"
   ]
  },
  {
   "cell_type": "code",
   "execution_count": 16,
   "id": "4b7dc41e",
   "metadata": {},
   "outputs": [
    {
     "data": {
      "text/plain": [
       "False"
      ]
     },
     "execution_count": 16,
     "metadata": {},
     "output_type": "execute_result"
    }
   ],
   "source": [
    "has_duplicate_value([1,2,3,4,5,6])"
   ]
  },
  {
   "cell_type": "code",
   "execution_count": 17,
   "id": "aaeb9f13",
   "metadata": {},
   "outputs": [
    {
     "data": {
      "text/plain": [
       "True"
      ]
     },
     "execution_count": 17,
     "metadata": {},
     "output_type": "execute_result"
    }
   ],
   "source": [
    "has_duplicate_value([1,2,3,2,4,5,6])"
   ]
  },
  {
   "cell_type": "markdown",
   "id": "4a0f9b53",
   "metadata": {},
   "source": [
    "nested loop has an effiency of O(N^2)"
   ]
  },
  {
   "cell_type": "code",
   "execution_count": 21,
   "id": "8d7b3679",
   "metadata": {},
   "outputs": [],
   "source": [
    "def has_duplicate_value(array):\n",
    "    steps = 0\n",
    "    for i in range(len(array)):\n",
    "        for j in range(len(array)):\n",
    "            steps += 1 \n",
    "            if (i!=j) and (array[i]==array[j]):\n",
    "                return True\n",
    "    return False,steps"
   ]
  },
  {
   "cell_type": "code",
   "execution_count": 22,
   "id": "bd545759",
   "metadata": {},
   "outputs": [
    {
     "name": "stdout",
     "output_type": "stream",
     "text": [
      "duplicats:  False\n",
      "steps:  36\n"
     ]
    }
   ],
   "source": [
    "result,steps = has_duplicate_value([1,2,3,4,5,6])\n",
    "print(\"duplicats: \",result)\n",
    "print(\"steps: \",steps)"
   ]
  },
  {
   "cell_type": "markdown",
   "id": "72123b45",
   "metadata": {},
   "source": [
    "# A LINEAR SOLUTION"
   ]
  },
  {
   "cell_type": "code",
   "execution_count": null,
   "id": "7488d7ad",
   "metadata": {},
   "outputs": [],
   "source": [
    "def has_duplicate_value(array):\n",
    "    existing_numbers = [0]*11\n",
    "\n",
    "    for i in range(len(array)):\n",
    "        if existing_numbers[array[i]] == 1:\n",
    "            return True\n",
    "        else:\n",
    "            existing_numbers[array[i]] =1\n",
    "    return False"
   ]
  },
  {
   "cell_type": "code",
   "execution_count": 24,
   "id": "5639eb57",
   "metadata": {},
   "outputs": [
    {
     "data": {
      "text/plain": [
       "True"
      ]
     },
     "execution_count": 24,
     "metadata": {},
     "output_type": "execute_result"
    }
   ],
   "source": [
    "has_duplicate_value([1,2,1,3])"
   ]
  },
  {
   "cell_type": "markdown",
   "id": "67189a96",
   "metadata": {},
   "source": [
    "linear solution has an efficiney of O(N)"
   ]
  },
  {
   "cell_type": "code",
   "execution_count": 25,
   "id": "a4e2154c",
   "metadata": {},
   "outputs": [],
   "source": [
    "def has_duplicate_value(array):\n",
    "    steps = 0\n",
    "    existing_numbers = [0]*11\n",
    "\n",
    "    for i in range(len(array)):\n",
    "        steps +=1\n",
    "        if existing_numbers[array[i]] ==1:\n",
    "            return True,steps\n",
    "        else:\n",
    "            existing_numbers[array[i]] = 1  \n",
    "    return False,steps"
   ]
  },
  {
   "cell_type": "code",
   "execution_count": 26,
   "id": "6c2a14bd",
   "metadata": {},
   "outputs": [
    {
     "name": "stdout",
     "output_type": "stream",
     "text": [
      "result: True\n",
      "steps: 3\n"
     ]
    }
   ],
   "source": [
    "result,steps = has_duplicate_value([1,2,1,3])\n",
    "\n",
    "print(f\"result: {result}\")\n",
    "print(f\"steps: {steps}\")"
   ]
  },
  {
   "cell_type": "code",
   "execution_count": 27,
   "id": "424c904c",
   "metadata": {},
   "outputs": [
    {
     "name": "stdout",
     "output_type": "stream",
     "text": [
      "result: False\n",
      "steps: 5\n"
     ]
    }
   ],
   "source": [
    "result,steps = has_duplicate_value([1,2,3,4,5])\n",
    "\n",
    "print(f\"result: {result}\")\n",
    "print(f\"steps: {steps}\")"
   ]
  }
 ],
 "metadata": {
  "kernelspec": {
   "display_name": ".venv",
   "language": "python",
   "name": "python3"
  },
  "language_info": {
   "codemirror_mode": {
    "name": "ipython",
    "version": 3
   },
   "file_extension": ".py",
   "mimetype": "text/x-python",
   "name": "python",
   "nbconvert_exporter": "python",
   "pygments_lexer": "ipython3",
   "version": "3.13.3"
  }
 },
 "nbformat": 4,
 "nbformat_minor": 5
}
