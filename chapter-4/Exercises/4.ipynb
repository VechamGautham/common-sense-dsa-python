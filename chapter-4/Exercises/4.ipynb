{
 "cells": [
  {
   "cell_type": "markdown",
   "id": "2dad7992",
   "metadata": {},
   "source": [
    "1.“Replace the question marks in the following table to describe how many steps occur for a given number of data elements across various types of Big O:N ElementsO(N)O(log N)O(N2)100100??2000???”"
   ]
  },
  {
   "cell_type": "code",
   "execution_count": 4,
   "id": "6bae8c45",
   "metadata": {},
   "outputs": [
    {
     "name": "stdout",
     "output_type": "stream",
     "text": [
      "6.643856189774724\n",
      "10.965784284662087\n",
      "4000000\n"
     ]
    }
   ],
   "source": [
    "import math \n",
    "O = math.log2(100)\n",
    "O2 = math.log2(2000)\n",
    "square = (2000*2000)\n",
    "\n",
    "print(O)\n",
    "print(O2)\n",
    "print(square)"
   ]
  },
  {
   "cell_type": "markdown",
   "id": "1e07ef45",
   "metadata": {},
   "source": [
    "1. \n",
    "<pre>\n",
    "if N = 100\n",
    "O(N) = 100\n",
    "O(log(N)) = 7\n",
    "O(N^2) = 10000\n",
    "\n",
    "if N = 2000\n",
    "O(N) = 2000\n",
    "O(log(N)) = 11\n",
    "O(N^2) = 4000000\n",
    "</pre>"
   ]
  },
  {
   "cell_type": "markdown",
   "id": "615e847b",
   "metadata": {},
   "source": [
    "2.“If we have an O(N2) algorithm that processes an array and find that it takes 256 steps, what is the size of the array?”\n"
   ]
  },
  {
   "cell_type": "code",
   "execution_count": 5,
   "id": "e33cd0cf",
   "metadata": {},
   "outputs": [
    {
     "name": "stdout",
     "output_type": "stream",
     "text": [
      "the array size is 65536\n"
     ]
    }
   ],
   "source": [
    "array_size = (256\n",
    "*256)\n",
    "print(f\"the array size is {array_size}\")"
   ]
  },
  {
   "cell_type": "markdown",
   "id": "5dc5397c",
   "metadata": {},
   "source": [
    "3.“Use Big O notation to describe the time complexity of the following function. It finds the greatest product of any pair of two numbers within a given array:”\n",
    "\n"
   ]
  },
  {
   "cell_type": "code",
   "execution_count": 8,
   "id": "db90b393",
   "metadata": {},
   "outputs": [
    {
     "name": "stdout",
     "output_type": "stream",
     "text": [
      "product: 30\n",
      "value: (6, 5)\n"
     ]
    }
   ],
   "source": [
    "def greatest_product(array):\n",
    "    if len(array) < 2:\n",
    "        return None\n",
    "    greatest_product_number = array[0] *array[1]\n",
    "\n",
    "    for index_i,value_i in enumerate(array):\n",
    "        for index_j,value_j in enumerate(array):\n",
    "            if (index_i!=index_j) and (value_i*value_j)> greatest_product_number:\n",
    "                greatest_product_so_far = value_i*value_j\n",
    "                value = (value_i,value_j)\n",
    "    return greatest_product_so_far, value\n",
    "\n",
    "product,value = greatest_product([1,2,3,4,5,6])\n",
    "print(f\"product: {product}\")\n",
    "print(f\"value: {value}\")\n",
    "\n",
    "\n",
    " "
   ]
  },
  {
   "cell_type": "markdown",
   "id": "5c7217c1",
   "metadata": {},
   "source": [
    "3. O(N^2) is the efficiency for greatest_product()"
   ]
  },
  {
   "cell_type": "markdown",
   "id": "1a0290ef",
   "metadata": {},
   "source": [
    "4.“The following function finds the greatest single number within an array, but it has an efficiency of O(N2). Rewrite the function so that it becomes a speedy O(N):”"
   ]
  },
  {
   "cell_type": "code",
   "execution_count": 11,
   "id": "4e8d5fa2",
   "metadata": {},
   "outputs": [
    {
     "name": "stdout",
     "output_type": "stream",
     "text": [
      "6\n"
     ]
    }
   ],
   "source": [
    "def greatest_number(array):\n",
    "    greatest_number = 0\n",
    "    for i in array:\n",
    "        if i > greatest_number:\n",
    "            greatest_number = i\n",
    "    return i\n",
    "\n",
    "print(greatest_number([1,2,3,4,5,6]))\n",
    "\n"
   ]
  },
  {
   "cell_type": "markdown",
   "id": "b463a3ec",
   "metadata": {},
   "source": [
    "4. the above code has an efficincey of O(N)"
   ]
  }
 ],
 "metadata": {
  "kernelspec": {
   "display_name": ".venv",
   "language": "python",
   "name": "python3"
  },
  "language_info": {
   "codemirror_mode": {
    "name": "ipython",
    "version": 3
   },
   "file_extension": ".py",
   "mimetype": "text/x-python",
   "name": "python",
   "nbconvert_exporter": "python",
   "pygments_lexer": "ipython3",
   "version": "3.13.3"
  }
 },
 "nbformat": 4,
 "nbformat_minor": 5
}
