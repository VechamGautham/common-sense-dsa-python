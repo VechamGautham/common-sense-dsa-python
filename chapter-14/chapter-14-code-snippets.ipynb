{
 "cells": [
  {
   "cell_type": "markdown",
   "id": "2b486f26",
   "metadata": {},
   "source": [
    "# LINKED LIST"
   ]
  },
  {
   "cell_type": "markdown",
   "id": "bc74ba83",
   "metadata": {},
   "source": [
    "- **Node**: A basic unit of a data structure that contains data and a reference to the next node.  \n",
    "- **Linked List**: A linear data structure made up of connected nodes.  \n",
    "- Each node stores data and a pointer to the next node in the sequence.  \n",
    "- Linked lists allow efficient insertion and deletion but slower access compared to arrays."
   ]
  },
  {
   "cell_type": "markdown",
   "id": "c20a72b5",
   "metadata": {},
   "source": [
    "# IMPLEMENTATION OF LINKED LIST"
   ]
  },
  {
   "cell_type": "markdown",
   "id": "a2b04444",
   "metadata": {},
   "source": [
    "## Node class"
   ]
  },
  {
   "cell_type": "code",
   "execution_count": 287,
   "id": "0acb3443",
   "metadata": {},
   "outputs": [],
   "source": [
    "class Node():\n",
    "    def __init__(self,data):\n",
    "        self.data = data \n",
    "        self.next_node = None"
   ]
  },
  {
   "cell_type": "code",
   "execution_count": 288,
   "id": "a9ca2bf9",
   "metadata": {},
   "outputs": [],
   "source": [
    "node_1 = Node(\"once\")\n",
    "node_2 = Node(\"upon\")\n",
    "node_3 = Node(\"a\")\n",
    "node_4 = Node(\"time\")\n",
    "\n",
    "node_1.next_node = node_2 \n",
    "node_2.next_node = node_3\n",
    "node_3.next_node = node_4 \n"
   ]
  },
  {
   "cell_type": "markdown",
   "id": "bc78fdbc",
   "metadata": {},
   "source": [
    "## Linkedlist class"
   ]
  },
  {
   "cell_type": "code",
   "execution_count": 289,
   "id": "3a4ebab5",
   "metadata": {},
   "outputs": [],
   "source": [
    "class LinkedList:\n",
    "   def __init__(self,first_node = None):\n",
    "    self.first_node = first_node \n",
    "\n",
    "list = LinkedList(node_1) # tracking first_node "
   ]
  },
  {
   "cell_type": "markdown",
   "id": "e48daa51",
   "metadata": {},
   "source": [
    "# CODE IMPLEMENTATION : LINKED LIST READING"
   ]
  },
  {
   "cell_type": "code",
   "execution_count": 290,
   "id": "d8627d24",
   "metadata": {},
   "outputs": [],
   "source": [
    "class LinkedList():\n",
    "    def __init__(self,first_node =None):\n",
    "        self.first_node = first_node\n",
    "    \n",
    "    def read(self,index):\n",
    "        current_node = self.first_node \n",
    "        current_index = 0 \n",
    "\n",
    "        while current_index < index :\n",
    "            current_node = current_node.next_node\n",
    "            current_index += 1\n",
    "\n",
    "        if not current_node:\n",
    "            return None \n",
    "        return current_node.data\n",
    "\n",
    "\n",
    "list = LinkedList(node_1)"
   ]
  },
  {
   "cell_type": "code",
   "execution_count": 291,
   "id": "7efe0631",
   "metadata": {},
   "outputs": [
    {
     "data": {
      "text/plain": [
       "'time'"
      ]
     },
     "execution_count": 291,
     "metadata": {},
     "output_type": "execute_result"
    }
   ],
   "source": [
    "list.read(3)"
   ]
  },
  {
   "cell_type": "markdown",
   "id": "8097c712",
   "metadata": {},
   "source": [
    "# CODE IMPLEMENTATION : LINKED LIST SEARCHING"
   ]
  },
  {
   "cell_type": "code",
   "execution_count": 292,
   "id": "ec88e38f",
   "metadata": {},
   "outputs": [],
   "source": [
    "class LinkedList():\n",
    "    def __init__(self,first_node =None):\n",
    "        self.first_node = first_node\n",
    "    \n",
    "    def search(self,value):\n",
    "        current_node = self.first_node \n",
    "        current_index = 0 \n",
    "\n",
    "        while True :\n",
    "            if current_node.data == value :\n",
    "                return current_index \n",
    "            \n",
    "            current_node = current_node.next_node\n",
    "            \n",
    "            if not current_node:\n",
    "                break \n",
    "            current_index +=1 \n",
    "        return None\n",
    "\n",
    "\n",
    "list = LinkedList(node_1)"
   ]
  },
  {
   "cell_type": "code",
   "execution_count": 293,
   "id": "eb2b53c1",
   "metadata": {},
   "outputs": [
    {
     "data": {
      "text/plain": [
       "3"
      ]
     },
     "execution_count": 293,
     "metadata": {},
     "output_type": "execute_result"
    }
   ],
   "source": [
    "list.search(\"time\")"
   ]
  },
  {
   "cell_type": "markdown",
   "id": "09a6e37f",
   "metadata": {},
   "source": [
    "# CODE IMPLEMENTATION : LINKED LIST SEARCHING"
   ]
  },
  {
   "cell_type": "markdown",
   "id": "61ec9908",
   "metadata": {},
   "source": [
    "### 📌 Insertion in Arrays vs Linked Lists (with traversal from start)\n",
    "\n",
    "| Insertion Type          | Array                                    | Linked List                             |\n",
    "|-------------------------|-------------------------------------------|------------------------------------------|\n",
    "| **Insert at beginning** | ❌ O(n) — shift all elements               | ✅ O(1) — update head pointer             |\n",
    "| **Insert in middle**    | ❌ O(n) — traverse + shift after index     | ✅ O(n) — traverse + update pointers      |\n",
    "| **Insert at end**       | ✅ O(1) — if space, no shift needed        | ❌ O(n) — must traverse to the tail       |\n",
    "\n",
    "### 🧠 Key Insight (with traversal):\n",
    "- **Both must traverse** if index isn’t known ahead of time.\n",
    "- **Arrays** suffer from **shifting elements** after insertion.\n",
    "- **Linked Lists** suffer from **slower traversal** but have **cheaper pointer updates** once found.\n",
    "- They behave **oppositely**:\n",
    "  - Use **arrays** if insertion is mostly at the **end**.\n",
    "  - Use **linked lists** if insertion is at the **start or middle** and you're okay with traversal cost."
   ]
  },
  {
   "cell_type": "code",
   "execution_count": 294,
   "id": "de4ed095",
   "metadata": {},
   "outputs": [],
   "source": [
    "class LinkedList():\n",
    "    def __init__(self,first_node =None):\n",
    "        self.first_node = first_node\n",
    "    \n",
    "    def insert(self,index,value):\n",
    "        new_node = Node(value)\n",
    "\n",
    "        if index == 0:\n",
    "            new_node.next_node = self.first_node \n",
    "            self.first_node = new_node \n",
    "            return \n",
    "        \n",
    "        current_node = self.first_node \n",
    "        current_index = 0 \n",
    "\n",
    "        while current_index < (index -1):\n",
    "            current_node = current_node.next_node \n",
    "            current_index += 1 \n",
    "        new_node.next_node = current_node.next_node\n",
    "        current_node.next_node = new_node\n",
    "        \n",
    "    def print_list(self):\n",
    "        current_node = self.first_node\n",
    "        index = 0\n",
    "        while current_node:\n",
    "            print(f\"Index {index}: {current_node.data}\")\n",
    "            current_node = current_node.next_node\n",
    "            index += 1\n",
    "\n",
    "\n",
    "list = LinkedList(node_1)"
   ]
  },
  {
   "cell_type": "code",
   "execution_count": 295,
   "id": "246f8465",
   "metadata": {},
   "outputs": [
    {
     "name": "stdout",
     "output_type": "stream",
     "text": [
      "Index 0: once\n",
      "Index 1: upon\n",
      "Index 2: blub\n",
      "Index 3: a\n",
      "Index 4: time\n"
     ]
    }
   ],
   "source": [
    "list.insert(2,\"blub\")\n",
    "list.print_list()"
   ]
  },
  {
   "cell_type": "markdown",
   "id": "4294ff0f",
   "metadata": {},
   "source": [
    "# CODE IMPLEMENTATION : LINKED LIST DELETION"
   ]
  },
  {
   "cell_type": "code",
   "execution_count": 296,
   "id": "25b0679f",
   "metadata": {},
   "outputs": [],
   "source": [
    "class LinkedList():\n",
    "\n",
    "    def __init__(self,first_node = None):\n",
    "        self.first_node = first_node \n",
    "    \n",
    "    def delete(self,index):\n",
    "        if index == 0:\n",
    "            self.first_node = self.first_node.next_node \n",
    "            return \n",
    "        \n",
    "        current_node = self.first_node \n",
    "        current_index = 0 \n",
    "\n",
    "        while current_index < (index-1):\n",
    "            current_node = current_node.next_node \n",
    "            current_index += 1 \n",
    "\n",
    "        node_after_deleted_node = current_node.next_node.next_node \n",
    "        current_node.next_node = node_after_deleted_node \n",
    "    \n",
    "    def print_list(self):\n",
    "        current_node = self.first_node \n",
    "        index = 0 \n",
    "\n",
    "        while current_node :\n",
    "            print(f\"index{index}: {current_node.data}\")\n",
    "            current_node = current_node.next_node\n",
    "            index += 1\n",
    "\n",
    "list = LinkedList(node_1)\n",
    "    \n"
   ]
  },
  {
   "cell_type": "code",
   "execution_count": 297,
   "id": "46416c66",
   "metadata": {},
   "outputs": [
    {
     "name": "stdout",
     "output_type": "stream",
     "text": [
      "before deletion\n",
      "####################################################################################################\n",
      "index0: once\n",
      "index1: upon\n",
      "index2: blub\n",
      "index3: a\n",
      "index4: time\n",
      "after deletion\n",
      "####################################################################################################\n",
      "index0: once\n",
      "index1: upon\n",
      "index2: a\n",
      "index3: time\n"
     ]
    }
   ],
   "source": [
    "print(\"before deletion\")\n",
    "print(\"#\"*100)\n",
    "list.print_list()\n",
    "list.delete(2)\n",
    "print(\"after deletion\")\n",
    "print(\"#\"*100)\n",
    "list.print_list()"
   ]
  },
  {
   "cell_type": "markdown",
   "id": "6b4d936e",
   "metadata": {},
   "source": [
    "# ENTIRE LINKED LIST CLASS"
   ]
  },
  {
   "cell_type": "code",
   "execution_count": 298,
   "id": "9f83abde",
   "metadata": {},
   "outputs": [],
   "source": [
    "class Node():\n",
    "\n",
    "    def __init__(self,data):\n",
    "        self.data = data \n",
    "        self.next_node = None "
   ]
  },
  {
   "cell_type": "code",
   "execution_count": 299,
   "id": "283d359c",
   "metadata": {},
   "outputs": [],
   "source": [
    "node_1 = Node(\"once\")\n",
    "node_2 = Node(\"upon\")\n",
    "node_3 = Node(\"a\")\n",
    "node_4 = Node(\"time\")\n",
    "\n",
    "node_1.next_node = node_2 \n",
    "node_2.next_node = node_3\n",
    "node_3.next_node = node_4 "
   ]
  },
  {
   "cell_type": "code",
   "execution_count": 300,
   "id": "ce62a207",
   "metadata": {},
   "outputs": [
    {
     "name": "stdout",
     "output_type": "stream",
     "text": [
      "a\n",
      "2\n",
      "2\n",
      "before deletion\n",
      "####################################################################################################\n",
      "index0: value once\n",
      "index1: value upon\n",
      "index2: value blub\n",
      "index3: value a\n",
      "index4: value time\n",
      "None\n",
      "after deletion\n",
      "####################################################################################################\n",
      "index0: value once\n",
      "index1: value upon\n",
      "index2: value a\n",
      "index3: value time\n",
      "None\n"
     ]
    }
   ],
   "source": [
    "class LinkedList():\n",
    "    def __init__(self,first_node):\n",
    "        self.first_node = first_node \n",
    "    \"\"\"read method \"\"\"\n",
    "    def read(self,index):\n",
    "        current_node = self.first_node \n",
    "        current_index = 0 \n",
    "\n",
    "        while current_index < index :\n",
    "            current_node = current_node.next_node \n",
    "            current_index += 1   \n",
    "\n",
    "        if not current_node :\n",
    "            return None\n",
    "        return current_node.data\n",
    "\n",
    "    \"\"\"search method\"\"\"\n",
    "    def search(self,value):\n",
    "        current_node = self.first_node \n",
    "        current_index = 0 \n",
    "\n",
    "        while True: \n",
    "            if current_node.data == value:\n",
    "                return current_index\n",
    "\n",
    "            if not current_node:\n",
    "                return None \n",
    "            current_node = current_node.next_node\n",
    "            current_index += 1\n",
    "\n",
    "    \"\"\"insert method\"\"\"\n",
    "    def insert(self,value,index):\n",
    "        new_node = Node(value)\n",
    "        if index == 0:\n",
    "            new_node.next_node = self.first_node \n",
    "            self.first_node = new_node \n",
    "        current_node = self.first_node \n",
    "        current_index = 0 \n",
    "\n",
    "        while current_index < (index-1):\n",
    "            current_node = current_node.next_node \n",
    "            current_index += 1 \n",
    "        \n",
    "        new_node.next_node = current_node.next_node \n",
    "        current_node.next_node = new_node \n",
    "    \n",
    "    \"\"\"delete method\"\"\"\n",
    "    def delete(self,index):\n",
    "        if index == 0 :\n",
    "            self.first_node = self.first_node.next_node \n",
    "            return \n",
    "        current_node = self.first_node \n",
    "        current_index = 0\n",
    "        while current_index < (index-1):\n",
    "            current_node = current_node.next_node \n",
    "            current_index += 1 \n",
    "        node_after_delete_node = current_node.next_node.next_node \n",
    "        current_node.next_node = node_after_delete_node \n",
    "\n",
    "    \"\"\"print_list method\"\"\"\n",
    "\n",
    "    def print_list(self):\n",
    "        current_node = self.first_node \n",
    "        current_index = 0 \n",
    "\n",
    "        while current_node:\n",
    "            print(f\"index{current_index}: value {current_node.data}\")\n",
    "            current_node = current_node.next_node \n",
    "            current_index += 1 \n",
    "\n",
    "list = LinkedList(node_1)\n",
    "\n",
    "print(list.read(2))\n",
    "print(list.search(\"a\"))\n",
    "list.insert(\"blub\",2)\n",
    "print(list.search(\"blub\"))\n",
    "print(\"before deletion\")\n",
    "print(\"#\"*100)\n",
    "print(list.print_list())\n",
    "list.delete(2)\n",
    "print(\"after deletion\")\n",
    "print(\"#\"*100)\n",
    "print(list.print_list())\n",
    "\n"
   ]
  },
  {
   "cell_type": "markdown",
   "id": "f5f59f34",
   "metadata": {},
   "source": [
    "# LINKED LISTS IN ACTION"
   ]
  },
  {
   "cell_type": "markdown",
   "id": "a7bd25d1",
   "metadata": {},
   "source": [
    "### 🧩 Problem: Cleaning a List of Email Addresses\n",
    "\n",
    "You are given a list of email addresses.  \n",
    "Your task is to **scan through the list** and **remove all email addresses that are invalid** (e.g., missing '@', invalid format, etc.).\n",
    "\n",
    "The list could contain hundreds or thousands of entries, and a significant portion (e.g., 10%) may be invalid.\n",
    "\n",
    "---\n",
    "\n",
    "### ❓ What We’re Solving\n",
    "\n",
    "> How can we **efficiently traverse and clean** the list, and which data structure is better for this — an **array (list)** or a **linked list**?\n",
    "\n",
    "---\n",
    "\n",
    "### 📧 Why Linked Lists Are Better Than Arrays for Removing Invalid Emails\n",
    "\n",
    "#### ✅ Traversal (Same for Both)\n",
    "- You must check every email one by one.\n",
    "- This takes **O(N)** time whether you're using an array or a linked list.\n",
    "\n",
    "---\n",
    "\n",
    "#### ❌ Deletion in Arrays\n",
    "- Arrays store elements in **contiguous memory**.\n",
    "- When you remove an item, all elements **after it** must shift one position to the left.\n",
    "- This shifting takes **O(N)** time per deletion.\n",
    "- If you delete many items (e.g., 10 out of 100), this becomes **O(N²)** in the worst case.\n",
    "\n",
    "---\n",
    "\n",
    "#### ✅ Deletion in Linked Lists\n",
    "- Linked lists store elements as **separate nodes** connected by pointers.\n",
    "- To delete a node, you just **re-point the previous node** to skip the current one.\n",
    "- This takes only **O(1)** time per deletion.\n",
    "- As you traverse the list, you can delete invalid emails on the spot without shifting.\n",
    "- The total operation remains **O(N)** even if you delete many items.\n",
    "\n",
    "---\n",
    "\n",
    "### 🧠 Key Takeaway:\n",
    "- Arrays are inefficient for frequent deletions because they require shifting elements.\n",
    "- Linked lists allow efficient deletions during traversal by simply updating pointers.\n",
    "- In problems that involve **scanning and removing multiple elements**, linked lists are the better choice."
   ]
  },
  {
   "cell_type": "markdown",
   "id": "97bbea1b",
   "metadata": {},
   "source": [
    "# DOUBLY LINKED LIST "
   ]
  },
  {
   "cell_type": "markdown",
   "id": "7baf6151",
   "metadata": {},
   "source": [
    "### 🔄 Doubly Linked Lists\n",
    "\n",
    "Linked lists come in various forms. So far, we've focused on the **classic (singly) linked list**, where each node points only to the next node. But with a few modifications, we can extend its capabilities.\n",
    "\n",
    "One such variant is the **Doubly Linked List**.\n",
    "\n",
    "- In a **doubly linked list**, each node has **two links**:\n",
    "  - One link points to the **next node**\n",
    "  - The other link points to the **previous node**\n",
    "- Additionally, the list tracks **both the head and the tail**, unlike singly linked lists which often only track the head.\n",
    "\n",
    "This structure gives the doubly linked list more flexibility, such as:\n",
    "- Traversing in **both directions**\n",
    "- Easier deletion and insertion from either end"
   ]
  },
  {
   "cell_type": "code",
   "execution_count": 301,
   "id": "abe0b403",
   "metadata": {},
   "outputs": [],
   "source": [
    "class Node:\n",
    "    def __init__(self,data):\n",
    "        self.data = data \n",
    "        self.next_node = None \n",
    "        self.previous__node = None "
   ]
  },
  {
   "cell_type": "code",
   "execution_count": 302,
   "id": "6047189a",
   "metadata": {},
   "outputs": [],
   "source": [
    "class DoublyLinkedList:\n",
    "\n",
    "    def __init__(self,first_node = None, last_node = None):\n",
    "        self.first_node = first_node\n",
    "        self.last_node = last_node \n",
    "        "
   ]
  },
  {
   "cell_type": "markdown",
   "id": "6cd1bd94",
   "metadata": {},
   "source": [
    "# CODE IMPLEMENTATION : DOUBLY LINKED LIST INSERTION"
   ]
  },
  {
   "cell_type": "code",
   "execution_count": 303,
   "id": "b25948fc",
   "metadata": {},
   "outputs": [],
   "source": [
    "def append(self,value):\n",
    "    new_node = Node(value)\n",
    "\n",
    "    if not self.first_node:\n",
    "        self.first_node = new_node \n",
    "        self.last_node = new_node \n",
    "    else:\n",
    "        new_node.previous_node = self.last_node \n",
    "        self.last_node.next_node = new_node \n",
    "        self.last_node = new_node "
   ]
  },
  {
   "cell_type": "markdown",
   "id": "247ebed5",
   "metadata": {},
   "source": [
    "# QUEUES AS DOUBLY LINKED LISTS"
   ]
  },
  {
   "cell_type": "markdown",
   "id": "e804f254",
   "metadata": {},
   "source": [
    "### 🧃 Queues as Doubly Linked Lists\n",
    "\n",
    "A **queue** is an abstract data type where:\n",
    "- Data is **inserted at the end**\n",
    "- Data is **removed from the front**\n",
    "- This follows the **FIFO (First In, First Out)** principle\n",
    "\n",
    "---\n",
    "\n",
    "### 🔄 Why Use a Doubly Linked List for a Queue?\n",
    "\n",
    "A **doubly linked list** is ideal for implementing a queue because:\n",
    "\n",
    "- It has **direct access to both the front and end** of the list\n",
    "- It can:\n",
    "  - **Insert at the end in O(1)** time\n",
    "  - **Remove from the front in O(1)** time\n",
    "\n",
    "This makes it much more efficient than arrays for queue operations, where shifting elements would otherwise take O(n) time.\n",
    "\n",
    "---\n",
    "\n",
    "### 🧠 Key Insight:\n",
    "Doubly linked lists allow **constant-time enqueue and dequeue** operations, making them a perfect fit for implementing queues efficiently."
   ]
  },
  {
   "cell_type": "markdown",
   "id": "caf05d59",
   "metadata": {},
   "source": [
    "# CODE IMPLEMENTATION: QUEUE BUILT UPON A DOUBLY LINKED LIST "
   ]
  },
  {
   "cell_type": "code",
   "execution_count": 304,
   "id": "48e53b38",
   "metadata": {},
   "outputs": [],
   "source": [
    "class Node:\n",
    "    def __init__(self,data):\n",
    "        self.data = data \n",
    "        self.next_node = None \n",
    "        self.previous__node = None "
   ]
  },
  {
   "cell_type": "code",
   "execution_count": 305,
   "id": "bdc06e0c",
   "metadata": {},
   "outputs": [],
   "source": [
    "class DoublyLinkedList:\n",
    "\n",
    "    def __init__(self,first_node = None,last_node= None):\n",
    "        self.first_node = first_node \n",
    "        self.last_node = last_node \n",
    "    \n",
    "    def append(self,value):\n",
    "        new_node = Node(value)\n",
    "\n",
    "        if not self.first_node:\n",
    "            self.first_node = new_node \n",
    "            self.last_node = new_node \n",
    "        else:\n",
    "            new_node.previous_node = self.last_node \n",
    "            self.last_node.next_node = new_node \n",
    "            self.last_node = new_node \n",
    "    \n",
    "    def pop_head(self):\n",
    "        popped_node = self.first_node \n",
    "        self.first_node = self.first_node.next_node \n",
    "        self.first_node.previous_node = None \n",
    "        return popped_node\n",
    "\n",
    "\n"
   ]
  },
  {
   "cell_type": "code",
   "execution_count": 306,
   "id": "4441124b",
   "metadata": {},
   "outputs": [],
   "source": [
    "class Queue:\n",
    "    def __init__(self):\n",
    "        self.data = DoublyLinkedList()\n",
    "    \n",
    "    def enqueue(self,element):\n",
    "        self.data.append(element)\n",
    "    \n",
    "    def dequeue(self):\n",
    "        dequeued_node = self.data.pop_head()\n",
    "        return dequeued_node.data \n",
    "    \n",
    "    def read(self):\n",
    "        if not self.data.first_node:\n",
    "            return None \n",
    "        return self.data.frist_node.data\n"
   ]
  },
  {
   "cell_type": "code",
   "execution_count": 307,
   "id": "00ebb7ca",
   "metadata": {},
   "outputs": [
    {
     "data": {
      "text/plain": [
       "'hello'"
      ]
     },
     "execution_count": 307,
     "metadata": {},
     "output_type": "execute_result"
    }
   ],
   "source": [
    "Q = Queue()\n",
    "\n",
    "Q.data.append(\"hello\")\n",
    "\n",
    "Q.data.first_node.data"
   ]
  },
  {
   "cell_type": "code",
   "execution_count": 308,
   "id": "e04a6ccd",
   "metadata": {},
   "outputs": [
    {
     "data": {
      "text/plain": [
       "'word'"
      ]
     },
     "execution_count": 308,
     "metadata": {},
     "output_type": "execute_result"
    }
   ],
   "source": [
    "Q.data.append(\"word\")\n",
    "Q.data.first_node.next_node.data"
   ]
  },
  {
   "cell_type": "code",
   "execution_count": 309,
   "id": "8b548198",
   "metadata": {},
   "outputs": [
    {
     "data": {
      "text/plain": [
       "'hello'"
      ]
     },
     "execution_count": 309,
     "metadata": {},
     "output_type": "execute_result"
    }
   ],
   "source": [
    "Q.data.first_node.next_node.previous_node.data"
   ]
  },
  {
   "cell_type": "code",
   "execution_count": 310,
   "id": "19eeb979",
   "metadata": {},
   "outputs": [
    {
     "data": {
      "text/plain": [
       "'word'"
      ]
     },
     "execution_count": 310,
     "metadata": {},
     "output_type": "execute_result"
    }
   ],
   "source": [
    "Q.data.last_node.data"
   ]
  },
  {
   "cell_type": "code",
   "execution_count": 311,
   "id": "30ec126d",
   "metadata": {},
   "outputs": [
    {
     "data": {
      "text/plain": [
       "'hello'"
      ]
     },
     "execution_count": 311,
     "metadata": {},
     "output_type": "execute_result"
    }
   ],
   "source": [
    "Q.data.append(\"python\")\n",
    "Q.data.pop_head().data"
   ]
  }
 ],
 "metadata": {
  "kernelspec": {
   "display_name": ".venv",
   "language": "python",
   "name": "python3"
  },
  "language_info": {
   "codemirror_mode": {
    "name": "ipython",
    "version": 3
   },
   "file_extension": ".py",
   "mimetype": "text/x-python",
   "name": "python",
   "nbconvert_exporter": "python",
   "pygments_lexer": "ipython3",
   "version": "3.13.3"
  }
 },
 "nbformat": 4,
 "nbformat_minor": 5
}
