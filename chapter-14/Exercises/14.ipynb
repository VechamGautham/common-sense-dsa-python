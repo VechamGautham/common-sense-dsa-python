{
 "cells": [
  {
   "cell_type": "markdown",
   "id": "04603537",
   "metadata": {},
   "source": [
    "# Node Classs"
   ]
  },
  {
   "cell_type": "code",
   "execution_count": 18,
   "id": "448b437b",
   "metadata": {},
   "outputs": [],
   "source": [
    "class Node():\n",
    "\n",
    "    def __init__(self,data):\n",
    "        self.data = data \n",
    "        self.next_node = None "
   ]
  },
  {
   "cell_type": "markdown",
   "id": "a6d7e976",
   "metadata": {},
   "source": [
    "# MANUAL NODES"
   ]
  },
  {
   "cell_type": "code",
   "execution_count": 19,
   "id": "18124f63",
   "metadata": {},
   "outputs": [],
   "source": [
    "node_1 = Node(\"once\")\n",
    "node_2 = Node(\"upon\")\n",
    "node_3 = Node(\"a\")\n",
    "node_4 = Node(\"time\")\n",
    "\n",
    "node_1.next_node = node_2 \n",
    "node_2.next_node = node_3\n",
    "node_3.next_node = node_4 "
   ]
  },
  {
   "cell_type": "markdown",
   "id": "d87538de",
   "metadata": {},
   "source": [
    "# LINKED LIST CLASS"
   ]
  },
  {
   "cell_type": "code",
   "execution_count": 20,
   "id": "8c5a8d35",
   "metadata": {},
   "outputs": [],
   "source": [
    "class LinkedList():\n",
    "    def __init__(self,first_node):\n",
    "        self.first_node = first_node \n",
    "    \"\"\"read method \"\"\"\n",
    "    def read(self,index):\n",
    "        current_node = self.first_node \n",
    "        current_index = 0 \n",
    "\n",
    "        while current_index < index :\n",
    "            current_node = current_node.next_node \n",
    "            current_index += 1   \n",
    "\n",
    "        if not current_node :\n",
    "            return None\n",
    "        return current_node.data\n",
    "\n",
    "    \"\"\"search method\"\"\"\n",
    "    def search(self,value):\n",
    "        current_node = self.first_node \n",
    "        current_index = 0 \n",
    "\n",
    "        while True: \n",
    "            if current_node.data == value:\n",
    "                return current_index\n",
    "\n",
    "            if not current_node:\n",
    "                return None \n",
    "            current_node = current_node.next_node\n",
    "            current_index += 1\n",
    "\n",
    "    \"\"\"insert method\"\"\"\n",
    "    def insert(self,value,index):\n",
    "        new_node = Node(value)\n",
    "        if index == 0:\n",
    "            new_node.next_node = self.first_node \n",
    "            self.first_node = new_node \n",
    "        current_node = self.first_node \n",
    "        current_index = 0 \n",
    "\n",
    "        while current_index < (index-1):\n",
    "            current_node = current_node.next_node \n",
    "            current_index += 1 \n",
    "        \n",
    "        new_node.next_node = current_node.next_node \n",
    "        current_node.next_node = new_node \n",
    "    \n",
    "    \"\"\"delete method\"\"\"\n",
    "    def delete(self,index):\n",
    "        if index == 0 :\n",
    "            self.first_node = self.first_node.next_node \n",
    "            return \n",
    "        current_node = self.first_node \n",
    "        current_index = 0\n",
    "        while current_index < (index-1):\n",
    "            current_node = current_node.next_node \n",
    "            current_index += 1 \n",
    "        node_after_delete_node = current_node.next_node.next_node \n",
    "        current_node.next_node = node_after_delete_node \n",
    "\n",
    "    \"\"\"print_list method\"\"\"\n",
    "\n",
    "    def print_list(self):\n",
    "        current_node = self.first_node \n",
    "        current_index = 0 \n",
    "\n",
    "        while current_node:\n",
    "            print(f\"index{current_index}: value {current_node.data}\")\n",
    "            current_node = current_node.next_node \n",
    "            current_index += 1 \n",
    "\n",
    "\n",
    "\n",
    "\n"
   ]
  },
  {
   "cell_type": "markdown",
   "id": "321de65f",
   "metadata": {},
   "source": [
    "1.“Add a method to the classic LinkedList class that prints all the values of the list.”"
   ]
  },
  {
   "cell_type": "code",
   "execution_count": 21,
   "id": "3cdc096d",
   "metadata": {},
   "outputs": [],
   "source": [
    "class LinkedList:\n",
    "    def __init__(self,first_node=None):\n",
    "        self.first_node = first_node \n",
    "    \n",
    "    def print_list(self):\n",
    "        current_node = self.first_node \n",
    "        current_index = 0 \n",
    "\n",
    "        while current_node :\n",
    "            print(f\" index {current_index}: node_data{current_node.data}\")\n",
    "            current_node = current_node.next_node \n",
    "            current_index += 1"
   ]
  },
  {
   "cell_type": "markdown",
   "id": "153531b9",
   "metadata": {},
   "source": [
    "2.“Add a method to the DoublyLinkedList class that prints all the values of the list in reverse order.”"
   ]
  },
  {
   "cell_type": "code",
   "execution_count": 22,
   "id": "b13df588",
   "metadata": {},
   "outputs": [],
   "source": [
    "class DoublyLinkedList:\n",
    "    def __init__(self,first_node=None,last_node=None):\n",
    "        self.first_node = first_node \n",
    "        self.last_node = last_node\n",
    "    \n",
    "    def reverse(self):\n",
    "        current_node = self.last_node \n",
    "        \n",
    "        while current_node:\n",
    "            print(F\"node_data in reverse order is {current_node.data}\")\n",
    "            current_node = current_node.previous_node "
   ]
  },
  {
   "cell_type": "markdown",
   "id": "d5841da2",
   "metadata": {},
   "source": [
    "modified code with index"
   ]
  },
  {
   "cell_type": "code",
   "execution_count": 23,
   "id": "ef51bf52",
   "metadata": {},
   "outputs": [],
   "source": [
    "class DoublyLinkedList:\n",
    "    def __init__(self,first_node=None,last_node = None):\n",
    "        self.first_node = first_node \n",
    "        self.last_node = last_node \n",
    "\n",
    "    def length(self):\n",
    "        count = 0 \n",
    "        current_node = self.first_node\n",
    "\n",
    "        while current_node :\n",
    "            current_node = current_node.next_node \n",
    "            count += 1 \n",
    "        \n",
    "        return count \n",
    "    \n",
    "    def reverse(self):\n",
    "        current_node = self.last_node \n",
    "        current_index = self.length() - 1\n",
    "\n",
    "        while current_node :\n",
    "            print(f\" index {current_index}: node_data{current_node.data}\")\n",
    "            current_node = current_node.previous_node \n",
    "            current_index -= 1        "
   ]
  },
  {
   "cell_type": "markdown",
   "id": "14d38cca",
   "metadata": {},
   "source": [
    "3.“Add a method to the classic LinkedList class that returns the last value from the list. Assume you don’t know how many elements are in the list.”"
   ]
  },
  {
   "cell_type": "code",
   "execution_count": 24,
   "id": "c2fcd8bd",
   "metadata": {},
   "outputs": [],
   "source": [
    "class LinkedList:\n",
    "    def __init__(self,first_node = None):\n",
    "        self.first_node = first_node\n",
    "    \n",
    "    def last_node(self):\n",
    "        current_node = self.first_node \n",
    "\n",
    "        if not current_node:\n",
    "            return None\n",
    "\n",
    "        while current_node.next_node: \n",
    "            current_node = current_node.next_node \n",
    "        \n",
    "        return current_node.data "
   ]
  },
  {
   "cell_type": "markdown",
   "id": "4a00eb46",
   "metadata": {},
   "source": [
    "4.“Here’s a tricky one. Add a method to the classic LinkedList class that reverses the list; that is, if the original list is A -> B -> C, all of the list’s links should change so that C -> B -> A.”"
   ]
  },
  {
   "cell_type": "code",
   "execution_count": 25,
   "id": "dd38cba4",
   "metadata": {},
   "outputs": [
    {
     "name": "stdout",
     "output_type": "stream",
     "text": [
      "index:  0: current_node: once\n",
      "index:  1: current_node: upon\n",
      "index:  2: current_node: a\n",
      "index:  3: current_node: time\n",
      "index:  0: current_node: time\n",
      "index:  1: current_node: a\n",
      "index:  2: current_node: upon\n",
      "index:  3: current_node: once\n"
     ]
    }
   ],
   "source": [
    "class LinkedList:\n",
    "\n",
    "    def __init__(self,first_node = None):\n",
    "        self.first_node = first_node \n",
    "    \n",
    "    def print_list(self):\n",
    "        current_node = self.first_node \n",
    "        current_index = 0  \n",
    "\n",
    "        while current_node:\n",
    "            print(f\"index:  {current_index}: current_node: {current_node.data}\")\n",
    "            current_node = current_node.next_node \n",
    "            current_index += 1 \n",
    "    \n",
    "    def reverse(self):\n",
    "        previous_node = None \n",
    "        current_node = self.first_node \n",
    "\n",
    "        while current_node:\n",
    "            next_node = current_node.next_node \n",
    "            current_node.next_node = previous_node \n",
    "\n",
    "            previous_node = current_node \n",
    "            current_node = next_node\n",
    "        self.first_node = previous_node\n",
    "\n",
    "    \n",
    "list = LinkedList(node_1) \n",
    "\n",
    "list.print_list()\n",
    "\n",
    "list.reverse()\n",
    "\n",
    "list.print_list()\n",
    "\n",
    "\n",
    "        \n"
   ]
  }
 ],
 "metadata": {
  "kernelspec": {
   "display_name": ".venv",
   "language": "python",
   "name": "python3"
  },
  "language_info": {
   "codemirror_mode": {
    "name": "ipython",
    "version": 3
   },
   "file_extension": ".py",
   "mimetype": "text/x-python",
   "name": "python",
   "nbconvert_exporter": "python",
   "pygments_lexer": "ipython3",
   "version": "3.13.3"
  }
 },
 "nbformat": 4,
 "nbformat_minor": 5
}
