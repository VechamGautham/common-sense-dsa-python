{
 "cells": [
  {
   "cell_type": "markdown",
   "id": "42dc5394",
   "metadata": {},
   "source": [
    "1.“Use Big O notation to describe the time complexity of the following function. The function returns True if the array is a 100-sum array, and False if it is not.\n",
    "A 100-sum array meets the following criteria:\n",
    "<pre>\n",
    ".Its first and last numbers add up to 100\n",
    ".Its second and second-to-last numbers add up to 100\n",
    ".Its third and third-to-last numbers add up to 100, and so on.”\n",
    "</pre>\n",
    "\n"
   ]
  },
  {
   "cell_type": "code",
   "execution_count": 1,
   "id": "4e24d50a",
   "metadata": {},
   "outputs": [],
   "source": [
    "def one_hundred_sum(array):\n",
    "    if (len(array)%2 != 0) or not array :\n",
    "        return False\n",
    "    \n",
    "    left_index = 0 \n",
    "    right_index = len(array) -1\n",
    "\n",
    "    while left_index < (len(array)//2):\n",
    "        if array[left_index] + array[right_index] != 100:\n",
    "            return False \n",
    "        \n",
    "        left_index += 1\n",
    "        right_index -=1\n",
    "    return True"
   ]
  },
  {
   "cell_type": "markdown",
   "id": "f417de77",
   "metadata": {},
   "source": [
    "1. actually its O(N/2) but since in big Oh terms its O(N)"
   ]
  },
  {
   "cell_type": "markdown",
   "id": "13523a77",
   "metadata": {},
   "source": [
    "2.“Use Big O notation to describe the time complexity of the following function. It merges two sorted arrays to create a new sorted array containing all the values from both arrays:”\n"
   ]
  },
  {
   "cell_type": "code",
   "execution_count": 25,
   "id": "66eae0cd",
   "metadata": {},
   "outputs": [],
   "source": [
    "def merge(array_1,array_2):\n",
    "    new_array = []\n",
    "    array_1_pointer = 0\n",
    "    array_2_pointer = 0\n",
    "\n",
    "   # loop through both the array till it finishes :\n",
    "    while array_1_pointer < len(array_1) or array_2_pointer < len(array_2): \n",
    "\n",
    "        # if array_1_ponter is reached then add array_2 number in the new array\n",
    "        if array_1_pointer >= len(array_1):\n",
    "            new_array.append(array_2[array_2_pointer])\n",
    "            array_2_pointer += 1\n",
    "        \n",
    "        # if array_2_pointer is reached at the end add array_1 number in the new array\n",
    "        elif array_2_pointer >= len(array_2):\n",
    "            new_array.append(array_1[array_1_pointer])\n",
    "            array_1_pointer += 1\n",
    "        \n",
    "        # if array_1_pointer element is less than array_2_pointer element \n",
    "        # add array_1_pointer number in the new_array\n",
    "        elif array_1[array_1_pointer] < array_2[array_2_pointer]:\n",
    "            new_array.append(array_1[array_1_pointer])\n",
    "            array_1_pointer += 1\n",
    "        \n",
    "        # last option would be if array_2_pointer element in less than array_1_pointer elemetn \n",
    "        # add array_2_pointer number in the new_array\n",
    "        else :\n",
    "            new_array[array_2[array_2_pointer]]\n",
    "            array_2_pointer += 1\n",
    "    return new_array\n",
    "\n",
    "\n"
   ]
  },
  {
   "cell_type": "code",
   "execution_count": 26,
   "id": "dd20c57b",
   "metadata": {},
   "outputs": [
    {
     "data": {
      "text/plain": [
       "[1, 2, 3, 4, 5, 6, 7, 8, 9]"
      ]
     },
     "execution_count": 26,
     "metadata": {},
     "output_type": "execute_result"
    }
   ],
   "source": [
    "merge([1,2,3,4,5],[6,7,8,9])"
   ]
  },
  {
   "cell_type": "markdown",
   "id": "da769bb8",
   "metadata": {},
   "source": [
    "2. O(N) is the efficincey of merge()"
   ]
  },
  {
   "cell_type": "markdown",
   "id": "55db1e7e",
   "metadata": {},
   "source": [
    "3.“Use Big O notation to describe the time complexity of the following function. This function solves a famous problem known as “finding a needle in the haystack.”\n",
    "<pre>\n",
    "Both the needle and haystack are strings. For example, if the needle is \"def\" and the haystack is \"abcdefghi\", the needle is contained somewhere in the haystack, as \"def\" is a substring of \"abcdefghi\". However, if the needle is \"dd\", it cannot be found in the haystack of \"abcdefghi\".\n",
    "This function returns True or False depending on whether the needle can be found in the haystack:”\n",
    "</pre>"
   ]
  },
  {
   "cell_type": "code",
   "execution_count": 27,
   "id": "86ba9f1a",
   "metadata": {},
   "outputs": [],
   "source": [
    "def find_needle(needle,haystack):\n",
    "    needle_start_index = 0\n",
    "\n",
    "    while needle_start_index <= len(haystack) - len(needle):\n",
    "        if needle[0] == haystack[needle_start_index]:\n",
    "            needle_offset = 0 \n",
    "\n",
    "            while needle_offset < len(needle):\n",
    "                if (needle[needle_offset]!= haystack[needle_start_index + needle_offset]):\n",
    "                    break \n",
    "                else :\n",
    "                    if needle_offset == len(needle) -1 :\n",
    "                        return True \n",
    "\n",
    "                needle_offset += 1\n",
    "        needle_start_index += 1\n",
    "    return False"
   ]
  },
  {
   "cell_type": "code",
   "execution_count": 28,
   "id": "30c560fc",
   "metadata": {},
   "outputs": [
    {
     "data": {
      "text/plain": [
       "True"
      ]
     },
     "execution_count": 28,
     "metadata": {},
     "output_type": "execute_result"
    }
   ],
   "source": [
    "find_needle( \"def\",\"abcdefghi\")"
   ]
  },
  {
   "cell_type": "markdown",
   "id": "2acdfdef",
   "metadata": {},
   "source": [
    "3. worst case scenario O(N*M) average case scenario O(N) best case scenario O(1)"
   ]
  },
  {
   "cell_type": "markdown",
   "id": "c10c6748",
   "metadata": {},
   "source": [
    "“Use Big O notation to describe the time complexity of the following function. This function finds the greatest product of three numbers from a given array:”\n"
   ]
  },
  {
   "cell_type": "code",
   "execution_count": 29,
   "id": "e6fd9bdc",
   "metadata": {},
   "outputs": [],
   "source": [
    "def largest_product(array):\n",
    "    if len(array) < 3:\n",
    "        return None\n",
    "    largest_product_so_far = array[0]*array[1]*array[2]\n",
    "    i = 0\n",
    "\n",
    "    while i < len(array):\n",
    "        j = i+ 1\n",
    "\n",
    "        while j < len(array):\n",
    "            k = j +1 \n",
    "\n",
    "            while k < len(array):\n",
    "                if array[i] * array[j] * array[k] > largest_product_so_far:\n",
    "                    largest_product_so_far = array[i] * array[j] * array[k]\n",
    "                k +=1\n",
    "            j += 1\n",
    "\n",
    "        i += 1\n",
    "    return largest_product_so_far\n"
   ]
  },
  {
   "cell_type": "code",
   "execution_count": 30,
   "id": "b27ce39d",
   "metadata": {},
   "outputs": [
    {
     "data": {
      "text/plain": [
       "120"
      ]
     },
     "execution_count": 30,
     "metadata": {},
     "output_type": "execute_result"
    }
   ],
   "source": [
    "largest_product([2,3,4,5,6])"
   ]
  },
  {
   "cell_type": "markdown",
   "id": "81d3054c",
   "metadata": {},
   "source": [
    "4. O(N^3) is the efficiency of largest_product() its the best and worst case scenario "
   ]
  },
  {
   "cell_type": "markdown",
   "id": "b9211cad",
   "metadata": {},
   "source": [
    "<pre>\n",
    "5.“I once saw a joke aimed at HR people: “Want to immediately eliminate the unluckiest people from your hiring process? Just take half of the resumes on your desk and throw them in the trash.”\n",
    "If we were to write software that kept reducing a pile of resumes until we had one left, it might take the approach of alternating between throwing out the top half and the bottom half; that is, it will first eliminate the top half of the pile, and then proceed to eliminate the bottom half of what remains. It keeps alternating between eliminating the top and bottom until one lucky resume remains, and that’s who we’ll hire!\n",
    "Describe the efficiency of this function in terms of Big O:”\n",
    "</pre>\n"
   ]
  },
  {
   "cell_type": "code",
   "execution_count": 32,
   "id": "caae6ebb",
   "metadata": {},
   "outputs": [],
   "source": [
    "def pick_resume(resumes):\n",
    "    if not resumes:\n",
    "        return None\n",
    "    eliminate = \"top\"\n",
    "\n",
    "    while len(resumes) > 1:\n",
    "        midpoint = len(resumes)//2\n",
    "\n",
    "        if eliminate == \"top\":\n",
    "            resumes = resumes[:midpoint]\n",
    "            eliminate = \"bottom\"\n",
    "        elif eliminate == \"bottom\":\n",
    "            resumes = resumes[-midpoint:]\n",
    "            eliminate = \"top\"\n",
    "    return resumes[0]"
   ]
  },
  {
   "cell_type": "code",
   "execution_count": 33,
   "id": "ebd5808d",
   "metadata": {},
   "outputs": [
    {
     "data": {
      "text/plain": [
       "3"
      ]
     },
     "execution_count": 33,
     "metadata": {},
     "output_type": "execute_result"
    }
   ],
   "source": [
    "pick_resume([1,2,3,4,5,6,7,8,9])"
   ]
  },
  {
   "cell_type": "markdown",
   "id": "f0d739df",
   "metadata": {},
   "source": [
    "5. O(log(N)) is the efficiency of pick_resume()"
   ]
  }
 ],
 "metadata": {
  "kernelspec": {
   "display_name": ".venv",
   "language": "python",
   "name": "python3"
  },
  "language_info": {
   "codemirror_mode": {
    "name": "ipython",
    "version": 3
   },
   "file_extension": ".py",
   "mimetype": "text/x-python",
   "name": "python",
   "nbconvert_exporter": "python",
   "pygments_lexer": "ipython3",
   "version": "3.13.3"
  }
 },
 "nbformat": 4,
 "nbformat_minor": 5
}
